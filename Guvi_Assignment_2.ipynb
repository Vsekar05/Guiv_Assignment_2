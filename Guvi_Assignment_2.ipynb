{
  "cells": [
    {
      "cell_type": "markdown",
      "metadata": {
        "id": "6j3z6D045fS-"
      },
      "source": [
        "# Numpy\n",
        "\n"
      ]
    },
    {
      "cell_type": "markdown",
      "metadata": {
        "id": "XA8-AQKm5fTJ"
      },
      "source": [
        "#### 1. Import the numpy package under the name `np` (★☆☆) \n",
        "(**hint**: import … as …)"
      ]
    },
    {
      "cell_type": "code",
      "execution_count": null,
      "metadata": {
        "collapsed": true,
        "id": "bGCMAiRY5fTL"
      },
      "outputs": [],
      "source": [
        "import numpy as np"
      ]
    },
    {
      "cell_type": "markdown",
      "metadata": {
        "id": "wTSeI9XV5fTM"
      },
      "source": [
        "#### 2. Print the numpy version and the configuration (★☆☆) \n",
        "(**hint**: np.\\_\\_version\\_\\_, np.show\\_config)"
      ]
    },
    {
      "cell_type": "code",
      "execution_count": null,
      "metadata": {
        "id": "i6EWouAj5fTO",
        "colab": {
          "base_uri": "https://localhost:8080/"
        },
        "outputId": "71496838-965a-44b8-9536-b9ebe4bd62b3"
      },
      "outputs": [
        {
          "output_type": "stream",
          "name": "stdout",
          "text": [
            "1.21.5\n",
            "<function show at 0x7f409959e560>\n"
          ]
        }
      ],
      "source": [
        "k=np.__version__()\n",
        "m=np.show_config()\n",
        "print(k)\n",
        "print(m)"
      ]
    },
    {
      "cell_type": "markdown",
      "metadata": {
        "id": "Rf312WRo5fTQ"
      },
      "source": [
        "#### 3. Create a null vector of size 10 (★☆☆) \n",
        "(**hint**: np.zeros)"
      ]
    },
    {
      "cell_type": "code",
      "execution_count": null,
      "metadata": {
        "id": "1d9nMR-n5fTR",
        "colab": {
          "base_uri": "https://localhost:8080/"
        },
        "outputId": "2b88bf25-a85a-486d-e427-6e311cd2ad6f"
      },
      "outputs": [
        {
          "output_type": "stream",
          "name": "stdout",
          "text": [
            "[0. 0. 0. 0. 0. 0. 0. 0. 0. 0.]\n"
          ]
        }
      ],
      "source": [
        "x=np.zeros(10)\n",
        "print(x)"
      ]
    },
    {
      "cell_type": "markdown",
      "metadata": {
        "id": "nzaYkN3m5fTT"
      },
      "source": [
        "#### 4.  How to find the memory size of any array (★☆☆) \n",
        "(**hint**: size, itemsize)"
      ]
    },
    {
      "cell_type": "code",
      "execution_count": null,
      "metadata": {
        "id": "rVwUj6ew5fTV",
        "colab": {
          "base_uri": "https://localhost:8080/"
        },
        "outputId": "37439010-61fa-4363-dac0-7dfce5b2a3b4"
      },
      "outputs": [
        {
          "output_type": "stream",
          "name": "stdout",
          "text": [
            "[[[ 0  1  2  3]\n",
            "  [ 4  5  6  7]\n",
            "  [ 8  9 10 11]]\n",
            "\n",
            " [[12 13 14 15]\n",
            "  [16 17 18 19]\n",
            "  [20 21 22 23]]]\n",
            "(2, 3, 4) 24\n"
          ]
        }
      ],
      "source": [
        "k=np.arange(24).reshape(2,3,4)\n",
        "print(k)\n",
        "print(k.shape,k.size)"
      ]
    },
    {
      "cell_type": "markdown",
      "metadata": {
        "id": "JBiesTCh5fTW"
      },
      "source": [
        "#### 5.  How to get the documentation of the numpy add function from the command line? (★☆☆) \n",
        "(**hint**: np.info)"
      ]
    },
    {
      "cell_type": "code",
      "execution_count": null,
      "metadata": {
        "collapsed": true,
        "id": "cr2jynh15fTX"
      },
      "outputs": [],
      "source": [
        "np.info(np.add)"
      ]
    },
    {
      "cell_type": "markdown",
      "metadata": {
        "id": "sphaSYcx5fTY"
      },
      "source": [
        "#### 6.  Create a null vector of size 10 but the fifth value which is 1 (★☆☆) \n",
        "(**hint**: array\\[4\\])"
      ]
    },
    {
      "cell_type": "code",
      "execution_count": null,
      "metadata": {
        "id": "9j78zIuA5fTZ",
        "colab": {
          "base_uri": "https://localhost:8080/"
        },
        "outputId": "205ba845-6662-4630-cd41-1f0ce543e884"
      },
      "outputs": [
        {
          "output_type": "stream",
          "name": "stdout",
          "text": [
            "[0. 0. 0. 0. 1. 0. 0. 0. 0. 0.]\n"
          ]
        }
      ],
      "source": [
        "x=np.zeros(10)\n",
        "x[4]=1\n",
        "print(x)"
      ]
    },
    {
      "cell_type": "markdown",
      "metadata": {
        "id": "BER3aVSQ5fTa"
      },
      "source": [
        "#### 7.  Create a vector with values ranging from 10 to 49 (★☆☆) \n",
        "(**hint**: np.arange)"
      ]
    },
    {
      "cell_type": "code",
      "execution_count": null,
      "metadata": {
        "id": "YkM8yXyt5fTb",
        "colab": {
          "base_uri": "https://localhost:8080/"
        },
        "outputId": "95ead72d-1af9-4a79-a377-b6dbc787aaec"
      },
      "outputs": [
        {
          "output_type": "stream",
          "name": "stdout",
          "text": [
            "[10 11 12 13 14 15 16 17 18 19 20 21 22 23 24 25 26 27 28 29 30 31 32 33\n",
            " 34 35 36 37 38 39 40 41 42 43 44 45 46 47 48]\n"
          ]
        }
      ],
      "source": [
        "k=np.arange(10,49)\n",
        "print(k)"
      ]
    },
    {
      "cell_type": "markdown",
      "metadata": {
        "id": "LsquFwP25fTc"
      },
      "source": [
        "#### 8.  Reverse a vector (first element becomes last) (★☆☆) \n",
        "(**hint**: array\\[::-1\\])"
      ]
    },
    {
      "cell_type": "code",
      "execution_count": null,
      "metadata": {
        "id": "xCO_JwBM5fTd",
        "colab": {
          "base_uri": "https://localhost:8080/"
        },
        "outputId": "9621c51b-f1ae-43d8-a44c-0dd957710bf6"
      },
      "outputs": [
        {
          "output_type": "stream",
          "name": "stdout",
          "text": [
            "[5 4 3 2 1]\n"
          ]
        }
      ],
      "source": [
        "k=np.array([1,2,3,4,5])\n",
        "l=k[::-1]\n",
        "print(l)"
      ]
    },
    {
      "cell_type": "markdown",
      "metadata": {
        "id": "wvVZiQFV5fTe"
      },
      "source": [
        "#### 9.  Create a 3x3 matrix with values ranging from 0 to 8 (★☆☆) \n",
        "(**hint**: reshape)"
      ]
    },
    {
      "cell_type": "code",
      "execution_count": null,
      "metadata": {
        "id": "dmTm6D8V5fTg",
        "colab": {
          "base_uri": "https://localhost:8080/"
        },
        "outputId": "9d965bb0-2996-43cb-8abd-4b54657668c7"
      },
      "outputs": [
        {
          "output_type": "stream",
          "name": "stdout",
          "text": [
            "[[0 1 2]\n",
            " [3 4 5]\n",
            " [6 7 8]]\n"
          ]
        }
      ],
      "source": [
        "k=np.arange(9).reshape(3,3)\n",
        "print(k)"
      ]
    },
    {
      "cell_type": "markdown",
      "metadata": {
        "id": "qtZB0ES75fTh"
      },
      "source": [
        "#### 10. Find indices of non-zero elements from \\[1,2,0,0,4,0\\] (★☆☆) \n",
        "(**hint**: np.nonzero)"
      ]
    },
    {
      "cell_type": "code",
      "execution_count": null,
      "metadata": {
        "id": "bHTNIpsI5fTi",
        "colab": {
          "base_uri": "https://localhost:8080/"
        },
        "outputId": "97ba43c7-42c0-4d03-df01-e6d420560f97"
      },
      "outputs": [
        {
          "output_type": "stream",
          "name": "stdout",
          "text": [
            "(array([0, 1, 4]),)\n"
          ]
        }
      ],
      "source": [
        "k=np.array([1,2,0,0,4,0])\n",
        "l=np.nonzero(k)\n",
        "print(l)"
      ]
    },
    {
      "cell_type": "markdown",
      "metadata": {
        "id": "RhlorAKa5fTi"
      },
      "source": [
        "#### 11. Create a 3x3 identity matrix (★☆☆) \n",
        "(**hint**: np.eye)"
      ]
    },
    {
      "cell_type": "code",
      "execution_count": null,
      "metadata": {
        "id": "d4c1PPg75fTj",
        "colab": {
          "base_uri": "https://localhost:8080/"
        },
        "outputId": "14604db8-f6f4-400f-f973-b3eaa09cca4a"
      },
      "outputs": [
        {
          "output_type": "stream",
          "name": "stdout",
          "text": [
            "[[1. 0. 0.]\n",
            " [0. 1. 0.]\n",
            " [0. 0. 1.]]\n"
          ]
        }
      ],
      "source": [
        "k=np.eye(3)\n",
        "print(k)"
      ]
    },
    {
      "cell_type": "markdown",
      "metadata": {
        "id": "CmmtOLbG5fTj"
      },
      "source": [
        "#### 12. Create a 3x3x3 array with random values (★☆☆) \n",
        "(**hint**: np.random.random)"
      ]
    },
    {
      "cell_type": "code",
      "execution_count": null,
      "metadata": {
        "collapsed": true,
        "id": "vlTSX3k75fTj",
        "colab": {
          "base_uri": "https://localhost:8080/"
        },
        "outputId": "ad716dbb-65f6-43f8-983f-79d044e2e495"
      },
      "outputs": [
        {
          "output_type": "stream",
          "name": "stdout",
          "text": [
            "[[[0.52547466 0.90220113 0.02627801]\n",
            "  [0.0046631  0.47952792 0.83946516]\n",
            "  [0.0040898  0.06899679 0.07534982]]\n",
            "\n",
            " [[0.59682157 0.80080793 0.84145344]\n",
            "  [0.24520917 0.82257343 0.44814035]\n",
            "  [0.94735009 0.84314937 0.19964152]]\n",
            "\n",
            " [[0.11180923 0.4188705  0.68563396]\n",
            "  [0.78622323 0.98971729 0.29046506]\n",
            "  [0.79588495 0.92587139 0.18000158]]]\n"
          ]
        }
      ],
      "source": [
        "k=np.random.random((3,3,3))\n",
        "print(k)"
      ]
    },
    {
      "cell_type": "markdown",
      "metadata": {
        "id": "Rlhh6VCf5fTj"
      },
      "source": [
        "#### 13. Create a 10x10 array with random values and find the minimum and maximum values (★☆☆) \n",
        "(**hint**: min, max)"
      ]
    },
    {
      "cell_type": "code",
      "execution_count": null,
      "metadata": {
        "id": "PfZ6kvIg5fTk",
        "colab": {
          "base_uri": "https://localhost:8080/"
        },
        "outputId": "7b68071e-731d-4c52-dfc1-fa58525a0582"
      },
      "outputs": [
        {
          "output_type": "stream",
          "name": "stdout",
          "text": [
            "[[0.65475067 0.65347221 0.53014885 0.38807706 0.89255267 0.29819416\n",
            "  0.17344175 0.7317461  0.9645111  0.77820676]\n",
            " [0.95615121 0.72465805 0.76292457 0.02816882 0.69385935 0.56867743\n",
            "  0.37734313 0.85644099 0.3537123  0.40578042]\n",
            " [0.67390035 0.15089343 0.76652022 0.76842035 0.44579884 0.09705848\n",
            "  0.77362018 0.42711238 0.04209066 0.40595286]\n",
            " [0.48209127 0.18709254 0.93499202 0.23304795 0.55781019 0.52590116\n",
            "  0.75472165 0.86731963 0.1207485  0.00253472]\n",
            " [0.71190857 0.98830733 0.52953008 0.31536223 0.06204556 0.06406619\n",
            "  0.44439624 0.25441573 0.8310577  0.95265216]\n",
            " [0.45367807 0.59388419 0.99298689 0.20662156 0.10555051 0.36274889\n",
            "  0.04042648 0.43712525 0.1682952  0.28126773]\n",
            " [0.74563505 0.74178938 0.48506048 0.21725123 0.66717036 0.0244772\n",
            "  0.97447538 0.40773651 0.90729012 0.79666561]\n",
            " [0.19570359 0.54131416 0.48585865 0.52833264 0.01124464 0.47790034\n",
            "  0.71416647 0.12987394 0.77275775 0.92206061]\n",
            " [0.56704928 0.45054821 0.26925771 0.49955107 0.18649388 0.53699288\n",
            "  0.25970438 0.26086943 0.71544955 0.1992573 ]\n",
            " [0.41614399 0.36048467 0.66111458 0.85867007 0.54332582 0.83676054\n",
            "  0.43106469 0.21836542 0.72006942 0.86255263]]\n",
            "0.0025347229584276043 0.9929868907293743\n"
          ]
        }
      ],
      "source": [
        "k=np.random.random((10,10))\n",
        "print(k)\n",
        "l=np.min(k)\n",
        "m=np.max(k)\n",
        "print(l,m)"
      ]
    },
    {
      "cell_type": "markdown",
      "metadata": {
        "id": "qa5cl-SW5fTk"
      },
      "source": [
        "#### 14. Create a random vector of size 30 and find the mean value (★☆☆) \n",
        "(**hint**: mean)"
      ]
    },
    {
      "cell_type": "code",
      "execution_count": null,
      "metadata": {
        "id": "OTUp5UN55fTk",
        "colab": {
          "base_uri": "https://localhost:8080/"
        },
        "outputId": "6f83735c-11b6-4b4b-b850-4b48f81da287"
      },
      "outputs": [
        {
          "output_type": "stream",
          "name": "stdout",
          "text": [
            "[[0.41086304 0.68043272 0.71451864 0.5238172  0.18558894 0.25526806\n",
            "  0.64011333 0.09386508 0.01859655 0.54120121]\n",
            " [0.22302547 0.64746949 0.28924008 0.54268846 0.40385278 0.0418741\n",
            "  0.02798456 0.95457583 0.22814055 0.77851892]\n",
            " [0.09332006 0.78057307 0.68523164 0.05337188 0.57341684 0.85800989\n",
            "  0.99553553 0.16412367 0.25207026 0.15037372]]\n",
            "0.42692205242289927\n"
          ]
        }
      ],
      "source": [
        "k=np.random.random((3,10))\n",
        "print(k)\n",
        "l=np.mean(k)\n",
        "print(l)"
      ]
    },
    {
      "cell_type": "markdown",
      "metadata": {
        "id": "2QmVmi_f5fTk"
      },
      "source": [
        "#### 15. Create a 2d array with 1 on the border and 0 inside (★☆☆) \n",
        "(**hint**: array\\[1:-1, 1:-1\\])"
      ]
    },
    {
      "cell_type": "code",
      "execution_count": null,
      "metadata": {
        "id": "wwFmAAzc5fTl",
        "colab": {
          "base_uri": "https://localhost:8080/"
        },
        "outputId": "46724a0f-0c40-4077-b38a-5286077db471"
      },
      "outputs": [
        {
          "output_type": "stream",
          "name": "stdout",
          "text": [
            "[[1. 1. 1. 1. 1.]\n",
            " [1. 0. 0. 0. 1.]\n",
            " [1. 0. 0. 0. 1.]\n",
            " [1. 0. 0. 0. 1.]\n",
            " [1. 1. 1. 1. 1.]]\n"
          ]
        }
      ],
      "source": [
        "x=np.ones((5,5))\n",
        "x[1:-1,1:-1]=0\n",
        "print(x)"
      ]
    },
    {
      "cell_type": "markdown",
      "metadata": {
        "id": "4JOQA5oD5fTl"
      },
      "source": [
        "#### 16. How to add a border (filled with 0's) around an existing array? (★☆☆) \n",
        "(**hint**: np.pad)"
      ]
    },
    {
      "cell_type": "code",
      "execution_count": null,
      "metadata": {
        "id": "W9mFPijX5fTl",
        "colab": {
          "base_uri": "https://localhost:8080/"
        },
        "outputId": "f9997648-7d63-4c76-abf6-fba19ba7c2b9"
      },
      "outputs": [
        {
          "output_type": "stream",
          "name": "stdout",
          "text": [
            "[[0. 0. 0. 0. 0. 0. 0.]\n",
            " [0. 1. 1. 1. 1. 1. 0.]\n",
            " [0. 1. 1. 1. 1. 1. 0.]\n",
            " [0. 1. 1. 1. 1. 1. 0.]\n",
            " [0. 1. 1. 1. 1. 1. 0.]\n",
            " [0. 1. 1. 1. 1. 1. 0.]\n",
            " [0. 0. 0. 0. 0. 0. 0.]]\n"
          ]
        }
      ],
      "source": [
        "x=np.ones((5,5))\n",
        "x = np.pad(x, pad_width=1, mode='constant', constant_values=0)\n",
        "print(x)"
      ]
    },
    {
      "cell_type": "markdown",
      "metadata": {
        "id": "PwaJSMpT5fTm"
      },
      "source": [
        "#### 17. What is the result of the following expression? (★☆☆) \n",
        "(**hint**: NaN = not a number, inf = infinity)"
      ]
    },
    {
      "cell_type": "markdown",
      "metadata": {
        "id": "-_le9NOA5fTm"
      },
      "source": [
        "```python\n",
        "0 * np.nan\n",
        "np.nan == np.nan\n",
        "np.inf > np.nan\n",
        "np.nan - np.nan\n",
        "0.3 == 3 * 0.1\n",
        "```"
      ]
    },
    {
      "cell_type": "code",
      "execution_count": null,
      "metadata": {
        "id": "bQTSC_Ra5fTm",
        "colab": {
          "base_uri": "https://localhost:8080/"
        },
        "outputId": "55cab85f-d696-49f7-c0dc-ab4145ea5a70"
      },
      "outputs": [
        {
          "output_type": "stream",
          "name": "stdout",
          "text": [
            "nan\n",
            "False\n",
            "False\n",
            "nan\n",
            "False\n"
          ]
        }
      ],
      "source": [
        "print(0 * np.nan)\n",
        "print(np.nan == np.nan)\n",
        "print(np.inf > np.nan)\n",
        "print(np.nan - np.nan)\n",
        "print(0.3 == 3 * 0.1)"
      ]
    },
    {
      "cell_type": "markdown",
      "metadata": {
        "id": "tR6mkELr5fTn"
      },
      "source": [
        "#### 18. Create a 5x5 matrix with values 1,2,3,4 just below the diagonal (★☆☆) \n",
        "(**hint**: np.diag)"
      ]
    },
    {
      "cell_type": "code",
      "execution_count": null,
      "metadata": {
        "id": "7Vp7WAaV5fTn",
        "colab": {
          "base_uri": "https://localhost:8080/"
        },
        "outputId": "0a01fb9f-0179-4ede-f2b5-5a8047de9b01"
      },
      "outputs": [
        {
          "output_type": "stream",
          "name": "stdout",
          "text": [
            "[[0 0 0 0 0]\n",
            " [1 0 0 0 0]\n",
            " [0 2 0 0 0]\n",
            " [0 0 3 0 0]\n",
            " [0 0 0 4 0]]\n"
          ]
        }
      ],
      "source": [
        "x=np.diag(1+np.arange(4),k=-1)\n",
        "print(x)"
      ]
    },
    {
      "cell_type": "markdown",
      "metadata": {
        "id": "cs53g3bG5fTn"
      },
      "source": [
        "#### 19. Create a 8x8 matrix and fill it with a checkerboard pattern (★☆☆) \n",
        "(**hint**: array\\[::2\\])"
      ]
    },
    {
      "cell_type": "code",
      "execution_count": null,
      "metadata": {
        "id": "s_ZbxAdf5fTo",
        "colab": {
          "base_uri": "https://localhost:8080/"
        },
        "outputId": "3466b5f0-d33e-45c1-bca4-4aea42f02367"
      },
      "outputs": [
        {
          "output_type": "stream",
          "name": "stdout",
          "text": [
            "[[0 1 0 1 0 1 0 1]\n",
            " [1 0 1 0 1 0 1 0]\n",
            " [0 1 0 1 0 1 0 1]\n",
            " [1 0 1 0 1 0 1 0]\n",
            " [0 1 0 1 0 1 0 1]\n",
            " [1 0 1 0 1 0 1 0]\n",
            " [0 1 0 1 0 1 0 1]\n",
            " [1 0 1 0 1 0 1 0]]\n"
          ]
        }
      ],
      "source": [
        "k=np.zeros((8,8),dtype=int)\n",
        "k[1::2,::2] = 1\n",
        "k[::2,1::2] = 1\n",
        "print(k)"
      ]
    },
    {
      "cell_type": "markdown",
      "metadata": {
        "id": "R3S2azXy5fTo"
      },
      "source": [
        "#### 20. Consider a (6,7,8) shape array, what is the index (x,y,z) of the 100th element? \n",
        "(**hint**: np.unravel_index)"
      ]
    },
    {
      "cell_type": "code",
      "execution_count": null,
      "metadata": {
        "id": "oQ1kOgK75fTp",
        "colab": {
          "base_uri": "https://localhost:8080/"
        },
        "outputId": "560a17d7-f45a-45f8-a26d-cd156900929d"
      },
      "outputs": [
        {
          "output_type": "stream",
          "name": "stdout",
          "text": [
            "(1, 5, 3)\n"
          ]
        }
      ],
      "source": [
        "print(np.unravel_index(99,(6,7,8)))"
      ]
    },
    {
      "cell_type": "markdown",
      "metadata": {
        "id": "AduaLFkR5fTp"
      },
      "source": [
        "#### 21. Create a checkerboard 8x8 matrix using the tile function (★☆☆) \n",
        "(**hint**: np.tile)"
      ]
    },
    {
      "cell_type": "code",
      "execution_count": null,
      "metadata": {
        "id": "iVZjXS4T5fTp",
        "colab": {
          "base_uri": "https://localhost:8080/"
        },
        "outputId": "a286fc5f-f7a7-42c3-b774-85f3ef5d75d7"
      },
      "outputs": [
        {
          "output_type": "stream",
          "name": "stdout",
          "text": [
            "[[0 1 0 1 0 1 0 1]\n",
            " [1 0 1 0 1 0 1 0]\n",
            " [0 1 0 1 0 1 0 1]\n",
            " [1 0 1 0 1 0 1 0]\n",
            " [0 1 0 1 0 1 0 1]\n",
            " [1 0 1 0 1 0 1 0]\n",
            " [0 1 0 1 0 1 0 1]\n",
            " [1 0 1 0 1 0 1 0]]\n"
          ]
        }
      ],
      "source": [
        "k=np.tile(np.array([[0,1],[1,0]]),(4,4))\n",
        "print(k)"
      ]
    },
    {
      "cell_type": "markdown",
      "metadata": {
        "id": "G7kLaa5M5fTp"
      },
      "source": [
        "#### 22. Normalize a 5x5 random matrix (★☆☆) \n",
        "(**hint**: (x - min) / (max - min))"
      ]
    },
    {
      "cell_type": "code",
      "execution_count": null,
      "metadata": {
        "id": "h7R6SRu-5fTq",
        "colab": {
          "base_uri": "https://localhost:8080/"
        },
        "outputId": "903c063e-5c8b-440b-eb28-bb4e5a4ea585"
      },
      "outputs": [
        {
          "output_type": "stream",
          "name": "stdout",
          "text": [
            "[[ 1.59807843 -0.65541834 -0.53305821 -0.46103783  1.17992266]\n",
            " [-1.31294965  1.13387251 -0.5848541  -0.98965405 -0.54208432]\n",
            " [ 0.78242456  1.0645005  -1.28372184 -0.78142252  1.12699546]\n",
            " [ 1.27556963 -0.76647664 -0.16816967 -0.15301738  1.63734368]\n",
            " [-1.35585944  1.49985492 -0.8739671  -0.21878703 -0.61808425]]\n"
          ]
        }
      ],
      "source": [
        "k=np.random.random((5,5))\n",
        "k=(k-np.mean(k))/(np.std(k))\n",
        "print(k)"
      ]
    },
    {
      "cell_type": "markdown",
      "metadata": {
        "id": "6ryL0YSu5fTq"
      },
      "source": [
        "#### 23. Create a custom dtype that describes a color as four unsigned bytes (RGBA) (★☆☆) \n",
        "(**hint**: np.dtype)"
      ]
    },
    {
      "cell_type": "code",
      "execution_count": null,
      "metadata": {
        "collapsed": true,
        "id": "NkDf6_c45fTq",
        "colab": {
          "base_uri": "https://localhost:8080/"
        },
        "outputId": "f5485963-10ec-480e-ac04-43aa9dedfba8"
      },
      "outputs": [
        {
          "output_type": "stream",
          "name": "stdout",
          "text": [
            "[('r', 'u1'), ('g', 'u1'), ('b', 'u1'), ('a', 'u1')]\n"
          ]
        }
      ],
      "source": [
        "k= np.dtype([(\"r\",np.ubyte),\n",
        "             (\"g\",np.ubyte),\n",
        "             (\"b\",np.ubyte),\n",
        "             (\"a\",np.ubyte)])\n",
        "print(k)"
      ]
    },
    {
      "cell_type": "markdown",
      "metadata": {
        "id": "wetmxnx-5fTq"
      },
      "source": [
        "#### 24. Multiply a 5x3 matrix by a 3x2 matrix (real matrix product) (★☆☆) \n",
        "(**hint**: np.dot | @)"
      ]
    },
    {
      "cell_type": "code",
      "execution_count": null,
      "metadata": {
        "id": "Bo3huWDg5fTq",
        "colab": {
          "base_uri": "https://localhost:8080/"
        },
        "outputId": "3875dd8b-8b7d-47c3-f342-8c081de96488"
      },
      "outputs": [
        {
          "output_type": "stream",
          "name": "stdout",
          "text": [
            "[[3. 3.]\n",
            " [3. 3.]\n",
            " [3. 3.]\n",
            " [3. 3.]\n",
            " [3. 3.]]\n"
          ]
        }
      ],
      "source": [
        "k=np.dot(np.ones((5,3)) , np.ones((3,2)))\n",
        "print(k)"
      ]
    },
    {
      "cell_type": "markdown",
      "metadata": {
        "id": "e7VD4gHl5fTr"
      },
      "source": [
        "#### 25. Given a 1D array, negate all elements which are between 3 and 8, in place. (★☆☆) \n",
        "(**hint**: >, <=)"
      ]
    },
    {
      "cell_type": "code",
      "execution_count": null,
      "metadata": {
        "id": "p0cjg4635fTr",
        "colab": {
          "base_uri": "https://localhost:8080/"
        },
        "outputId": "221e55b7-bdc0-498c-bffa-cbd4a63926cd"
      },
      "outputs": [
        {
          "output_type": "stream",
          "name": "stdout",
          "text": [
            "[ 0  1  2  3 -4 -5 -6 -7  8  9 10]\n"
          ]
        }
      ],
      "source": [
        "k=np.arange(11)\n",
        "k[(3<k) & (k<8)] *= -1\n",
        "print(k)\n"
      ]
    },
    {
      "cell_type": "markdown",
      "metadata": {
        "id": "fbzmm2UF5fTs"
      },
      "source": [
        "#### 26. What is the output of the following script? (★☆☆) \n",
        "(**hint**: np.sum)"
      ]
    },
    {
      "cell_type": "markdown",
      "metadata": {
        "id": "ye0o_boR5fTs"
      },
      "source": [
        "```python\n",
        "# Author: Jake VanderPlas\n",
        "\n",
        "print(sum(range(5),-1))\n",
        "from numpy import *\n",
        "print(sum(range(5),-1))\n",
        "```"
      ]
    },
    {
      "cell_type": "code",
      "execution_count": null,
      "metadata": {
        "id": "eyiHJmPg5fTt",
        "colab": {
          "base_uri": "https://localhost:8080/"
        },
        "outputId": "b5ec3463-fc46-42f2-ca98-0446eedd68fb"
      },
      "outputs": [
        {
          "output_type": "stream",
          "name": "stdout",
          "text": [
            "9\n",
            "10\n"
          ]
        }
      ],
      "source": [
        "print(sum(range(5),-1))\n",
        "from numpy import *\n",
        "print(sum(range(5),-1))"
      ]
    },
    {
      "cell_type": "markdown",
      "metadata": {
        "id": "aU0IpuOu5fTt"
      },
      "source": [
        "#### 27. Consider an integer vector Z, which of these expressions are legal? (★☆☆)"
      ]
    },
    {
      "cell_type": "markdown",
      "metadata": {
        "id": "-VQrrrUp5fTu"
      },
      "source": [
        "```python\n",
        "Z**Z\n",
        "2 << Z >> 2\n",
        "Z <- Z\n",
        "1j*Z\n",
        "Z/1/1\n",
        "Z<Z>Z\n",
        "```"
      ]
    },
    {
      "cell_type": "code",
      "execution_count": null,
      "metadata": {
        "id": "_QOsU6bK5fTu",
        "colab": {
          "base_uri": "https://localhost:8080/"
        },
        "outputId": "3a2b1d96-0ffe-439d-8b3e-d27e99eee10b"
      },
      "outputs": [
        {
          "output_type": "execute_result",
          "data": {
            "text/plain": [
              "array([False])"
            ]
          },
          "metadata": {},
          "execution_count": 10
        }
      ],
      "source": [
        "Z=np.arange(1)\n",
        "Z**Z\n",
        "2 << Z >> 2\n",
        "Z <- Z\n",
        "1j*Z\n",
        "Z/1/1\n",
        "Z<Z>Z"
      ]
    },
    {
      "cell_type": "markdown",
      "metadata": {
        "id": "DJHPTU5o5fTu"
      },
      "source": [
        "#### 28. What are the result of the following expressions?"
      ]
    },
    {
      "cell_type": "markdown",
      "metadata": {
        "id": "4YEL0_rK5fTv"
      },
      "source": [
        "```python\n",
        "np.array(0) / np.array(0)\n",
        "np.array(0) // np.array(0)\n",
        "np.array([np.nan]).astype(int).astype(float)\n",
        "```"
      ]
    },
    {
      "cell_type": "code",
      "execution_count": null,
      "metadata": {
        "id": "sWA5d5255fTv",
        "colab": {
          "base_uri": "https://localhost:8080/"
        },
        "outputId": "e527e0c3-7f03-4467-8bfc-eabfabaed9dd"
      },
      "outputs": [
        {
          "output_type": "stream",
          "name": "stdout",
          "text": [
            "nan\n",
            "0\n",
            "[-9.22337204e+18]\n"
          ]
        },
        {
          "output_type": "stream",
          "name": "stderr",
          "text": [
            "/usr/local/lib/python3.7/dist-packages/ipykernel_launcher.py:1: RuntimeWarning: invalid value encountered in true_divide\n",
            "  \"\"\"Entry point for launching an IPython kernel.\n",
            "/usr/local/lib/python3.7/dist-packages/ipykernel_launcher.py:2: RuntimeWarning: divide by zero encountered in floor_divide\n",
            "  \n"
          ]
        }
      ],
      "source": [
        "print(np.array(0) / np.array(0))\n",
        "print(np.array(0) // np.array(0))\n",
        "print(np.array([np.nan]).astype(int).astype(float))"
      ]
    },
    {
      "cell_type": "markdown",
      "metadata": {
        "id": "BjbU1aIA5fTv"
      },
      "source": [
        "#### 29. How to round away from zero a float array ? (★☆☆) \n",
        "(**hint**: np.uniform, np.copysign, np.ceil, np.abs)"
      ]
    },
    {
      "cell_type": "code",
      "execution_count": null,
      "metadata": {
        "id": "aLF8uI795fTw",
        "colab": {
          "base_uri": "https://localhost:8080/"
        },
        "outputId": "3c859c4e-354d-4f76-dddf-10169be41f04"
      },
      "outputs": [
        {
          "output_type": "stream",
          "name": "stdout",
          "text": [
            "[10. -4.  4.  6.  8. -2. -7.  6. 10. -7.]\n",
            "[10. -4.  4.  6.  8. -2. -7.  6. 10. -7.]\n"
          ]
        }
      ],
      "source": [
        "k=np.random.uniform(-10,+10,10)\n",
        "print(np.copysign(np.ceil(np.abs(k)),k))\n",
        "print(np.where(k>0,np.ceil(k),np.floor(k)))"
      ]
    },
    {
      "cell_type": "markdown",
      "metadata": {
        "id": "YPeaHLzH5fTw"
      },
      "source": [
        "#### 30. How to find common values between two arrays? (★☆☆) \n",
        "(**hint**: np.intersect1d)"
      ]
    },
    {
      "cell_type": "code",
      "execution_count": null,
      "metadata": {
        "id": "-ap_0p1u5fTw",
        "colab": {
          "base_uri": "https://localhost:8080/"
        },
        "outputId": "47cf6425-1f7f-452b-a701-5ee0cd82e699"
      },
      "outputs": [
        {
          "output_type": "stream",
          "name": "stdout",
          "text": [
            "[2 8]\n"
          ]
        }
      ],
      "source": [
        "k1=np.random.randint(0,10,10)\n",
        "k2=np.random.randint(0,10,10)\n",
        "print(np.intersect1d(k1,k2))"
      ]
    },
    {
      "cell_type": "markdown",
      "metadata": {
        "id": "UmnTBqtg5fTw"
      },
      "source": [
        "#### 31. How to ignore all numpy warnings (not recommended)? (★☆☆) \n",
        "(**hint**: np.seterr, np.errstate)"
      ]
    },
    {
      "cell_type": "code",
      "execution_count": null,
      "metadata": {
        "id": "vyTzdQ-p5fTw"
      },
      "outputs": [],
      "source": [
        "defaults = np.seterr(all=\"ignore\")\n",
        "k = np.ones(1) / 0\n",
        "_ = np.seterr(**defaults)\n",
        "with np.errstate(all=\"ignore\"):\n",
        "  np.arange(3) / 0"
      ]
    },
    {
      "cell_type": "markdown",
      "metadata": {
        "id": "TKahi9Ou5fTx"
      },
      "source": [
        "#### 32. Is the following expressions true? (★☆☆) \n",
        "(**hint**: imaginary number)"
      ]
    },
    {
      "cell_type": "markdown",
      "metadata": {
        "id": "lETU2Xet5fTx"
      },
      "source": [
        "```python\n",
        "np.sqrt(-1) == np.emath.sqrt(-1)\n",
        "```"
      ]
    },
    {
      "cell_type": "code",
      "execution_count": null,
      "metadata": {
        "id": "NqKPFTci5fTx",
        "colab": {
          "base_uri": "https://localhost:8080/"
        },
        "outputId": "7ef4df09-98a7-4bac-8473-265c997f26ef"
      },
      "outputs": [
        {
          "output_type": "stream",
          "name": "stderr",
          "text": [
            "/usr/local/lib/python3.7/dist-packages/ipykernel_launcher.py:1: RuntimeWarning: invalid value encountered in sqrt\n",
            "  \"\"\"Entry point for launching an IPython kernel.\n"
          ]
        },
        {
          "output_type": "execute_result",
          "data": {
            "text/plain": [
              "False"
            ]
          },
          "metadata": {},
          "execution_count": 17
        }
      ],
      "source": [
        "np.sqrt(-1) == np.emath.sqrt(-1)"
      ]
    },
    {
      "cell_type": "markdown",
      "metadata": {
        "id": "CHK4Xnvl5fTx"
      },
      "source": [
        "#### 33. How to get the dates of yesterday, today and tomorrow? (★☆☆) \n",
        "(**hint**: np.datetime64, np.timedelta64)"
      ]
    },
    {
      "cell_type": "code",
      "execution_count": null,
      "metadata": {
        "collapsed": true,
        "id": "0NVerC_b5fTx",
        "colab": {
          "base_uri": "https://localhost:8080/"
        },
        "outputId": "5591947d-8c46-4e41-b6d8-510e33d71659"
      },
      "outputs": [
        {
          "output_type": "stream",
          "name": "stdout",
          "text": [
            "2022-02-16 2022-02-17 2022-02-18\n"
          ]
        }
      ],
      "source": [
        "yesterday = np.datetime64('today') - np.timedelta64(1)\n",
        "today = np.datetime64('today') \n",
        "tomorrow = np.datetime64('today') + np.timedelta64(1)\n",
        "print(yesterday,today,tomorrow)"
      ]
    },
    {
      "cell_type": "markdown",
      "metadata": {
        "id": "Xb4khtel5fTx"
      },
      "source": [
        "#### 34. How to get all the dates corresponding to the month of July 2016? (★★☆) \n",
        "(**hint**: np.arange(dtype=datetime64\\['D'\\]))"
      ]
    },
    {
      "cell_type": "code",
      "execution_count": null,
      "metadata": {
        "id": "tWqPYh_n5fTy",
        "colab": {
          "base_uri": "https://localhost:8080/"
        },
        "outputId": "0aa1e3b9-9dec-4c98-85e8-482f2d1d4602"
      },
      "outputs": [
        {
          "output_type": "stream",
          "name": "stdout",
          "text": [
            "['2016-07-01' '2016-07-02' '2016-07-03' '2016-07-04' '2016-07-05'\n",
            " '2016-07-06' '2016-07-07' '2016-07-08' '2016-07-09' '2016-07-10'\n",
            " '2016-07-11' '2016-07-12' '2016-07-13' '2016-07-14' '2016-07-15'\n",
            " '2016-07-16' '2016-07-17' '2016-07-18' '2016-07-19' '2016-07-20'\n",
            " '2016-07-21' '2016-07-22' '2016-07-23' '2016-07-24' '2016-07-25'\n",
            " '2016-07-26' '2016-07-27' '2016-07-28' '2016-07-29' '2016-07-30'\n",
            " '2016-07-31']\n"
          ]
        }
      ],
      "source": [
        "k=np.arange('2016-07','2016-08',dtype='datetime64[D]')\n",
        "print(k)"
      ]
    },
    {
      "cell_type": "markdown",
      "metadata": {
        "id": "4bKoTn3Y5fTy"
      },
      "source": [
        "#### 35. How to compute ((A+B)\\*(-A/2)) in place (without copy)? (★★☆) \n",
        "(**hint**: np.add(out=), np.negative(out=), np.multiply(out=), np.divide(out=))"
      ]
    },
    {
      "cell_type": "code",
      "execution_count": null,
      "metadata": {
        "id": "Q_LpVFLi5fTy",
        "colab": {
          "base_uri": "https://localhost:8080/"
        },
        "outputId": "f4fc7d19-e39a-4be3-93bc-b30f84d67d85"
      },
      "outputs": [
        {
          "output_type": "execute_result",
          "data": {
            "text/plain": [
              "array([-1.5, -1.5, -1.5])"
            ]
          },
          "metadata": {},
          "execution_count": 24
        }
      ],
      "source": [
        "A = np.ones(3)*1\n",
        "B = np.ones(3)*2\n",
        "np.add(A,B,out=B)\n",
        "np.divide(1,2,out=A)\n",
        "np.negative(A,out=A)\n",
        "np.multiply(A,B,out=A)"
      ]
    },
    {
      "cell_type": "markdown",
      "metadata": {
        "id": "kkIWFej_5fTy"
      },
      "source": [
        "#### 36. Extract the integer part of a random array using 5 different methods (★★☆) \n",
        "(**hint**: %, np.floor, np.ceil, astype, np.trunc)"
      ]
    },
    {
      "cell_type": "code",
      "execution_count": null,
      "metadata": {
        "id": "reCFhQRi5fTy",
        "colab": {
          "base_uri": "https://localhost:8080/"
        },
        "outputId": "fc420f39-0c9e-45be-cca9-638a833c2a43"
      },
      "outputs": [
        {
          "output_type": "stream",
          "name": "stdout",
          "text": [
            "[7. 9. 7. 7. 4. 1. 9. 4. 9. 3.]\n",
            "[7. 9. 7. 7. 4. 1. 9. 4. 9. 3.]\n",
            "[7. 9. 7. 7. 4. 1. 9. 4. 9. 3.]\n",
            "[7 9 7 7 4 1 9 4 9 3]\n",
            "[7. 9. 7. 7. 4. 1. 9. 4. 9. 3.]\n"
          ]
        }
      ],
      "source": [
        "k= np.random.uniform(0,10,10)\n",
        "print(k-k%1)\n",
        "print(k//1)\n",
        "print(np.floor(k))\n",
        "print(k.astype(int))\n",
        "print(np.trunc(k))"
      ]
    },
    {
      "cell_type": "markdown",
      "metadata": {
        "id": "aKpj3cuC5fTz"
      },
      "source": [
        "#### 37. Create a 5x5 matrix with row values ranging from 0 to 4 (★★☆) \n",
        "(**hint**: np.arange)"
      ]
    },
    {
      "cell_type": "code",
      "execution_count": null,
      "metadata": {
        "id": "AmyBMG575fTz",
        "colab": {
          "base_uri": "https://localhost:8080/"
        },
        "outputId": "698fcc33-e00f-4852-f1b3-a24e617f54c7"
      },
      "outputs": [
        {
          "output_type": "stream",
          "name": "stdout",
          "text": [
            "[[0. 1. 2. 3. 4.]\n",
            " [0. 1. 2. 3. 4.]\n",
            " [0. 1. 2. 3. 4.]\n",
            " [0. 1. 2. 3. 4.]\n",
            " [0. 1. 2. 3. 4.]]\n"
          ]
        }
      ],
      "source": [
        "k = np.zeros((5,5))\n",
        "k += np.arange(5)\n",
        "print(k)"
      ]
    },
    {
      "cell_type": "markdown",
      "metadata": {
        "id": "hAlYyIv05fTz"
      },
      "source": [
        "#### 38. Consider a generator function that generates 10 integers and use it to build an array (★☆☆) \n",
        "(**hint**: np.fromiter)"
      ]
    },
    {
      "cell_type": "code",
      "execution_count": null,
      "metadata": {
        "id": "qzZ77mVv5fTz",
        "colab": {
          "base_uri": "https://localhost:8080/"
        },
        "outputId": "c46dc37e-d933-4e29-c26f-ba4aaaa71bda"
      },
      "outputs": [
        {
          "output_type": "stream",
          "name": "stdout",
          "text": [
            "[0. 1. 2. 3. 4. 5. 6. 7. 8. 9.]\n"
          ]
        }
      ],
      "source": [
        "def generate():\n",
        "  for x in range(10):\n",
        "    yield x\n",
        "k=np.fromiter(generate(),dtype=float,count=-1)\n",
        "print(k)"
      ]
    },
    {
      "cell_type": "markdown",
      "metadata": {
        "id": "0Qi98bF45fTz"
      },
      "source": [
        "#### 39. Create a vector of size 10 with values ranging from 0 to 1, both excluded (★★☆) \n",
        "(**hint**: np.linspace)"
      ]
    },
    {
      "cell_type": "code",
      "execution_count": null,
      "metadata": {
        "id": "ZAm5tTvl5fTz",
        "colab": {
          "base_uri": "https://localhost:8080/"
        },
        "outputId": "5571d113-da33-4a6c-a7d1-79e702f91f2f"
      },
      "outputs": [
        {
          "output_type": "stream",
          "name": "stdout",
          "text": [
            "[0.09090909 0.18181818 0.27272727 0.36363636 0.45454545 0.54545455\n",
            " 0.63636364 0.72727273 0.81818182 0.90909091]\n"
          ]
        }
      ],
      "source": [
        "k=np.linspace(0,1,11,endpoint=False)[1:]\n",
        "print(k)"
      ]
    },
    {
      "cell_type": "markdown",
      "metadata": {
        "id": "0orr80oi5fT0"
      },
      "source": [
        "#### 40. Create a random vector of size 10 and sort it (★★☆) \n",
        "(**hint**: sort)"
      ]
    },
    {
      "cell_type": "code",
      "execution_count": null,
      "metadata": {
        "id": "waK2LUsX5fT0",
        "colab": {
          "base_uri": "https://localhost:8080/"
        },
        "outputId": "561499cb-55a8-4582-c0d6-501d7efc52f6"
      },
      "outputs": [
        {
          "output_type": "stream",
          "name": "stdout",
          "text": [
            "[0.02685075 0.13517934 0.14241188 0.2711608  0.30561411 0.36973341\n",
            " 0.40089764 0.43354147 0.5049788  0.63329849]\n"
          ]
        }
      ],
      "source": [
        "k = np.random.random(10)\n",
        "k.sort()\n",
        "print(k)"
      ]
    },
    {
      "cell_type": "markdown",
      "metadata": {
        "id": "8T7w7qDC5fT0"
      },
      "source": [
        "#### 41. How to sum a small array faster than np.sum? (★★☆) \n",
        "(**hint**: np.add.reduce)"
      ]
    },
    {
      "cell_type": "code",
      "execution_count": null,
      "metadata": {
        "id": "h7LqF6Si5fT0",
        "colab": {
          "base_uri": "https://localhost:8080/"
        },
        "outputId": "2111e5f9-4746-4edf-8191-9bcef47b559b"
      },
      "outputs": [
        {
          "output_type": "execute_result",
          "data": {
            "text/plain": [
              "45"
            ]
          },
          "metadata": {},
          "execution_count": 31
        }
      ],
      "source": [
        "k = np.arange(10)\n",
        "np.add.reduce(k)"
      ]
    },
    {
      "cell_type": "markdown",
      "metadata": {
        "id": "nehJvbyf5fT0"
      },
      "source": [
        "#### 42. Consider two random array A and B, check if they are equal (★★☆) \n",
        "(**hint**: np.allclose, np.array\\_equal)"
      ]
    },
    {
      "cell_type": "code",
      "execution_count": null,
      "metadata": {
        "id": "qgpkohMN5fT1",
        "colab": {
          "base_uri": "https://localhost:8080/"
        },
        "outputId": "f05de1b9-3644-4412-efb1-c7604cff64d0"
      },
      "outputs": [
        {
          "output_type": "stream",
          "name": "stdout",
          "text": [
            "False\n"
          ]
        }
      ],
      "source": [
        "A = np.random.randint(0,2,5)\n",
        "B = np.random.randint(0,2,5)\n",
        "equal = np.allclose(A,B)\n",
        "print(equal)\n"
      ]
    },
    {
      "cell_type": "code",
      "source": [
        "equal = np.array_equal(A,B)\n",
        "print(equal)"
      ],
      "metadata": {
        "colab": {
          "base_uri": "https://localhost:8080/"
        },
        "id": "eJaANi5L39k7",
        "outputId": "97d0f8b1-30fc-4da5-8c65-6114def24e4b"
      },
      "execution_count": null,
      "outputs": [
        {
          "output_type": "stream",
          "name": "stdout",
          "text": [
            "False\n"
          ]
        }
      ]
    },
    {
      "cell_type": "markdown",
      "metadata": {
        "id": "hjVSGEXY5fT1"
      },
      "source": [
        "#### 43. Make an array immutable (read-only) (★★☆) \n",
        "(**hint**: flags.writeable)"
      ]
    },
    {
      "cell_type": "code",
      "execution_count": null,
      "metadata": {
        "id": "DzrdvAj95fT1",
        "colab": {
          "base_uri": "https://localhost:8080/",
          "height": 200
        },
        "outputId": "dab92769-7ca6-4dbe-a644-5bd70c5e858f"
      },
      "outputs": [
        {
          "output_type": "error",
          "ename": "ValueError",
          "evalue": "ignored",
          "traceback": [
            "\u001b[0;31m---------------------------------------------------------------------------\u001b[0m",
            "\u001b[0;31mValueError\u001b[0m                                Traceback (most recent call last)",
            "\u001b[0;32m<ipython-input-35-ce6a90372dcd>\u001b[0m in \u001b[0;36m<module>\u001b[0;34m()\u001b[0m\n\u001b[1;32m      1\u001b[0m \u001b[0mk\u001b[0m \u001b[0;34m=\u001b[0m \u001b[0mnp\u001b[0m\u001b[0;34m.\u001b[0m\u001b[0mzeros\u001b[0m\u001b[0;34m(\u001b[0m\u001b[0;36m10\u001b[0m\u001b[0;34m)\u001b[0m\u001b[0;34m\u001b[0m\u001b[0;34m\u001b[0m\u001b[0m\n\u001b[1;32m      2\u001b[0m \u001b[0mk\u001b[0m\u001b[0;34m.\u001b[0m\u001b[0mflags\u001b[0m\u001b[0;34m.\u001b[0m\u001b[0mwriteable\u001b[0m \u001b[0;34m=\u001b[0m \u001b[0;32mFalse\u001b[0m\u001b[0;34m\u001b[0m\u001b[0;34m\u001b[0m\u001b[0m\n\u001b[0;32m----> 3\u001b[0;31m \u001b[0mk\u001b[0m\u001b[0;34m[\u001b[0m\u001b[0;36m0\u001b[0m\u001b[0;34m]\u001b[0m \u001b[0;34m=\u001b[0m \u001b[0;36m1\u001b[0m\u001b[0;34m\u001b[0m\u001b[0;34m\u001b[0m\u001b[0m\n\u001b[0m",
            "\u001b[0;31mValueError\u001b[0m: assignment destination is read-only"
          ]
        }
      ],
      "source": [
        "k = np.zeros(10)\n",
        "k.flags.writeable = False\n",
        "k[0] = 1"
      ]
    },
    {
      "cell_type": "markdown",
      "metadata": {
        "id": "cSpdxK8G5fT2"
      },
      "source": [
        "#### 44. Consider a random 10x2 matrix representing cartesian coordinates, convert them to polar coordinates (★★☆) \n",
        "(**hint**: np.sqrt, np.arctan2)"
      ]
    },
    {
      "cell_type": "code",
      "execution_count": null,
      "metadata": {
        "id": "v8L_owGq5fT2",
        "colab": {
          "base_uri": "https://localhost:8080/"
        },
        "outputId": "80bc3422-c6b5-411a-b905-395b87adfe28"
      },
      "outputs": [
        {
          "output_type": "stream",
          "name": "stdout",
          "text": [
            "[0.88175814 0.85125076 1.21871842 1.03828444 0.35771162 0.89987902\n",
            " 0.77971587 0.08984921 0.36221425 0.99309328]\n",
            "[0.26399893 0.44509013 0.7021171  0.31887385 0.61768619 0.10634844\n",
            " 0.31797823 0.90561752 1.32541585 1.34714924]\n"
          ]
        }
      ],
      "source": [
        "k = np.random.random((10,2))\n",
        "i,j = k[:,0], k[:,1]\n",
        "r = np.sqrt(i**2+j**2)\n",
        "t = np.arctan2(i,j)\n",
        "print(r)\n",
        "print(t)"
      ]
    },
    {
      "cell_type": "markdown",
      "metadata": {
        "id": "aKjqXYUu5fT2"
      },
      "source": [
        "#### 45. Create random vector of size 10 and replace the maximum value by 0 (★★☆) \n",
        "(**hint**: argmax)"
      ]
    },
    {
      "cell_type": "code",
      "execution_count": null,
      "metadata": {
        "id": "mP57NXH55fT3",
        "colab": {
          "base_uri": "https://localhost:8080/"
        },
        "outputId": "ee2e22fa-b7a6-4671-ea24-20b0ae7edec3"
      },
      "outputs": [
        {
          "output_type": "stream",
          "name": "stdout",
          "text": [
            "[0.         0.46630486 0.70609047 0.62553521 0.85378182 0.68801799\n",
            " 0.18635021 0.02081426 0.68216981 0.74906931]\n"
          ]
        }
      ],
      "source": [
        "k = np.random.random(10)\n",
        "k[k.argmax()] = 0\n",
        "print(k)\n"
      ]
    },
    {
      "cell_type": "markdown",
      "metadata": {
        "id": "qVvKL_cf5fT3"
      },
      "source": [
        "#### 46. Create a structured array with `x` and `y` coordinates covering the \\[0,1\\]x\\[0,1\\] area (★★☆) \n",
        "(**hint**: np.meshgrid)"
      ]
    },
    {
      "cell_type": "code",
      "execution_count": null,
      "metadata": {
        "id": "cm7BITb95fT3",
        "colab": {
          "base_uri": "https://localhost:8080/"
        },
        "outputId": "72cfa1d4-cbbf-4a5c-9464-e7df5d037279"
      },
      "outputs": [
        {
          "output_type": "stream",
          "name": "stdout",
          "text": [
            "[[(0.  , 0.  ) (0.25, 0.  ) (0.5 , 0.  ) (0.75, 0.  ) (1.  , 0.  )]\n",
            " [(0.  , 0.25) (0.25, 0.25) (0.5 , 0.25) (0.75, 0.25) (1.  , 0.25)]\n",
            " [(0.  , 0.5 ) (0.25, 0.5 ) (0.5 , 0.5 ) (0.75, 0.5 ) (1.  , 0.5 )]\n",
            " [(0.  , 0.75) (0.25, 0.75) (0.5 , 0.75) (0.75, 0.75) (1.  , 0.75)]\n",
            " [(0.  , 1.  ) (0.25, 1.  ) (0.5 , 1.  ) (0.75, 1.  ) (1.  , 1.  )]]\n"
          ]
        }
      ],
      "source": [
        "k = np.zeros((5,5),[('X',float),('Y',float)])\n",
        "k['X'],k['Y'] =  np.meshgrid(np.linspace(0,1,5),\n",
        "                             np.linspace(0,1,5))\n",
        "print(k)"
      ]
    },
    {
      "cell_type": "markdown",
      "metadata": {
        "id": "BpFeDQkF5fT4"
      },
      "source": [
        "####  47. Given two arrays, X and Y, construct the Cauchy matrix C (Cij =1/(xi - yj)) \n",
        "(**hint**: np.subtract.outer)"
      ]
    },
    {
      "cell_type": "code",
      "execution_count": null,
      "metadata": {
        "id": "D2Y7FCUw5fT4",
        "colab": {
          "base_uri": "https://localhost:8080/"
        },
        "outputId": "a2be5d70-07e0-4a51-df8a-bdd954b8f79a"
      },
      "outputs": [
        {
          "output_type": "stream",
          "name": "stdout",
          "text": [
            "3638.163637117973\n"
          ]
        }
      ],
      "source": [
        "X = np.arange(8)\n",
        "Y = X+0.5\n",
        "C = 1.0 / np.subtract.outer(X,Y)\n",
        "print(np.linalg.det(C))"
      ]
    },
    {
      "cell_type": "markdown",
      "metadata": {
        "id": "JsgvQLUJ5fT4"
      },
      "source": [
        "#### 48. Print the minimum and maximum representable value for each numpy scalar type (★★☆) \n",
        "(**hint**: np.iinfo, np.finfo, eps)"
      ]
    },
    {
      "cell_type": "code",
      "execution_count": null,
      "metadata": {
        "id": "91fbfBVi5fT5",
        "colab": {
          "base_uri": "https://localhost:8080/"
        },
        "outputId": "e30d08a9-7479-479c-8476-d1bffc370f42"
      },
      "outputs": [
        {
          "output_type": "stream",
          "name": "stdout",
          "text": [
            "-128\n",
            "127\n",
            "-2147483648\n",
            "2147483647\n",
            "-9223372036854775808\n",
            "9223372036854775807\n",
            "-3.4028235e+38\n",
            "3.4028235e+38\n",
            "1.1920929e-07\n",
            "-1.7976931348623157e+308\n",
            "1.7976931348623157e+308\n",
            "2.220446049250313e-16\n"
          ]
        }
      ],
      "source": [
        "for dtype in [np.int8,np.int32,np.int64]:\n",
        "  print(np.iinfo(dtype).min)\n",
        "  print(np.iinfo(dtype).max)\n",
        "for dtype in [np.float32,np.float64]:\n",
        "  print(np.finfo(dtype).min)\n",
        "  print(np.finfo(dtype).max)\n",
        "  print(np.finfo(dtype).eps)"
      ]
    },
    {
      "cell_type": "markdown",
      "metadata": {
        "id": "1SEB7uZC5fT6"
      },
      "source": [
        "#### 49. How to print all the values of an array? (★★☆) \n",
        "(**hint**: np.set\\_printoptions)"
      ]
    },
    {
      "cell_type": "code",
      "execution_count": null,
      "metadata": {
        "id": "8QotZMP05fT6",
        "colab": {
          "base_uri": "https://localhost:8080/"
        },
        "outputId": "6530ef1e-052e-4002-f871-ba466b9f4eb0"
      },
      "outputs": [
        {
          "output_type": "stream",
          "name": "stdout",
          "text": [
            "[[0. 0. 0. 0. 0. 0. 0. 0. 0. 0. 0. 0. 0. 0. 0. 0. 0. 0. 0. 0. 0. 0. 0. 0.\n",
            "  0. 0. 0. 0. 0. 0. 0. 0. 0. 0. 0. 0. 0. 0. 0. 0.]\n",
            " [0. 0. 0. 0. 0. 0. 0. 0. 0. 0. 0. 0. 0. 0. 0. 0. 0. 0. 0. 0. 0. 0. 0. 0.\n",
            "  0. 0. 0. 0. 0. 0. 0. 0. 0. 0. 0. 0. 0. 0. 0. 0.]\n",
            " [0. 0. 0. 0. 0. 0. 0. 0. 0. 0. 0. 0. 0. 0. 0. 0. 0. 0. 0. 0. 0. 0. 0. 0.\n",
            "  0. 0. 0. 0. 0. 0. 0. 0. 0. 0. 0. 0. 0. 0. 0. 0.]\n",
            " [0. 0. 0. 0. 0. 0. 0. 0. 0. 0. 0. 0. 0. 0. 0. 0. 0. 0. 0. 0. 0. 0. 0. 0.\n",
            "  0. 0. 0. 0. 0. 0. 0. 0. 0. 0. 0. 0. 0. 0. 0. 0.]\n",
            " [0. 0. 0. 0. 0. 0. 0. 0. 0. 0. 0. 0. 0. 0. 0. 0. 0. 0. 0. 0. 0. 0. 0. 0.\n",
            "  0. 0. 0. 0. 0. 0. 0. 0. 0. 0. 0. 0. 0. 0. 0. 0.]\n",
            " [0. 0. 0. 0. 0. 0. 0. 0. 0. 0. 0. 0. 0. 0. 0. 0. 0. 0. 0. 0. 0. 0. 0. 0.\n",
            "  0. 0. 0. 0. 0. 0. 0. 0. 0. 0. 0. 0. 0. 0. 0. 0.]\n",
            " [0. 0. 0. 0. 0. 0. 0. 0. 0. 0. 0. 0. 0. 0. 0. 0. 0. 0. 0. 0. 0. 0. 0. 0.\n",
            "  0. 0. 0. 0. 0. 0. 0. 0. 0. 0. 0. 0. 0. 0. 0. 0.]\n",
            " [0. 0. 0. 0. 0. 0. 0. 0. 0. 0. 0. 0. 0. 0. 0. 0. 0. 0. 0. 0. 0. 0. 0. 0.\n",
            "  0. 0. 0. 0. 0. 0. 0. 0. 0. 0. 0. 0. 0. 0. 0. 0.]\n",
            " [0. 0. 0. 0. 0. 0. 0. 0. 0. 0. 0. 0. 0. 0. 0. 0. 0. 0. 0. 0. 0. 0. 0. 0.\n",
            "  0. 0. 0. 0. 0. 0. 0. 0. 0. 0. 0. 0. 0. 0. 0. 0.]\n",
            " [0. 0. 0. 0. 0. 0. 0. 0. 0. 0. 0. 0. 0. 0. 0. 0. 0. 0. 0. 0. 0. 0. 0. 0.\n",
            "  0. 0. 0. 0. 0. 0. 0. 0. 0. 0. 0. 0. 0. 0. 0. 0.]\n",
            " [0. 0. 0. 0. 0. 0. 0. 0. 0. 0. 0. 0. 0. 0. 0. 0. 0. 0. 0. 0. 0. 0. 0. 0.\n",
            "  0. 0. 0. 0. 0. 0. 0. 0. 0. 0. 0. 0. 0. 0. 0. 0.]\n",
            " [0. 0. 0. 0. 0. 0. 0. 0. 0. 0. 0. 0. 0. 0. 0. 0. 0. 0. 0. 0. 0. 0. 0. 0.\n",
            "  0. 0. 0. 0. 0. 0. 0. 0. 0. 0. 0. 0. 0. 0. 0. 0.]\n",
            " [0. 0. 0. 0. 0. 0. 0. 0. 0. 0. 0. 0. 0. 0. 0. 0. 0. 0. 0. 0. 0. 0. 0. 0.\n",
            "  0. 0. 0. 0. 0. 0. 0. 0. 0. 0. 0. 0. 0. 0. 0. 0.]\n",
            " [0. 0. 0. 0. 0. 0. 0. 0. 0. 0. 0. 0. 0. 0. 0. 0. 0. 0. 0. 0. 0. 0. 0. 0.\n",
            "  0. 0. 0. 0. 0. 0. 0. 0. 0. 0. 0. 0. 0. 0. 0. 0.]\n",
            " [0. 0. 0. 0. 0. 0. 0. 0. 0. 0. 0. 0. 0. 0. 0. 0. 0. 0. 0. 0. 0. 0. 0. 0.\n",
            "  0. 0. 0. 0. 0. 0. 0. 0. 0. 0. 0. 0. 0. 0. 0. 0.]\n",
            " [0. 0. 0. 0. 0. 0. 0. 0. 0. 0. 0. 0. 0. 0. 0. 0. 0. 0. 0. 0. 0. 0. 0. 0.\n",
            "  0. 0. 0. 0. 0. 0. 0. 0. 0. 0. 0. 0. 0. 0. 0. 0.]\n",
            " [0. 0. 0. 0. 0. 0. 0. 0. 0. 0. 0. 0. 0. 0. 0. 0. 0. 0. 0. 0. 0. 0. 0. 0.\n",
            "  0. 0. 0. 0. 0. 0. 0. 0. 0. 0. 0. 0. 0. 0. 0. 0.]\n",
            " [0. 0. 0. 0. 0. 0. 0. 0. 0. 0. 0. 0. 0. 0. 0. 0. 0. 0. 0. 0. 0. 0. 0. 0.\n",
            "  0. 0. 0. 0. 0. 0. 0. 0. 0. 0. 0. 0. 0. 0. 0. 0.]\n",
            " [0. 0. 0. 0. 0. 0. 0. 0. 0. 0. 0. 0. 0. 0. 0. 0. 0. 0. 0. 0. 0. 0. 0. 0.\n",
            "  0. 0. 0. 0. 0. 0. 0. 0. 0. 0. 0. 0. 0. 0. 0. 0.]\n",
            " [0. 0. 0. 0. 0. 0. 0. 0. 0. 0. 0. 0. 0. 0. 0. 0. 0. 0. 0. 0. 0. 0. 0. 0.\n",
            "  0. 0. 0. 0. 0. 0. 0. 0. 0. 0. 0. 0. 0. 0. 0. 0.]\n",
            " [0. 0. 0. 0. 0. 0. 0. 0. 0. 0. 0. 0. 0. 0. 0. 0. 0. 0. 0. 0. 0. 0. 0. 0.\n",
            "  0. 0. 0. 0. 0. 0. 0. 0. 0. 0. 0. 0. 0. 0. 0. 0.]\n",
            " [0. 0. 0. 0. 0. 0. 0. 0. 0. 0. 0. 0. 0. 0. 0. 0. 0. 0. 0. 0. 0. 0. 0. 0.\n",
            "  0. 0. 0. 0. 0. 0. 0. 0. 0. 0. 0. 0. 0. 0. 0. 0.]\n",
            " [0. 0. 0. 0. 0. 0. 0. 0. 0. 0. 0. 0. 0. 0. 0. 0. 0. 0. 0. 0. 0. 0. 0. 0.\n",
            "  0. 0. 0. 0. 0. 0. 0. 0. 0. 0. 0. 0. 0. 0. 0. 0.]\n",
            " [0. 0. 0. 0. 0. 0. 0. 0. 0. 0. 0. 0. 0. 0. 0. 0. 0. 0. 0. 0. 0. 0. 0. 0.\n",
            "  0. 0. 0. 0. 0. 0. 0. 0. 0. 0. 0. 0. 0. 0. 0. 0.]\n",
            " [0. 0. 0. 0. 0. 0. 0. 0. 0. 0. 0. 0. 0. 0. 0. 0. 0. 0. 0. 0. 0. 0. 0. 0.\n",
            "  0. 0. 0. 0. 0. 0. 0. 0. 0. 0. 0. 0. 0. 0. 0. 0.]\n",
            " [0. 0. 0. 0. 0. 0. 0. 0. 0. 0. 0. 0. 0. 0. 0. 0. 0. 0. 0. 0. 0. 0. 0. 0.\n",
            "  0. 0. 0. 0. 0. 0. 0. 0. 0. 0. 0. 0. 0. 0. 0. 0.]\n",
            " [0. 0. 0. 0. 0. 0. 0. 0. 0. 0. 0. 0. 0. 0. 0. 0. 0. 0. 0. 0. 0. 0. 0. 0.\n",
            "  0. 0. 0. 0. 0. 0. 0. 0. 0. 0. 0. 0. 0. 0. 0. 0.]\n",
            " [0. 0. 0. 0. 0. 0. 0. 0. 0. 0. 0. 0. 0. 0. 0. 0. 0. 0. 0. 0. 0. 0. 0. 0.\n",
            "  0. 0. 0. 0. 0. 0. 0. 0. 0. 0. 0. 0. 0. 0. 0. 0.]\n",
            " [0. 0. 0. 0. 0. 0. 0. 0. 0. 0. 0. 0. 0. 0. 0. 0. 0. 0. 0. 0. 0. 0. 0. 0.\n",
            "  0. 0. 0. 0. 0. 0. 0. 0. 0. 0. 0. 0. 0. 0. 0. 0.]\n",
            " [0. 0. 0. 0. 0. 0. 0. 0. 0. 0. 0. 0. 0. 0. 0. 0. 0. 0. 0. 0. 0. 0. 0. 0.\n",
            "  0. 0. 0. 0. 0. 0. 0. 0. 0. 0. 0. 0. 0. 0. 0. 0.]\n",
            " [0. 0. 0. 0. 0. 0. 0. 0. 0. 0. 0. 0. 0. 0. 0. 0. 0. 0. 0. 0. 0. 0. 0. 0.\n",
            "  0. 0. 0. 0. 0. 0. 0. 0. 0. 0. 0. 0. 0. 0. 0. 0.]\n",
            " [0. 0. 0. 0. 0. 0. 0. 0. 0. 0. 0. 0. 0. 0. 0. 0. 0. 0. 0. 0. 0. 0. 0. 0.\n",
            "  0. 0. 0. 0. 0. 0. 0. 0. 0. 0. 0. 0. 0. 0. 0. 0.]\n",
            " [0. 0. 0. 0. 0. 0. 0. 0. 0. 0. 0. 0. 0. 0. 0. 0. 0. 0. 0. 0. 0. 0. 0. 0.\n",
            "  0. 0. 0. 0. 0. 0. 0. 0. 0. 0. 0. 0. 0. 0. 0. 0.]\n",
            " [0. 0. 0. 0. 0. 0. 0. 0. 0. 0. 0. 0. 0. 0. 0. 0. 0. 0. 0. 0. 0. 0. 0. 0.\n",
            "  0. 0. 0. 0. 0. 0. 0. 0. 0. 0. 0. 0. 0. 0. 0. 0.]\n",
            " [0. 0. 0. 0. 0. 0. 0. 0. 0. 0. 0. 0. 0. 0. 0. 0. 0. 0. 0. 0. 0. 0. 0. 0.\n",
            "  0. 0. 0. 0. 0. 0. 0. 0. 0. 0. 0. 0. 0. 0. 0. 0.]\n",
            " [0. 0. 0. 0. 0. 0. 0. 0. 0. 0. 0. 0. 0. 0. 0. 0. 0. 0. 0. 0. 0. 0. 0. 0.\n",
            "  0. 0. 0. 0. 0. 0. 0. 0. 0. 0. 0. 0. 0. 0. 0. 0.]\n",
            " [0. 0. 0. 0. 0. 0. 0. 0. 0. 0. 0. 0. 0. 0. 0. 0. 0. 0. 0. 0. 0. 0. 0. 0.\n",
            "  0. 0. 0. 0. 0. 0. 0. 0. 0. 0. 0. 0. 0. 0. 0. 0.]\n",
            " [0. 0. 0. 0. 0. 0. 0. 0. 0. 0. 0. 0. 0. 0. 0. 0. 0. 0. 0. 0. 0. 0. 0. 0.\n",
            "  0. 0. 0. 0. 0. 0. 0. 0. 0. 0. 0. 0. 0. 0. 0. 0.]\n",
            " [0. 0. 0. 0. 0. 0. 0. 0. 0. 0. 0. 0. 0. 0. 0. 0. 0. 0. 0. 0. 0. 0. 0. 0.\n",
            "  0. 0. 0. 0. 0. 0. 0. 0. 0. 0. 0. 0. 0. 0. 0. 0.]\n",
            " [0. 0. 0. 0. 0. 0. 0. 0. 0. 0. 0. 0. 0. 0. 0. 0. 0. 0. 0. 0. 0. 0. 0. 0.\n",
            "  0. 0. 0. 0. 0. 0. 0. 0. 0. 0. 0. 0. 0. 0. 0. 0.]]\n"
          ]
        }
      ],
      "source": [
        "np.set_printoptions(threshold=float(\"inf\"))\n",
        "k = np.zeros((40,40))\n",
        "print(k)"
      ]
    },
    {
      "cell_type": "markdown",
      "metadata": {
        "id": "_knLGq2M5fT7"
      },
      "source": [
        "#### 50. How to find the closest value (to a given scalar) in a vector? (★★☆) \n",
        "(**hint**: argmin)"
      ]
    },
    {
      "cell_type": "code",
      "execution_count": null,
      "metadata": {
        "id": "mZ33ug_75fT8",
        "colab": {
          "base_uri": "https://localhost:8080/"
        },
        "outputId": "4c31db11-2133-4594-bd45-fcb2803aa62b"
      },
      "outputs": [
        {
          "output_type": "stream",
          "name": "stdout",
          "text": [
            "81\n"
          ]
        }
      ],
      "source": [
        "k = np.arange(100)\n",
        "l = np.random.uniform(0,100)\n",
        "index = (np.abs(k-l)).argmin()\n",
        "print(k[index])\n"
      ]
    },
    {
      "cell_type": "markdown",
      "metadata": {
        "id": "6mcFyU-75fT8"
      },
      "source": [
        "#### 51. Create a structured array representing a position (x,y) and a color (r,g,b) (★★☆) \n",
        "(**hint**: dtype)"
      ]
    },
    {
      "cell_type": "code",
      "execution_count": null,
      "metadata": {
        "id": "0Fdjrltm5fT9",
        "colab": {
          "base_uri": "https://localhost:8080/"
        },
        "outputId": "b3a70c69-4c95-4bfe-8b1d-65c54b6a2bd6"
      },
      "outputs": [
        {
          "output_type": "stream",
          "name": "stdout",
          "text": [
            "[((0., 0.), (0., 0., 0.)) ((0., 0.), (0., 0., 0.))\n",
            " ((0., 0.), (0., 0., 0.)) ((0., 0.), (0., 0., 0.))\n",
            " ((0., 0.), (0., 0., 0.)) ((0., 0.), (0., 0., 0.))\n",
            " ((0., 0.), (0., 0., 0.)) ((0., 0.), (0., 0., 0.))\n",
            " ((0., 0.), (0., 0., 0.)) ((0., 0.), (0., 0., 0.))]\n"
          ]
        },
        {
          "output_type": "stream",
          "name": "stderr",
          "text": [
            "/usr/local/lib/python3.7/dist-packages/ipykernel_launcher.py:5: FutureWarning: Passing (type, 1) or '1type' as a synonym of type is deprecated; in a future version of numpy, it will be understood as (type, (1,)) / '(1,)type'.\n",
            "  \"\"\"\n"
          ]
        }
      ],
      "source": [
        "k =  np.zeros(10,[('position',[('x',float,1),\n",
        "                               ('y',float,1)]),\n",
        "                  ('color', [('r',float,1),\n",
        "                             ('g',float,1),\n",
        "                             ('b',float,1)])])\n",
        "print(k)"
      ]
    },
    {
      "cell_type": "markdown",
      "metadata": {
        "id": "aia-BC-f5fT9"
      },
      "source": [
        "#### 52. Consider a random vector with shape (100,2) representing coordinates, find point by point distances (★★☆) \n",
        "(**hint**: np.atleast\\_2d, T, np.sqrt)"
      ]
    },
    {
      "cell_type": "code",
      "execution_count": null,
      "metadata": {
        "id": "GAGAjSIV5fT9",
        "colab": {
          "base_uri": "https://localhost:8080/"
        },
        "outputId": "292acb85-81c4-4e95-d319-62f6d47f8652"
      },
      "outputs": [
        {
          "output_type": "stream",
          "name": "stdout",
          "text": [
            "[[0.         0.80057662 0.91571938 0.39800304 0.97952568 0.26084792\n",
            "  0.66755837 0.79467592 0.47901297 0.2127114  0.54069522 0.63036155\n",
            "  0.41029986 0.49251818 0.82120401 0.44531431 0.4808     0.88301844\n",
            "  0.85356493 0.25194095 0.94513651 0.27106664 0.40908815 0.56835035\n",
            "  0.46387245 0.68458945 0.97014084 0.44223814 0.61439247 0.34038138\n",
            "  0.9245723  0.78218661 0.43178536 0.94635337 0.92259996 0.39644068\n",
            "  0.71885297 0.46501495 0.68177129 0.50253192 0.72846818 0.92527024\n",
            "  0.85264494 0.08760984 0.58967087 0.55111705 0.91545763 0.22608074\n",
            "  0.50868015 0.66789582 0.69108343 0.27505513 0.44286644 0.52779308\n",
            "  0.53162735 0.90386203 0.92268845 0.63360181 0.70481372 0.28089438\n",
            "  0.56003795 0.6120231  0.726131   0.4266884  0.70640338 0.578589\n",
            "  0.843157   0.84599826 0.58600248 0.5256638  0.37092041 0.89066722\n",
            "  0.2937397  1.01677408 0.45868719 0.17418395 0.94484569 0.44779951\n",
            "  0.23887048 0.78978317 0.56824613 0.97689573 0.47227737 0.60088457\n",
            "  0.11146426 0.24653764 0.70625232 0.13348661 0.30742128 0.80367486\n",
            "  0.54225988 0.65606161 0.77541276 0.21193805 0.70333548 0.7907795\n",
            "  0.10600257 0.8894395  0.51353613 0.40645592]\n",
            " [0.80057662 0.         0.44143389 0.82930759 0.67242432 0.75364829\n",
            "  0.14780829 0.69863368 0.32850383 0.75411096 0.61408029 0.27238953\n",
            "  0.84158176 0.63379409 0.02747072 0.3571782  0.32187614 0.18116321\n",
            "  0.35225546 0.74431614 0.14643684 0.76303241 0.86645461 0.23291675\n",
            "  0.34405393 0.66601118 0.22002119 0.39892956 1.01173057 0.79638329\n",
            "  0.2368439  0.20879858 0.49260504 0.70737859 0.467411   0.93019145\n",
            "  0.25450186 0.7057111  0.24359122 0.47258182 0.23256425 0.43785154\n",
            "  0.70662882 0.83884954 0.2696     0.26338594 0.57045721 0.81572398\n",
            "  0.85162167 0.61697458 0.61770927 0.8358978  0.55524445 0.28151634\n",
            "  0.99674608 0.11386788 0.15545541 0.95144113 0.68778913 0.8465763\n",
            "  0.26650177 0.49744731 0.13110658 0.929357   0.76243642 0.33563439\n",
            "  0.48430378 0.7024573  0.77815753 0.9293779  0.51517474 0.11735239\n",
            "  0.61257355 0.68935548 0.34505859 0.63720368 0.64035954 0.89575786\n",
            "  0.85861793 0.57469637 0.23251521 0.67224826 1.02365217 0.72843809\n",
            "  0.85858973 0.83453937 0.26742185 0.86272404 0.84595166 0.59070519\n",
            "  0.6565897  0.76669248 0.72369918 0.71980573 0.50172212 0.39948471\n",
            "  0.83444201 0.4600091  0.41220475 0.98703653]\n",
            " [0.91571938 0.44143389 0.         0.73428665 0.24132341 0.74062504\n",
            "  0.40653653 0.36274571 0.50802801 0.76797279 0.45574038 0.32407328\n",
            "  0.74008874 0.50402827 0.42347006 0.54712941 0.5238992  0.61346645\n",
            "  0.0931826  0.73817952 0.48808588 1.00374255 0.76711595 0.48639907\n",
            "  0.51667256 0.39965218 0.61527287 0.68490535 0.82390131 1.06037488\n",
            "  0.24593948 0.24225735 0.48539494 0.29348567 0.02683998 0.8455664\n",
            "  0.24690977 0.57900467 0.28854054 0.81552939 0.25506849 0.01350182\n",
            "  0.33811555 0.98617626 0.62819287 0.45092168 0.14804866 1.03054572\n",
            "  0.69557765 0.36610296 0.34996334 0.80849859 0.87481332 0.56997087\n",
            "  0.85059193 0.50242509 0.55647902 0.74048384 0.40786749 1.07809482\n",
            "  0.42700364 0.32839428 0.55031544 0.82787324 0.48522527 0.35033343\n",
            "  0.10924017 0.33704837 0.57359319 0.77336785 0.79172519 0.5275383\n",
            "  0.86262868 0.25167638 0.5884454  0.8066079  0.21607922 0.77792013\n",
            "  0.85155841 0.23678542 0.50657602 0.24189323 0.91730039 0.51454801\n",
            "  0.92092303 1.05437327 0.24945963 0.91328982 1.08830208 0.24235116\n",
            "  0.48761256 0.51980186 0.40186496 0.93703747 0.25033376 0.12499464\n",
            "  0.89646034 0.0435324  0.40300093 0.90860136]\n",
            " [0.39800304 0.82930759 0.73428665 0.         0.703574   0.14746411\n",
            "  0.68211905 0.48088229 0.52993657 0.19223523 0.27858592 0.57063404\n",
            "  0.01508689 0.23123146 0.83902226 0.52266738 0.54808753 0.97441722\n",
            "  0.70928355 0.15992484 0.96948959 0.65017201 0.03720678 0.62482899\n",
            "  0.51695478 0.37811463 1.04242708 0.62930844 0.23417578 0.72355099\n",
            "  0.84802406 0.71081035 0.33672038 0.65009701 0.72968521 0.1116609\n",
            "  0.63506325 0.15538469 0.61639184 0.75538703 0.65440641 0.74696235\n",
            "  0.54246726 0.48376015 0.73382397 0.5754184  0.67336129 0.61959868\n",
            "  0.11211807 0.38729983 0.40968614 0.13084922 0.73469227 0.63878218\n",
            "  0.17857981 0.94313464 0.98121528 0.23647084 0.38846525 0.67614324\n",
            "  0.56587089 0.41016228 0.81598508 0.10103631 0.35693867 0.50321048\n",
            "  0.63336976 0.53667445 0.2206038  0.13761202 0.63064483 0.94348004\n",
            "  0.60560176 0.74099345 0.57681864 0.45591557 0.67638297 0.07146206\n",
            "  0.18073265 0.53270375 0.63893505 0.70053093 0.19606762 0.26059335\n",
            "  0.31781767 0.64181564 0.61853747 0.29631624 0.7013738  0.53983214\n",
            "  0.24999979 0.30046693 0.44890681 0.57716327 0.48434054 0.62152959\n",
            "  0.30539664 0.69571562 0.42129281 0.17468223]\n",
            " [0.97952568 0.67242432 0.24132341 0.703574   0.         0.75734269\n",
            "  0.61066629 0.23102703 0.66083491 0.79564195 0.44796631 0.49422153\n",
            "  0.7044999  0.50014771 0.65711379 0.6953753  0.68140345 0.84915355\n",
            "  0.32148736 0.75912038 0.72907438 1.12208985 0.72903265 0.66892977\n",
            "  0.6648939  0.32551051 0.85564    0.84869529 0.72231425 1.18664977\n",
            "  0.48714472 0.46498368 0.56097133 0.073798   0.21464276 0.80668539\n",
            "  0.44308624 0.55715847 0.47728454 0.99142278 0.4589395  0.24970402\n",
            "  0.17490096 1.06018936 0.82316017 0.6211038  0.10247769 1.13472712\n",
            "  0.6316047  0.3219342  0.29832596 0.80770479 1.03717603 0.7487681\n",
            "  0.77312798 0.74166228 0.79582761 0.63271596 0.31741922 1.18760137\n",
            "  0.59504139 0.37258952 0.76975108 0.78078443 0.37204016 0.49040168\n",
            "  0.19491474 0.17867912 0.49811942 0.69843554 0.94164351 0.76558183\n",
            "  0.99523249 0.03788203 0.7490196  0.90778684 0.03781426 0.72685729\n",
            "  0.85708978 0.18994729 0.69126941 0.00311781 0.85786463 0.44640149\n",
            "  0.95690751 1.15953202 0.43833147 0.94376066 1.2025609  0.17590233\n",
            "  0.46137524 0.42372067 0.27067637 1.04881468 0.28426135 0.28420438\n",
            "  0.93469327 0.21363058 0.50733043 0.86676331]\n",
            " [0.26084792 0.75364829 0.74062504 0.14746411 0.75734269 0.\n",
            "  0.60638771 0.55317634 0.4337762  0.04817231 0.30942361 0.51743985\n",
            "  0.16181965 0.25720074 0.76734594 0.41779586 0.448028   0.88201107\n",
            "  0.69786797 0.01314784 0.89856455 0.5037582  0.17014685 0.53254105\n",
            "  0.41914987 0.44321878 0.95712636 0.50240678 0.37997584 0.57731674\n",
            "  0.81165349 0.66842545 0.27754013 0.71454089 0.74137371 0.19749479\n",
            "  0.59486098 0.21153009 0.56780535 0.61925451 0.61100004 0.75213464\n",
            "  0.61357985 0.34834313 0.62069627 0.4910636  0.70842947 0.47639014\n",
            "  0.25220704 0.43609821 0.45981609 0.08228767 0.59239231 0.53094132\n",
            "  0.3133302  0.86665886 0.89920529 0.38225555 0.46041686 0.53341926\n",
            "  0.48740018 0.41410559 0.72046235 0.2131163  0.45163393 0.45233511\n",
            "  0.65089286 0.60716346 0.32634544 0.28435991 0.49083542 0.86256701\n",
            "  0.45967235 0.79521077 0.46393162 0.30927915 0.72560529 0.2114054\n",
            "  0.11283623 0.57245354 0.5428833  0.75448094 0.29385453 0.34644262\n",
            "  0.20337651 0.49930305 0.57926037 0.18761007 0.55786879 0.58358055\n",
            "  0.29968    0.39907782 0.52889952 0.43010517 0.50148423 0.61885728\n",
            "  0.18403085 0.70697144 0.37112973 0.24271471]\n",
            " [0.66755837 0.14780829 0.40653653 0.68211905 0.61066629 0.60638771\n",
            "  0.         0.59336769 0.18889563 0.6081277  0.47675629 0.14240043\n",
            "  0.69455715 0.49211046 0.16118423 0.22270613 0.18748045 0.30405427\n",
            "  0.31372897 0.59724701 0.29221962 0.66308357 0.7192242  0.10621796\n",
            "  0.20427896 0.54512922 0.36194948 0.30618628 0.86901483 0.70618459\n",
            "  0.28169479 0.17077602 0.34543222 0.63199006 0.42892057 0.78245481\n",
            "  0.16762488 0.56185078 0.13588852 0.41745357 0.15347951 0.40753381\n",
            "  0.61140975 0.71311003 0.2221974  0.1188353  0.5090441  0.70791215\n",
            "  0.70787726 0.49603859 0.50049402 0.6885816  0.48710716 0.1814558\n",
            "  0.85091964 0.26158067 0.29948435 0.81201129 0.56865714 0.74495757\n",
            "  0.1189877  0.37090602 0.17007949 0.78194307 0.63907874 0.19703844\n",
            "  0.41577885 0.60639295 0.64137706 0.78474956 0.42307858 0.26155944\n",
            "  0.51233577 0.63425844 0.22795811 0.51185962 0.57507068 0.74908889\n",
            "  0.71228438 0.48030731 0.11747469 0.6098458  0.87610417 0.59462948\n",
            "  0.71841262 0.7287269  0.17297583 0.72119926 0.74820985 0.49780769\n",
            "  0.51888779 0.63714112 0.61301784 0.61066072 0.39358865 0.32647132\n",
            "  0.69389704 0.41127607 0.26827775 0.83922824]\n",
            " [0.79467592 0.69863368 0.36274571 0.48088229 0.23102703 0.55317634\n",
            "  0.59336769 0.         0.57401884 0.59582332 0.25492657 0.4532813\n",
            "  0.48028827 0.30218881 0.6917661  0.59991486 0.59738627 0.87925417\n",
            "  0.39763741 0.55713178 0.7943113  0.97325435 0.5036627  0.61563532\n",
            "  0.57272379 0.11039376 0.90927505 0.75757331 0.49323864 1.04280705\n",
            "  0.57958345 0.49841424 0.41452955 0.17007517 0.34418171 0.58002189\n",
            "  0.44422214 0.34383036 0.46153047 0.90670537 0.46607194 0.37585623\n",
            "  0.06162748 0.87961404 0.77316559 0.55865376 0.23851117 0.97390703\n",
            "  0.4021324  0.13347318 0.11412829 0.59354894 0.93455458 0.68303851\n",
            "  0.54210155 0.79250711 0.84474655 0.40421997 0.09348716 1.02957134\n",
            "  0.53373293 0.24584245 0.76341262 0.55267418 0.14144446 0.41831573\n",
            "  0.25784428 0.05580048 0.26867101 0.46751707 0.82999549 0.80920886\n",
            "  0.86387161 0.26655113 0.66182733 0.75295664 0.2119939  0.49855274\n",
            "  0.64437497 0.13244174 0.6383666  0.22790923 0.62751905 0.22044108\n",
            "  0.75635917 0.99879286 0.43203025 0.74066711 1.04800866 0.12203426\n",
            "  0.2541443  0.19280472 0.04169137 0.89687001 0.1998215  0.31441824\n",
            "  0.73597252 0.31964577 0.39639962 0.63888767]\n",
            " [0.47901297 0.32850383 0.50802801 0.52993657 0.66083491 0.4337762\n",
            "  0.18889563 0.57401884 0.         0.42907013 0.38469109 0.18438861\n",
            "  0.5437384  0.38077259 0.34642732 0.0399921  0.02374814 0.44852384\n",
            "  0.42516212 0.42333954 0.47492822 0.50109531 0.56595291 0.09903777\n",
            "  0.0155608  0.49552341 0.52376488 0.18841767 0.73910429 0.55392047\n",
            "  0.453441   0.31765833 0.21022836 0.66112567 0.52399218 0.6210215\n",
            "  0.26968833 0.43566992 0.22738017 0.33503902 0.27158451 0.51355631\n",
            "  0.60954502 0.5274903  0.21722418 0.07274804 0.56811516 0.5367686\n",
            "  0.57698006 0.45095267 0.46390593 0.51572606 0.37641609 0.11868517\n",
            "  0.70619754 0.43845213 0.46717471 0.69584236 0.52132547 0.57934113\n",
            "  0.08735522 0.3282431  0.28761906 0.62573334 0.57658579 0.17043531\n",
            "  0.4761108  0.60338951 0.5402893  0.64770347 0.28498539 0.4313518\n",
            "  0.35581212 0.69170032 0.08918961 0.32804728 0.62306305 0.600289\n",
            "  0.53404163 0.49213482 0.10966297 0.65919354 0.71718253 0.50575637\n",
            "  0.5305943  0.5591879  0.26232954 0.53429086 0.58656457 0.51027905\n",
            "  0.42187106 0.55841862 0.58116918 0.44014245 0.3913671  0.39579996\n",
            "  0.50628168 0.49706059 0.179507   0.6737307 ]\n",
            " [0.2127114  0.75411096 0.76797279 0.19223523 0.79564195 0.04817231\n",
            "  0.6081277  0.59582332 0.42907013 0.         0.34808765 0.5289037\n",
            "  0.20602314 0.29659317 0.76928717 0.40905756 0.44116568 0.87470451\n",
            "  0.72062986 0.03983335 0.90000997 0.45793684 0.21119775 0.52807433\n",
            "  0.41393785 0.48554094 0.95251546 0.47979574 0.42174745 0.53132812\n",
            "  0.82591423 0.68180635 0.29341526 0.75506991 0.77011195 0.22617141\n",
            "  0.60974324 0.2567338  0.58017788 0.5894376  0.62462577 0.77909708\n",
            "  0.65572031 0.30023976 0.60508546 0.49072521 0.74299999 0.42889351\n",
            "  0.29934358 0.47576252 0.49944848 0.09758658 0.55744501 0.51896638\n",
            "  0.35031269 0.86608983 0.8962247  0.42830722 0.50362758 0.48582083\n",
            "  0.48962282 0.44457306 0.71271128 0.24690687 0.49777725 0.46575644\n",
            "  0.68174327 0.64923208 0.3739609  0.32739355 0.45867949 0.86022544\n",
            "  0.42080115 0.83344654 0.45013204 0.26977377 0.76312508 0.2522792\n",
            "  0.10498561 0.60898858 0.53654833 0.79282883 0.31972324 0.39234682\n",
            "  0.16143193 0.45164394 0.59463602 0.1485248  0.5104867  0.62085047\n",
            "  0.34171949 0.44584408 0.57283484 0.38517728 0.53374618 0.6447706\n",
            "  0.14019943 0.73583073 0.38673547 0.26280617]\n",
            " [0.54069522 0.61408029 0.45574038 0.27858592 0.44796631 0.30942361\n",
            "  0.47675629 0.25492657 0.38469109 0.34808765 0.         0.34173807\n",
            "  0.28441712 0.05249362 0.6173603  0.39881594 0.40806818 0.78080954\n",
            "  0.43502212 0.31118816 0.74182487 0.72280099 0.31150534 0.45623887\n",
            "  0.37800968 0.14643351 0.83400941 0.548487   0.40365476 0.79365529\n",
            "  0.58656536 0.45895561 0.18481371 0.4075802  0.45121677 0.38983234\n",
            "  0.38475396 0.12326461 0.377103   0.69616243 0.40644962 0.4684615\n",
            "  0.31199771 0.62505657 0.60098879 0.39788901 0.40228746 0.72024833\n",
            "  0.25230588 0.12800368 0.15159012 0.36401396 0.70964823 0.50308494\n",
            "  0.40774323 0.72427562 0.76952103 0.33770875 0.169388   0.77631728\n",
            "  0.3786821  0.13667954 0.63653126 0.37297227 0.19988458 0.27993009\n",
            "  0.35535731 0.30533726 0.16462588 0.3327412  0.60174562 0.73143265\n",
            "  0.62240785 0.48582432 0.46289886 0.50222703 0.41623681 0.32462286\n",
            "  0.41173691 0.26396336 0.47643227 0.44511693 0.46427875 0.12161568\n",
            "  0.50950983 0.74508114 0.36824476 0.49589936 0.79550445 0.27440974\n",
            "  0.04255058 0.17409014 0.24044348 0.64589535 0.20578781 0.34512591\n",
            "  0.48776364 0.41718161 0.21498892 0.45287605]\n",
            " [0.63036155 0.27238953 0.32407328 0.57063404 0.49422153 0.51743985\n",
            "  0.14240043 0.4532813  0.18438861 0.5289037  0.34173807 0.\n",
            "  0.58176433 0.36341509 0.27604418 0.22393513 0.19982997 0.44296192\n",
            "  0.24099567 0.51037867 0.40293596 0.68393106 0.6077643  0.17480802\n",
            "  0.19397731 0.40275758 0.49238684 0.36274403 0.74127335 0.7381058\n",
            "  0.2984146  0.15401826 0.24096167 0.50596058 0.34092741 0.67671064\n",
            "  0.08937141 0.43759343 0.05197264 0.49968248 0.09833733 0.32930289\n",
            "  0.47499285 0.69030187 0.33099082 0.12911643 0.39630959 0.71594206\n",
            "  0.58268323 0.35365029 0.35822064 0.59752103 0.55309705 0.25499849\n",
            "  0.73136133 0.38286731 0.42780252 0.67927154 0.42625715 0.76073245\n",
            "  0.10394538 0.22900803 0.31177742 0.67164565 0.49701086 0.0674261\n",
            "  0.3022438  0.46965248 0.50577438 0.66157738 0.46768834 0.38973472\n",
            "  0.54003119 0.52200372 0.26493147 0.49830144 0.45710025 0.63375954\n",
            "  0.62870147 0.34607749 0.19731962 0.49296385 0.76666191 0.45654904\n",
            "  0.66038565 0.73903777 0.07918195 0.65868941 0.76915255 0.36405171\n",
            "  0.38426625 0.49676992 0.47148055 0.62038696 0.25423888 0.21677221\n",
            "  0.63528854 0.31547198 0.1498404  0.73653152]\n",
            " [0.41029986 0.84158176 0.74008874 0.01508689 0.7044999  0.16181965\n",
            "  0.69455715 0.48028827 0.5437384  0.20602314 0.28441712 0.58176433\n",
            "  0.         0.23832973 0.85102187 0.53688107 0.56205383 0.98764725\n",
            "  0.71676633 0.17439205 0.98133162 0.66389636 0.02723332 0.63831174\n",
            "  0.53085418 0.3790107  1.05518426 0.64424421 0.21923805 0.7372075\n",
            "  0.85738649 0.7208544  0.34912727 0.64990241 0.7349833  0.10563104\n",
            "  0.64508769 0.16122317 0.62708632 0.77046845 0.66463468 0.75284921\n",
            "  0.54177881 0.4956769  0.74824508 0.58852717 0.67641856 0.63259713\n",
            "  0.10230669 0.39007536 0.41215491 0.14054011 0.74971889 0.65302434\n",
            "  0.16394518 0.95537314 0.99379366 0.22350707 0.38841986 0.68902554\n",
            "  0.57865392 0.41736348 0.82948372 0.09086078 0.3539564  0.51436364\n",
            "  0.63833235 0.53608445 0.21721534 0.12281744 0.64571752 0.95601052\n",
            "  0.62038828 0.74178818 0.59131589 0.470581   0.67788762 0.05689187\n",
            "  0.18929703 0.53570392 0.65260299 0.70144298 0.18557071 0.25985049\n",
            "  0.32800384 0.6546745  0.62852825 0.30613472 0.71439646 0.54236671\n",
            "  0.25418894 0.29732826 0.44746202 0.59113351 0.48988579 0.62844162\n",
            "  0.31633147 0.70113113 0.43270074 0.16856302]\n",
            " [0.49251818 0.63379409 0.50402827 0.23123146 0.50014771 0.25720074\n",
            "  0.49211046 0.30218881 0.38077259 0.29659317 0.05249362 0.36341509\n",
            "  0.23832973 0.         0.63916336 0.38976453 0.40338969 0.79508936\n",
            "  0.47845493 0.25926504 0.76619943 0.68389244 0.26556142 0.46032482\n",
            "  0.37222071 0.19208699 0.85279649 0.53297392 0.37802175 0.75564879\n",
            "  0.62317495 0.49090477 0.17196436 0.45850807 0.5005745  0.34288627\n",
            "  0.41557031 0.07857198 0.40328822 0.6783413  0.436429   0.51654366\n",
            "  0.36073592 0.57773971 0.5979653  0.40341948 0.4545435  0.67786485\n",
            "  0.21976772 0.17920264 0.2029056  0.31177467 0.68562009 0.4993122\n",
            "  0.371922   0.74575347 0.78900475 0.3208184  0.21291393 0.7343966\n",
            "  0.38673579 0.17903924 0.64588476 0.32832232 0.22940057 0.29823555\n",
            "  0.4055525  0.35414633 0.15974632 0.2994925  0.57702608 0.75084024\n",
            "  0.5903465  0.53801872 0.45305684 0.46390921 0.46862368 0.2823711\n",
            "  0.35929334 0.3164465  0.47918336 0.49728302 0.42131624 0.13408046\n",
            "  0.45800734 0.70258035 0.39892403 0.44402311 0.75443938 0.32687843\n",
            "  0.05350623 0.19252393 0.28398208 0.60673418 0.25528132 0.39030089\n",
            "  0.43655512 0.46635994 0.22438402 0.40591297]\n",
            " [0.82120401 0.02747072 0.42347006 0.83902226 0.65711379 0.76734594\n",
            "  0.16118423 0.6917661  0.34642732 0.76928717 0.6173603  0.27604418\n",
            "  0.85102187 0.63916336 0.         0.3766482  0.34118809 0.19253149\n",
            "  0.33593237 0.75830906 0.13130502 0.78853504 0.87621593 0.25286989\n",
            "  0.36198391 0.66336581 0.21998492 0.42432952 1.0171566  0.82264263\n",
            "  0.21191993 0.19676621 0.50272365 0.69428534 0.44973544 0.9412419\n",
            "  0.24911735 0.71228602 0.24281895 0.49991404 0.22663681 0.41927158\n",
            "  0.69745799 0.86109662 0.29669683 0.27915296 0.55560188 0.84051457\n",
            "  0.85790699 0.61454451 0.61422742 0.84948433 0.58232728 0.30552243\n",
            "  1.00462456 0.10691877 0.15478671 0.95505277 0.68455921 0.8720014\n",
            "  0.28004407 0.4973402  0.15826786 0.93943838 0.76022445 0.34111557\n",
            "  0.47128659 0.69348531 0.78078071 0.93624462 0.54095604 0.11790994\n",
            "  0.63787248 0.67290693 0.36760913 0.65931366 0.62578134 0.90465893\n",
            "  0.8734686  0.56598425 0.25415793 0.65704481 1.03400868 0.72993284\n",
            "  0.87701299 0.85955452 0.26306384 0.88058675 0.87170526 0.58158481\n",
            "  0.65991085 0.76650749 0.71807237 0.74435571 0.49660435 0.38819146\n",
            "  0.85270808 0.44394236 0.41970429 0.99877593]\n",
            " [0.44531431 0.3571782  0.54712941 0.52266738 0.6953753  0.41779586\n",
            "  0.22270613 0.59991486 0.0399921  0.40905756 0.39881594 0.22393513\n",
            "  0.53688107 0.38976453 0.3766482  0.         0.03550796 0.46564699\n",
            "  0.4648559  0.40670451 0.50312571 0.46110684 0.55791642 0.12431221\n",
            "  0.0308586  0.51697336 0.5445041  0.157886   0.73812382 0.51419148\n",
            "  0.49194395 0.35722102 0.2178054  0.69326868 0.56272086 0.60913531\n",
            "  0.309645   0.43900268 0.26736402 0.30679851 0.31155045 0.55284161\n",
            "  0.63784515 0.49090972 0.2130288  0.11065484 0.60400685 0.4970437\n",
            "  0.57693808 0.47393889 0.48822654 0.49890906 0.34225089 0.11617752\n",
            "  0.70041701 0.4646369  0.49018103 0.69931566 0.54286588 0.53938766\n",
            "  0.12711576 0.35431765 0.3036598  0.61604587 0.59442767 0.20578255\n",
            "  0.51269637 0.63157102 0.54943199 0.64500217 0.2476171  0.45537047\n",
            "  0.31610187 0.7268498  0.06413633 0.29044584 0.65756631 0.59372708\n",
            "  0.51387007 0.52344039 0.12868087 0.69365548 0.70584116 0.51848166\n",
            "  0.50184543 0.51937552 0.30214378 0.50683479 0.5465729  0.54147666\n",
            "  0.43392951 0.57288696 0.60487199 0.40032062 0.42222009 0.43367901\n",
            "  0.47791792 0.53535929 0.20351889 0.65970774]\n",
            " [0.4808     0.32187614 0.5238992  0.54808753 0.68140345 0.448028\n",
            "  0.18748045 0.59738627 0.02374814 0.44116568 0.40806818 0.19982997\n",
            "  0.56205383 0.40338969 0.34118809 0.03550796 0.         0.43411567\n",
            "  0.43944111 0.43725038 0.46794238 0.48998191 0.58383042 0.08919331\n",
            "  0.03178381 0.51925581 0.5114883  0.16729652 0.75949128 0.54075249\n",
            "  0.4589727  0.32633657 0.23230928 0.68287257 0.5405685  0.63732709\n",
            "  0.28263776 0.45709754 0.24001086 0.31268455 0.28285487 0.52900015\n",
            "  0.63247601 0.52577695 0.19464694 0.07857849 0.58782175 0.52833416\n",
            "  0.59758095 0.47462619 0.48747834 0.52961596 0.3564833  0.09594877\n",
            "  0.72498686 0.42985509 0.45632254 0.71743146 0.54505389 0.56935411\n",
            "  0.09836946 0.35167277 0.27243603 0.64298    0.60028797 0.1912315\n",
            "  0.49531728 0.62634796 0.56301806 0.6675217  0.2678811  0.42117247\n",
            "  0.34282007 0.71187344 0.0676224  0.32489726 0.64367031 0.61874658\n",
            "  0.54611641 0.51427176 0.09538574 0.67980912 0.73376667 0.52901273\n",
            "  0.53689321 0.55029176 0.27636748 0.54159093 0.5755649  0.53244349\n",
            "  0.44500746 0.58188248 0.6047748  0.43129099 0.41372357 0.4137494\n",
            "  0.51287808 0.51433934 0.20321418 0.68908113]\n",
            " [0.88301844 0.18116321 0.61346645 0.97441722 0.84915355 0.88201107\n",
            "  0.30405427 0.87925417 0.44852384 0.87470451 0.78080954 0.44296192\n",
            "  0.98764725 0.79508936 0.19253149 0.46564699 0.43411567 0.\n",
            "  0.52770842 0.87133205 0.16312187 0.78930793 1.01105336 0.350615\n",
            "  0.46293473 0.84302637 0.09229091 0.44550224 1.17048939 0.80686404\n",
            "  0.38536203 0.38880026 0.64095799 0.88680381 0.64000749 1.06890977\n",
            "  0.43504666 0.8628577  0.42085859 0.46142321 0.41337607 0.60842997\n",
            "  0.88779203 0.90545215 0.29581774 0.3992583  0.74789248 0.85203116\n",
            "  1.00857539 0.79384642 0.79580495 0.9637124  0.55122897 0.35993936\n",
            "  1.14751236 0.12300596 0.08250627 1.11554462 0.86545995 0.87206295\n",
            "  0.41112175 0.67153137 0.16201339 1.07215969 0.93866463 0.50103053\n",
            "  0.66377716 0.88361658 0.94542803 1.08399951 0.54661042 0.09168907\n",
            "  0.64747966 0.864114   0.43060547 0.71044869 0.81814136 1.04343647\n",
            "  0.97949397 0.75584764 0.33913546 0.84914029 1.16463433 0.89840201\n",
            "  0.95712847 0.86699269 0.44739677 0.96510237 0.86555967 0.77186818\n",
            "  0.82291966 0.93972357 0.90356771 0.76217549 0.68150105 0.58006658\n",
            "  0.93448565 0.63570251 0.57072386 1.12221862]\n",
            " [0.85356493 0.35225546 0.0931826  0.70928355 0.32148736 0.69786797\n",
            "  0.31372897 0.39763741 0.42516212 0.72062986 0.43502212 0.24099567\n",
            "  0.71676633 0.47845493 0.33593237 0.4648559  0.43944111 0.52770842\n",
            "  0.         0.6939569  0.41223984 0.92473954 0.74399962 0.39641094\n",
            "  0.43497298 0.40974215 0.53648337 0.59720882 0.8241147  0.97904675\n",
            "  0.18236647 0.14944508 0.43005398 0.36333715 0.1171968  0.82088277\n",
            "  0.15797485 0.55633302 0.20049622 0.7249742  0.16365327 0.09386888\n",
            "  0.38625985 0.92000096 0.53566491 0.3642857  0.22086274 0.95515742\n",
            "  0.68450082 0.36855403 0.35740171 0.77049794 0.7864045  0.48004385\n",
            "  0.84063895 0.42128479 0.47543727 0.7452714  0.42324326 1.0009524\n",
            "  0.34142054 0.29950897 0.45785493 0.80669184 0.50299663 0.27743328\n",
            "  0.14569554 0.38374805 0.57186348 0.76426378 0.70636963 0.44441479\n",
            "  0.78094979 0.33713599 0.50233408 0.73421625 0.29127796 0.75946662\n",
            "  0.81037674 0.26525141 0.41600488 0.32152333 0.89901344 0.51322234\n",
            "  0.86790697 0.97855285 0.16307381 0.86227077 1.00985221 0.27638152\n",
            "  0.47181795 0.5289051  0.43267768 0.86027157 0.24102262 0.09261467\n",
            "  0.84304734 0.10802063 0.34111714 0.88377423]\n",
            " [0.25194095 0.74431614 0.73817952 0.15992484 0.75912038 0.01314784\n",
            "  0.59724701 0.55713178 0.42333954 0.03983335 0.31118816 0.51037867\n",
            "  0.17439205 0.25926504 0.75830906 0.40670451 0.43725038 0.87133205\n",
            "  0.6939569  0.         0.88946406 0.49209901 0.18315356 0.52221485\n",
            "  0.40861577 0.44696145 0.94691274 0.48973486 0.39281487 0.56570859\n",
            "  0.80542471 0.66192208 0.27126995 0.71738123 0.73939803 0.21024373\n",
            "  0.58870322 0.21707592 0.56099933 0.60617302 0.6045305  0.74956512\n",
            "  0.61725824 0.3395359  0.60877459 0.48145127 0.70860418 0.46570521\n",
            "  0.26352911 0.43843259 0.46214493 0.09239654 0.57925651 0.51945653\n",
            "  0.32647253 0.85716005 0.88926813 0.39409564 0.46468733 0.52281819\n",
            "  0.4782814  0.41257401 0.70967318 0.22620469 0.45798668 0.44570148\n",
            "  0.64963262 0.61080079 0.33430986 0.29705154 0.47769356 0.85273744\n",
            "  0.44672595 0.79696589 0.45217094 0.29643245 0.72702637 0.22439965\n",
            "  0.11849747 0.57340375 0.53225126 0.75628035 0.30644481 0.35258374\n",
            "  0.19931054 0.4887732  0.57322176 0.18475816 0.54706466 0.58485496\n",
            "  0.30319698 0.40601103 0.53363565 0.41816022 0.50068006 0.61589648\n",
            "  0.17897363 0.70502676 0.36496303 0.25458452]\n",
            " [0.94513651 0.14643684 0.48808588 0.96948959 0.72907438 0.89856455\n",
            "  0.29221962 0.7943113  0.47492822 0.90000997 0.74182487 0.40293596\n",
            "  0.98133162 0.76619943 0.13130502 0.50312571 0.46794238 0.16312187\n",
            "  0.41223984 0.88946406 0.         0.89311568 1.00669432 0.37881568\n",
            "  0.49047523 0.77689386 0.12912296 0.53192025 1.14371962 0.92068799\n",
            "  0.245042   0.29746779 0.63355327 0.77534497 0.51490713 1.07225696\n",
            "  0.36290888 0.84046311 0.36476916 0.58382283 0.34019524 0.48077935\n",
            "  0.79285299 0.9807433  0.3908675  0.40940142 0.63139202 0.94948349\n",
            "  0.98561221 0.72886118 0.72618572 0.98072696 0.6711329  0.42116935\n",
            "  1.13374153 0.04946344 0.08257869 1.07924812 0.79662455 0.97684349\n",
            "  0.41118617 0.61705629 0.23874137 1.07006033 0.8742022  0.46927609\n",
            "  0.55648159 0.7895675  0.90381274 1.06447423 0.64486284 0.07889599\n",
            "  0.74451914 0.73918227 0.48756841 0.77966272 0.70152733 1.03460673\n",
            "  1.00435072 0.66432876 0.37701318 0.72949852 1.16473791 0.85127549\n",
            "  1.00480585 0.96713611 0.37843607 1.00909678 0.97407874 0.67844083\n",
            "  0.78430151 0.88467542 0.82388778 0.85493306 0.60579882 0.48176752\n",
            "  0.98071496 0.51710414 0.54920276 1.129967  ]\n",
            " [0.27106664 0.76303241 1.00374255 0.65017201 1.12208985 0.5037582\n",
            "  0.66308357 0.97325435 0.50109531 0.45793684 0.72280099 0.68393106\n",
            "  0.66389636 0.68389244 0.78853504 0.46110684 0.48998191 0.78930793\n",
            "  0.92473954 0.49209901 0.89311568 0.         0.66732744 0.55721609\n",
            "  0.49024317 0.8684652  0.88150669 0.36421266 0.87678189 0.07371936\n",
            "  0.94396164 0.81599474 0.56444461 1.10399032 1.01719187 0.66417853\n",
            "  0.77069281 0.68046114 0.728469   0.33656709 0.77244474 1.01043018\n",
            "  1.0249835  0.21265796 0.5028623  0.56840498 1.04126804 0.0735966\n",
            "  0.75552972 0.84004319 0.86097613 0.53778022 0.25041422 0.48607606\n",
            "  0.79806707 0.84566771 0.84864253 0.88598164 0.89209869 0.08373228\n",
            "  0.58769197 0.75175026 0.65506783 0.69258965 0.91217181 0.65410326\n",
            "  0.9558069  1.0182579  0.80911074 0.7843313  0.24838647 0.82424118\n",
            "  0.15117458 1.15697459 0.43604918 0.22059365 1.08492103 0.70771762\n",
            "  0.50722747 0.9357749  0.54638486 1.1198898  0.74299333 0.8102024\n",
            "  0.38125989 0.08013141 0.76275296 0.40408496 0.0855918  0.95226035\n",
            "  0.73729519 0.86878537 0.96291988 0.07720672 0.8378948  0.884924\n",
            "  0.37698713 0.98764584 0.61683335 0.67733375]\n",
            " [0.40908815 0.86645461 0.76711595 0.03720678 0.72903265 0.17014685\n",
            "  0.7192242  0.5036627  0.56595291 0.21119775 0.31150534 0.6077643\n",
            "  0.02723332 0.26556142 0.87621593 0.55791642 0.58383042 1.01105336\n",
            "  0.74399962 0.18315356 1.00669432 0.66732744 0.         0.6612415\n",
            "  0.55282066 0.40370429 1.07938926 0.66149025 0.2105539  0.74028542\n",
            "  0.88433564 0.74752835 0.37385449 0.67352932 0.7618766  0.07900778\n",
            "  0.6717683  0.18836507 0.65339504 0.78518667 0.69121508 0.77989527\n",
            "  0.56501996 0.49312378 0.76846673 0.61218175 0.70236635 0.6332694\n",
            "  0.11539759 0.41597018 0.43786242 0.13497257 0.76174183 0.67393007\n",
            "  0.14595245 0.98028829 1.01826194 0.22581985 0.41236285 0.68923253\n",
            "  0.60283984 0.44459354 0.85235955 0.06406848 0.37506862 0.54034384\n",
            "  0.66512858 0.55941985 0.23832854 0.11712067 0.65889335 0.98054636\n",
            "  0.62979292 0.76620748 0.61126489 0.47924344 0.70285731 0.04127165\n",
            "  0.180328   0.56165651 0.67511998 0.725966   0.15904472 0.28342777\n",
            "  0.32146519 0.65483761 0.65522392 0.2988538  0.71506811 0.56805234\n",
            "  0.2808313  0.3184039  0.47006248 0.59573755 0.51687098 0.6556509\n",
            "  0.31168703 0.72806088 0.45847047 0.14170589]\n",
            " [0.56835035 0.23291675 0.48639907 0.62482899 0.66892977 0.53254105\n",
            "  0.10621796 0.61563532 0.09903777 0.52807433 0.45623887 0.17480802\n",
            "  0.63831174 0.46032482 0.25286989 0.12431221 0.08919331 0.350615\n",
            "  0.39641094 0.52221485 0.37881568 0.55721609 0.6612415  0.\n",
            "  0.1141462  0.5501012  0.42475987 0.20442088 0.82803158 0.60159939\n",
            "  0.38685888 0.26567863 0.2958962  0.68003189 0.50618913 0.71829706\n",
            "  0.23949333 0.52162434 0.19840992 0.32922141 0.2330702  0.48945778\n",
            "  0.643223   0.61009238 0.15819513 0.05893684 0.57041469 0.6017014\n",
            "  0.66557675 0.50267737 0.5119109  0.61457992 0.39091866 0.08363792\n",
            "  0.79955851 0.34073312 0.36824941 0.77986884 0.57524872 0.63889142\n",
            "  0.08215236 0.3755743  0.19117365 0.72188655 0.63799776 0.19738159\n",
            "  0.4761652  0.6375441  0.61758529 0.73860274 0.31954659 0.33264357\n",
            "  0.40670834 0.69628129 0.12174037 0.40835982 0.63187139 0.69449315\n",
            "  0.63305268 0.51728705 0.02290539 0.66769932 0.81408876 0.57771213\n",
            "  0.6260722  0.62251328 0.23820155 0.63076182 0.64246133 0.53544935\n",
            "  0.49614142 0.62666355 0.62874942 0.50445651 0.42104029 0.38907267\n",
            "  0.60207028 0.48392333 0.2415779  0.77180058]\n",
            " [0.46387245 0.34405393 0.51667256 0.51695478 0.6648939  0.41914987\n",
            "  0.20427896 0.57272379 0.0155608  0.41393785 0.37800968 0.19397731\n",
            "  0.53085418 0.37222071 0.36198391 0.0308586  0.03178381 0.46293473\n",
            "  0.43497298 0.40861577 0.49047523 0.49024317 0.55282066 0.1141462\n",
            "  0.         0.4920186  0.53872415 0.18648914 0.72773473 0.54420511\n",
            "  0.46723184 0.3304526  0.20084676 0.66348899 0.53208757 0.60714027\n",
            "  0.28053471 0.42536629 0.23851533 0.33458607 0.28330849 0.52250601\n",
            "  0.60956192 0.51303941 0.22609796 0.08742744 0.57325592 0.52459806\n",
            "  0.56580441 0.44814478 0.46175976 0.50101166 0.37245312 0.12741527\n",
            "  0.69361724 0.45391191 0.48238045 0.68572258 0.5178759  0.567867\n",
            "  0.10022778 0.32690049 0.3017322  0.61227883 0.57153623 0.17503591\n",
            "  0.48186289 0.60333813 0.53191889 0.63585487 0.27846214 0.44664728\n",
            "  0.34619013 0.69623608 0.08910953 0.31410002 0.62709055 0.58749477\n",
            "  0.51891953 0.49392068 0.12383036 0.66319278 0.70342786 0.49864511\n",
            "  0.51504215 0.54721107 0.27255207 0.51873114 0.57559949 0.51200097\n",
            "  0.41444858 0.55199993 0.57877116 0.42822423 0.39282953 0.40286057\n",
            "  0.49072435 0.50460405 0.17680657 0.65948669]\n",
            " [0.68458945 0.66601118 0.39965218 0.37811463 0.32551051 0.44321878\n",
            "  0.54512922 0.11039376 0.49552341 0.48554094 0.14643351 0.40275758\n",
            "  0.3790107  0.19208699 0.66336581 0.51697336 0.51925581 0.84302637\n",
            "  0.40974215 0.44696145 0.77689386 0.8684652  0.40370429 0.5501012\n",
            "  0.4920186  0.         0.88333288 0.6726504  0.42511831 0.93889028\n",
            "  0.58419981 0.48022257 0.31741425 0.27382803 0.38709594 0.48170017\n",
            "  0.41515932 0.23523388 0.42262199 0.82189152 0.43790671 0.41314875\n",
            "  0.17036218 0.76978857 0.70429294 0.49144939 0.30522735 0.86667518\n",
            "  0.31057985 0.04919852 0.05252743 0.48598081 0.84318269 0.60992282\n",
            "  0.45985813 0.76827883 0.81814427 0.34084023 0.02589837 0.9227077\n",
            "  0.46825885 0.17559373 0.7137135  0.45683884 0.09731429 0.35539323\n",
            "  0.29051453 0.16396164 0.1795455  0.3830226  0.73673225 0.78108761\n",
            "  0.7641726  0.36288232 0.5804956  0.64788051 0.2993076  0.40329964\n",
            "  0.5363963  0.16802179 0.57215898 0.3224592  0.53767331 0.12318747\n",
            "  0.64624554 0.8915112  0.40052643 0.63079846 0.94176515 0.16992117\n",
            "  0.14382185 0.12036656 0.0945237  0.79170241 0.17365551 0.31809752\n",
            "  0.62571744 0.35660937 0.31610595 0.54241495]\n",
            " [0.97014084 0.22002119 0.61527287 1.04242708 0.85564    0.95712636\n",
            "  0.36194948 0.90927505 0.52376488 0.95251546 0.83400941 0.49238684\n",
            "  1.05518426 0.85279649 0.21998492 0.5445041  0.5114883  0.09229091\n",
            "  0.53648337 0.94691274 0.12912296 0.88150669 1.07938926 0.42475987\n",
            "  0.53872415 0.88333288 0.         0.53540575 1.23041337 0.8990801\n",
            "  0.37385212 0.41109623 0.70635011 0.89974862 0.64211278 1.14017687\n",
            "  0.46870642 0.92361301 0.46234098 0.55347596 0.44609126 0.60840821\n",
            "  0.91177379 0.99495977 0.38595834 0.46817749 0.75685179 0.94395295\n",
            "  1.06964135 0.83452726 0.83405711 1.03924646 0.64332336 0.44392012\n",
            "  1.2126523  0.11691379 0.06520094 1.17120408 0.90443146 0.96431151\n",
            "  0.47655619 0.71677587 0.24445629 1.14149632 0.98020919 0.55502872\n",
            "  0.67890855 0.90814277 0.99816121 1.14669202 0.63825785 0.10280613\n",
            "  0.73918509 0.86678461 0.51438601 0.7984988  0.82718746 1.11019877\n",
            "  1.05749603 0.7814673  0.41614013 0.85596299 1.23499041 0.94839223\n",
            "  1.04123732 0.95907351 0.48291758 1.04832781 0.95785058 0.79638849\n",
            "  0.87650014 0.98604526 0.9367119  0.85365532 0.71584044 0.60053018\n",
            "  1.01818948 0.6427587  0.62988327 1.19513274]\n",
            " [0.44223814 0.39892956 0.68490535 0.62930844 0.84869529 0.50240678\n",
            "  0.30618628 0.75757331 0.18841767 0.47979574 0.548487   0.36274403\n",
            "  0.64424421 0.53297392 0.42432952 0.157886   0.16729652 0.44550224\n",
            "  0.59720882 0.48973486 0.53192025 0.36421266 0.66149025 0.20442088\n",
            "  0.18648914 0.6726504  0.53540575 0.         0.85683648 0.40147256\n",
            "  0.58751692 0.47009547 0.36391764 0.84949933 0.70301173 0.69989236\n",
            "  0.43924717 0.57187522 0.39687247 0.14934257 0.43534307 0.68901143\n",
            "  0.7957102  0.45997838 0.1496878  0.23415106 0.75475836 0.41772781\n",
            "  0.70017428 0.6306135  0.64547105 0.57674825 0.19035612 0.12490575\n",
            "  0.80730427 0.48568544 0.49453937 0.82848404 0.69854227 0.44767883\n",
            "  0.25880775 0.51213077 0.29698883 0.71340438 0.74681047 0.35847877\n",
            "  0.66188172 0.78944406 0.69065834 0.76082295 0.11779744 0.46674229\n",
            "  0.21365995 0.87905793 0.0996761  0.26810365 0.81096542 0.70050968\n",
            "  0.57846253 0.68025562 0.18902111 0.84710433 0.79616475 0.66527172\n",
            "  0.52693565 0.43593356 0.43548577 0.53863928 0.44770725 0.69836345\n",
            "  0.5806936  0.72154064 0.76171569 0.32306886 0.57925827 0.57892994\n",
            "  0.50647478 0.67819457 0.36121584 0.74217965]\n",
            " [0.61439247 1.01173057 0.82390131 0.23417578 0.72231425 0.37997584\n",
            "  0.86901483 0.49323864 0.73910429 0.42174745 0.40365476 0.74127335\n",
            "  0.21923805 0.37802175 1.0171566  0.73812382 0.75949128 1.17048939\n",
            "  0.8241147  0.39281487 1.14371962 0.87678189 0.2105539  0.82803158\n",
            "  0.72773473 0.42511831 1.23041337 0.85683648 0.         0.94940618\n",
            "  0.98667196 0.86242232 0.53214273 0.65479943 0.81211341 0.2235449\n",
            "  0.78840589 0.30763784 0.77968416 0.98718122 0.81008958 0.83736507\n",
            "  0.54745651 0.69565781 0.95114514 0.77380384 0.72540096 0.84008725\n",
            "  0.16245488 0.45851787 0.47393896 0.33985991 0.9686817  0.8536777\n",
            "  0.09372881 1.1237738  1.16683047 0.08989791 0.42073063 0.89528658\n",
            "  0.75974981 0.53675395 1.01754004 0.18975527 0.35213191 0.67624824\n",
            "  0.71510814 0.54365282 0.25226666 0.09697963 0.86409448 1.12866962\n",
            "  0.83940759 0.75595768 0.79637061 0.68924469 0.70522545 0.16951879\n",
            "  0.37737359 0.59256147 0.84478606 0.71921537 0.19204322 0.31110667\n",
            "  0.51831246 0.86092446 0.77189951 0.4946098  0.92168865 0.59248172\n",
            "  0.36184397 0.3068983  0.4523113  0.80589512 0.58327441 0.73156807\n",
            "  0.51260489 0.78118775 0.60073734 0.2439543 ]\n",
            " [0.34038138 0.79638329 1.06037488 0.72355099 1.18664977 0.57731674\n",
            "  0.70618459 1.04280705 0.55392047 0.53132812 0.79365529 0.7381058\n",
            "  0.7372075  0.75564879 0.82264263 0.51419148 0.54075249 0.80686404\n",
            "  0.97904675 0.56570859 0.92068799 0.07371936 0.74028542 0.60159939\n",
            "  0.54420511 0.93889028 0.8990801  0.40147256 0.94940618 0.\n",
            "  0.98787816 0.86444058 0.63184479 1.17065334 1.07485181 0.73548629\n",
            "  0.82322038 0.75363445 0.78066901 0.3461459  0.82347498 1.06651702\n",
            "  1.09369077 0.27450274 0.53019828 0.61832196 1.10375732 0.12192937\n",
            "  0.8291758  0.90942214 0.93002657 0.61000776 0.25631628 0.52599658\n",
            "  0.8698421  0.87229831 0.87088905 0.95949328 0.96276499 0.09022867\n",
            "  0.63909985 0.81800585 0.68196319 0.76442555 0.98432459 0.71247437\n",
            "  1.01680155 1.08697763 0.88242248 0.85734973 0.28369546 0.84898633\n",
            "  0.19810929 1.22106397 0.48252857 0.29175848 1.1492802  0.78054167\n",
            "  0.57817263 1.00163494 0.58873007 1.18451883 0.81262365 0.88279402\n",
            "  0.44896782 0.11232935 0.81624232 0.47222899 0.06869267 1.01837321\n",
            "  0.80911287 0.94148164 1.03340284 0.15009561 0.90284628 0.94352627\n",
            "  0.44633088 1.04611312 0.67989821 0.74672727]\n",
            " [0.9245723  0.2368439  0.24593948 0.84802406 0.48714472 0.81165349\n",
            "  0.28169479 0.57958345 0.453441   0.82591423 0.58656536 0.2984146\n",
            "  0.85738649 0.62317495 0.21191993 0.49194395 0.4589727  0.38536203\n",
            "  0.18236647 0.80542471 0.245042   0.94396164 0.88433564 0.38685888\n",
            "  0.46723184 0.58419981 0.37385212 0.58751692 0.98667196 0.98787816\n",
            "  0.         0.14443443 0.53417699 0.53787151 0.27251893 0.95793523\n",
            "  0.216806   0.70162096 0.24652257 0.68887595 0.20131503 0.23755249\n",
            "  0.56829915 0.9793189  0.4852224  0.38128935 0.39247597 0.98648465\n",
            "  0.83885653 0.54001146 0.53169804 0.88997948 0.76433524 0.46261508\n",
            "  0.99389003 0.26629681 0.31897396 0.91206739 0.59982826 1.0252809\n",
            "  0.36738841 0.45065237 0.36544733 0.94824656 0.67961845 0.36016581\n",
            "  0.32719475 0.56591762 0.73612755 0.91929904 0.70469747 0.29484643\n",
            "  0.79356692 0.49532378 0.50796179 0.78133068 0.46165691 0.90492728\n",
            "  0.92391754 0.44714208 0.39916199 0.48777274 1.04264191 0.67887875\n",
            "  0.95865726 1.00791889 0.23257446 0.95710389 1.02927823 0.45865787\n",
            "  0.6267194  0.70095278 0.61384987 0.88923522 0.41121176 0.26788556\n",
            "  0.93356903 0.27896398 0.44052728 1.0196676 ]\n",
            " [0.78218661 0.20879858 0.24225735 0.71081035 0.46498368 0.66842545\n",
            "  0.17077602 0.49841424 0.31765833 0.68180635 0.45895561 0.15401826\n",
            "  0.7208544  0.49090477 0.19676621 0.35722102 0.32633657 0.38880026\n",
            "  0.14944508 0.66192208 0.29746779 0.81599474 0.74752835 0.26567863\n",
            "  0.3304526  0.48022257 0.41109623 0.47009547 0.86242232 0.86444058\n",
            "  0.14443443 0.         0.3909002  0.49858005 0.26664183 0.8195464\n",
            "  0.07576869 0.56855569 0.10209407 0.58788895 0.05744161 0.24139936\n",
            "  0.50135589 0.83921461 0.39221808 0.24776353 0.36266653 0.85423091\n",
            "  0.70958841 0.43268163 0.42910627 0.74740189 0.65532979 0.34755431\n",
            "  0.86282574 0.29422048 0.34692804 0.7924794  0.49946759 0.8956856\n",
            "  0.2303427  0.32707346 0.30846862 0.81158959 0.57751377 0.21625754\n",
            "  0.27551052 0.49754245 0.61593827 0.78983671 0.58441016 0.31229504\n",
            "  0.66747314 0.48367203 0.38193611 0.64336071 0.43219991 0.77021916\n",
            "  0.78041111 0.37048411 0.28237991 0.46467863 0.90642371 0.561013\n",
            "  0.81437414 0.87642864 0.09235669 0.81269474 0.9015844  0.38566002\n",
            "  0.50057914 0.59053822 0.52689187 0.75737953 0.30839001 0.19142525\n",
            "  0.78927978 0.25470237 0.29749908 0.88065279]\n",
            " [0.43178536 0.49260504 0.48539494 0.33672038 0.56097133 0.27754013\n",
            "  0.34543222 0.41452955 0.21022836 0.29341526 0.18481371 0.24096167\n",
            "  0.34912727 0.17196436 0.50272365 0.2178054  0.23230928 0.64095799\n",
            "  0.43005398 0.27126995 0.63355327 0.56444461 0.37385449 0.2958962\n",
            "  0.20084676 0.31741425 0.70635011 0.36391764 0.53214273 0.63184479\n",
            "  0.53417699 0.3909002  0.         0.5396341  0.49122037 0.4388454\n",
            "  0.31743394 0.22617515 0.29061636 0.51135306 0.33346842 0.49547617\n",
            "  0.46272564 0.50632383 0.4269259  0.24222306 0.48790304 0.57384773\n",
            "  0.36968859 0.28151173 0.30054811 0.35680185 0.52664864 0.32822571\n",
            "  0.5067799  0.60644816 0.64470564 0.48584958 0.34286293 0.62717281\n",
            "  0.23022529 0.18847232 0.48572621 0.43681112 0.3841775  0.17499119\n",
            "  0.41185643 0.4560475  0.33166964 0.4434157  0.41958048 0.60689507\n",
            "  0.44940339 0.59693717 0.28122142 0.34728543 0.52450813 0.40385845\n",
            "  0.38975108 0.3724997  0.31298533 0.55860926 0.53129235 0.30184354\n",
            "  0.4378995  0.59868326 0.30197227 0.43233297 0.64301116 0.38853943\n",
            "  0.2171581  0.357652   0.41058217 0.489645   0.27769322 0.36045601\n",
            "  0.41308612 0.4578462  0.09369991 0.49738025]\n",
            " [0.94635337 0.70737859 0.29348567 0.65009701 0.073798   0.71454089\n",
            "  0.63199006 0.17007517 0.66112567 0.75506991 0.4075802  0.50596058\n",
            "  0.64990241 0.45850807 0.69428534 0.69326868 0.68287257 0.88680381\n",
            "  0.36333715 0.71738123 0.77534497 1.10399032 0.67352932 0.68003189\n",
            "  0.66348899 0.27382803 0.89974862 0.84949933 0.65479943 1.17065334\n",
            "  0.53787151 0.49858005 0.5396341  0.         0.26795545 0.75007142\n",
            "  0.46639026 0.50888666 0.49637289 0.99529392 0.48451496 0.30371138\n",
            "  0.10962271 1.02910371 0.83695104 0.62863226 0.1455587  1.11200608\n",
            "  0.57195769 0.27957802 0.25601343 0.759772   1.0353014  0.7568935\n",
            "  0.70924502 0.78417442 0.83825368 0.56495856 0.26163384 1.16613755\n",
            "  0.60250366 0.35270031 0.79629187 0.72272081 0.30782973 0.4922302\n",
            "  0.22309287 0.11467911 0.43861176 0.63573214 0.93615724 0.8063255\n",
            "  0.98309053 0.10210978 0.75022349 0.88650962 0.07956463 0.66858993\n",
            "  0.81006802 0.17064174 0.70278253 0.07108461 0.79662449 0.39012994\n",
            "  0.91644296 1.13691567 0.45921296 0.90200569 1.18250371 0.15310392\n",
            "  0.41529321 0.36166089 0.2067454  1.02926336 0.27187029 0.30947211\n",
            "  0.89506139 0.2590943  0.49700661 0.80894246]\n",
            " [0.92259996 0.467411   0.02683998 0.72968521 0.21464276 0.74137371\n",
            "  0.42892057 0.34418171 0.52399218 0.77011195 0.45121677 0.34092741\n",
            "  0.7349833  0.5005745  0.44973544 0.56272086 0.5405685  0.64000749\n",
            "  0.1171968  0.73939803 0.51490713 1.01719187 0.7618766  0.50618913\n",
            "  0.53208757 0.38709594 0.64211278 0.70301173 0.81211341 1.07485181\n",
            "  0.27251893 0.26664183 0.49122037 0.26795545 0.         0.84059222\n",
            "  0.26693444 0.57430198 0.30785019 0.83540685 0.27646326 0.03575593\n",
            "  0.31662977 0.99443639 0.65002441 0.46886146 0.12294201 1.04240287\n",
            "  0.68715206 0.355937   0.33862497 0.80759297 0.89318784 0.5895998\n",
            "  0.84146097 0.52922331 0.58328642 0.72770357 0.39385525 1.09066188\n",
            "  0.44449174 0.32761174 0.57502943 0.82192874 0.47009259 0.36310491\n",
            "  0.09782839 0.31589578 0.56308901 0.7641824  0.80843052 0.55425975\n",
            "  0.87743926 0.2248671  0.60581319 0.81751317 0.19001803 0.77131968\n",
            "  0.85154671 0.22154978 0.52673725 0.21525421 0.91035091 0.50423164\n",
            "  0.92462076 1.066392   0.26829706 0.91633299 1.10143683 0.22547986\n",
            "  0.4814575  0.50670135 0.38400882 0.94957099 0.24546218 0.13338887\n",
            "  0.90033311 0.03443135 0.41155094 0.90354121]\n",
            " [0.39644068 0.93019145 0.8455664  0.1116609  0.80668539 0.19749479\n",
            "  0.78245481 0.58002189 0.6210215  0.22617141 0.38983234 0.67671064\n",
            "  0.10563104 0.34288627 0.9412419  0.60913531 0.63732709 1.06890977\n",
            "  0.82088277 0.21024373 1.07225696 0.66417853 0.07900778 0.71829706\n",
            "  0.60714027 0.48170017 1.14017687 0.69989236 0.2235449  0.73548629\n",
            "  0.95793523 0.8195464  0.4388454  0.75007142 0.84059222 0.\n",
            "  0.74390778 0.26657019 0.72366806 0.8149398  0.76279161 0.85829339\n",
            "  0.64112892 0.47485132 0.81587733 0.67200288 0.78125949 0.62244593\n",
            "  0.18249841 0.49486316 0.51665506 0.13066216 0.78336238 0.72404012\n",
            "  0.13562535 1.0440252  1.08016146 0.26615143 0.48954525 0.67652878\n",
            "  0.664622   0.5218207  0.90861154 0.03575913 0.44850987 0.60937071\n",
            "  0.74396338 0.6356633  0.31259363 0.15059961 0.6847644  1.04276545\n",
            "  0.64460125 0.84371481 0.65859965 0.49381923 0.78099011 0.0848676\n",
            "  0.15757333 0.64056049 0.73068124 0.80360857 0.0969324  0.36044987\n",
            "  0.29599473 0.64232505 0.72746694 0.27213062 0.70348732 0.64680978\n",
            "  0.35977009 0.39206446 0.54541232 0.59676927 0.59543206 0.73318679\n",
            "  0.29221315 0.80671907 0.52688913 0.06306357]\n",
            " [0.71885297 0.25450186 0.24690977 0.63506325 0.44308624 0.59486098\n",
            "  0.16762488 0.44422214 0.26968833 0.60974324 0.38475396 0.08937141\n",
            "  0.64508769 0.41557031 0.24911735 0.309645   0.28263776 0.43504666\n",
            "  0.15797485 0.58870322 0.36290888 0.77069281 0.6717683  0.23949333\n",
            "  0.28053471 0.41515932 0.46870642 0.43924717 0.78840589 0.82322038\n",
            "  0.216806   0.07576869 0.31743394 0.46639026 0.26693444 0.74390778\n",
            "  0.         0.49303804 0.04269262 0.56866668 0.02276772 0.25019089\n",
            "  0.45444881 0.77956156 0.38475228 0.20653679 0.34142122 0.80426324\n",
            "  0.63459631 0.36667121 0.36542124 0.67323154 0.62860158 0.32306227\n",
            "  0.78744879 0.35318116 0.40360547 0.71983385 0.43584765 0.84832474\n",
            "  0.18429769 0.25508877 0.33001377 0.73582805 0.51231671 0.14436088\n",
            "  0.24825015 0.44997391 0.54351386 0.71475259 0.54872621 0.36702569\n",
            "  0.62515796 0.46672241 0.34458955 0.5875666  0.40764687 0.69449115\n",
            "  0.70718423 0.32224558 0.25982711 0.44229103 0.83065648 0.48958235\n",
            "  0.74583416 0.82718203 0.01665012 0.74319727 0.85610039 0.33889173\n",
            "  0.42667089 0.52177715 0.46932607 0.70834933 0.24755756 0.15895303\n",
            "  0.72073164 0.24615521 0.22375333 0.80511206]\n",
            " [0.46501495 0.7057111  0.57900467 0.15538469 0.55715847 0.21153009\n",
            "  0.56185078 0.34383036 0.43566992 0.2567338  0.12326461 0.43759343\n",
            "  0.16122317 0.07857198 0.71228602 0.43900268 0.45709754 0.8628577\n",
            "  0.55633302 0.21707592 0.84046311 0.68046114 0.18836507 0.52162434\n",
            "  0.42536629 0.23523388 0.92361301 0.57187522 0.30763784 0.75363445\n",
            "  0.70162096 0.56855569 0.22617515 0.50888666 0.57430198 0.26657019\n",
            "  0.49303804 0.         0.47923931 0.71248968 0.513613   0.59172353\n",
            "  0.4049399  0.55225717 0.65105265 0.46661879 0.52054709 0.66601586\n",
            "  0.14603139 0.23639994 0.2595785  0.25098199 0.71037394 0.55258725\n",
            "  0.29465003 0.81845168 0.86039694 0.26041948 0.2504692  0.72325579\n",
            "  0.45215814 0.25683194 0.71031987 0.25041822 0.2415075  0.37130073\n",
            "  0.47807194 0.39868644 0.12936526 0.22401995 0.60186383 0.82226564\n",
            "  0.60220453 0.59493415 0.50023006 0.46490479 0.52795107 0.20382027\n",
            "  0.30118825 0.38034666 0.53908726 0.55418256 0.34292518 0.13594705\n",
            "  0.41470648 0.69020531 0.47638846 0.39795493 0.74528563 0.38868535\n",
            "  0.09666475 0.19154489 0.31781856 0.60354526 0.32896498 0.4674447\n",
            "  0.39554007 0.54033257 0.2937409  0.32961828]\n",
            " [0.68177129 0.24359122 0.28854054 0.61639184 0.47728454 0.56780535\n",
            "  0.13588852 0.46153047 0.22738017 0.58017788 0.377103   0.05197264\n",
            "  0.62708632 0.40328822 0.24281895 0.26736402 0.24001086 0.42085859\n",
            "  0.20049622 0.56099933 0.36476916 0.728469   0.65339504 0.19840992\n",
            "  0.23851533 0.42262199 0.46234098 0.39687247 0.77968416 0.78066901\n",
            "  0.24652257 0.10209407 0.29061636 0.49637289 0.30785019 0.72366806\n",
            "  0.04269262 0.47923931 0.         0.5275864  0.04671229 0.29223189\n",
            "  0.47672294 0.74076867 0.34694884 0.16386825 0.37659904 0.76273036\n",
            "  0.62305574 0.37352168 0.37495665 0.64741821 0.58644491 0.28175111\n",
            "  0.77379475 0.34933099 0.39719872 0.71448345 0.44473021 0.8063823\n",
            "  0.14165085 0.25452647 0.30382831 0.71741475 0.51888039 0.11564657\n",
            "  0.28256374 0.47186486 0.53922515 0.70264179 0.50605103 0.35964169\n",
            "  0.58263168 0.50242496 0.30192807 0.54731105 0.44112975 0.67807109\n",
            "  0.67942518 0.34511841 0.21929109 0.47632221 0.81243478 0.48747926\n",
            "  0.71235401 0.78552876 0.03994802 0.71060294 0.8139195  0.36245174\n",
            "  0.41955523 0.52374128 0.48370486 0.66661498 0.26208395 0.19370395\n",
            "  0.68725628 0.2856878  0.19801764 0.78405536]\n",
            " [0.50253192 0.47258182 0.81552939 0.75538703 0.99142278 0.61925451\n",
            "  0.41745357 0.90670537 0.33503902 0.5894376  0.69616243 0.49968248\n",
            "  0.77046845 0.6783413  0.49991404 0.30679851 0.31268455 0.46142321\n",
            "  0.7249742  0.60617302 0.58382283 0.33656709 0.78518667 0.32922141\n",
            "  0.33458607 0.82189152 0.55347596 0.14934257 0.98718122 0.3461459\n",
            "  0.68887595 0.58788895 0.51135306 0.99529392 0.83540685 0.8149398\n",
            "  0.56866668 0.71248968 0.5275864  0.         0.56132868 0.8183548\n",
            "  0.94414112 0.49414322 0.204514   0.3709654  0.89540335 0.40533583\n",
            "  0.83458587 0.77995594 0.79476782 0.68684262 0.08990068 0.24588609\n",
            "  0.93085418 0.53460023 0.52822537 0.96516702 0.84777842 0.41658026\n",
            "  0.39682454 0.66109784 0.34791624 0.83237065 0.89510744 0.5031155\n",
            "  0.80165064 0.93792272 0.83436654 0.8903571  0.13404035 0.5090785\n",
            "  0.21547152 1.02063754 0.24594747 0.33802743 0.95386029 0.825463\n",
            "  0.67992615 0.82695374 0.30901431 0.98996158 0.90915925 0.811539\n",
            "  0.60293497 0.41645455 0.5672941  0.61897843 0.40719913 0.84512753\n",
            "  0.72722131 0.86844298 0.91105751 0.32753208 0.72636239 0.71628691\n",
            "  0.58633607 0.812802   0.51030583 0.85092614]\n",
            " [0.72846818 0.23256425 0.25506849 0.65440641 0.4589395  0.61100004\n",
            "  0.15347951 0.46607194 0.27158451 0.62462577 0.40644962 0.09833733\n",
            "  0.66463468 0.436429   0.22663681 0.31155045 0.28285487 0.41337607\n",
            "  0.16365327 0.6045305  0.34019524 0.77244474 0.69121508 0.2330702\n",
            "  0.28330849 0.43790671 0.44609126 0.43534307 0.81008958 0.82347498\n",
            "  0.20131503 0.05744161 0.33346842 0.48451496 0.27646326 0.76279161\n",
            "  0.02276772 0.513613   0.04671229 0.56132868 0.         0.25722471\n",
            "  0.47526219 0.78738924 0.37358358 0.20524781 0.35682564 0.80787879\n",
            "  0.65572707 0.38943372 0.38810831 0.68996339 0.62369261 0.31664495\n",
            "  0.80816975 0.33047106 0.38101496 0.74198434 0.45854611 0.85092439\n",
            "  0.18476389 0.27752282 0.3119137  0.75528356 0.53507366 0.1589344\n",
            "  0.26458415 0.47088741 0.56574667 0.73579139 0.54671073 0.34452884\n",
            "  0.62564893 0.48148141 0.34266439 0.59350736 0.42401451 0.71449956\n",
            "  0.7230238  0.34308509 0.2523961  0.45825376 0.85019374 0.51201856\n",
            "  0.75835375 0.8305191  0.03847281 0.75631406 0.85797568 0.35951957\n",
            "  0.44847931 0.54448073 0.49157429 0.71152304 0.26996809 0.17565233\n",
            "  0.73325092 0.25785686 0.24005831 0.82373709]\n",
            " [0.92527024 0.43785154 0.01350182 0.74696235 0.24970402 0.75213464\n",
            "  0.40753381 0.37585623 0.51355631 0.77909708 0.4684615  0.32930289\n",
            "  0.75284921 0.51654366 0.41927158 0.55284161 0.52900015 0.60842997\n",
            "  0.09386888 0.74956512 0.48077935 1.01043018 0.77989527 0.48945778\n",
            "  0.52250601 0.41314875 0.60840821 0.68901143 0.83736507 1.06651702\n",
            "  0.23755249 0.24139936 0.49547617 0.30371138 0.03575593 0.85829339\n",
            "  0.25019089 0.59172353 0.29223189 0.8183548  0.25722471 0.\n",
            "  0.35055402 0.99518892 0.62952379 0.45529292 0.15863128 1.03800388\n",
            "  0.70879554 0.37950722 0.36342966 0.82040635 0.87867617 0.57308645\n",
            "  0.86387156 0.49623977 0.55019768 0.75397852 0.42136242 1.08520603\n",
            "  0.43168954 0.34045699 0.54866133 0.84075794 0.49868825 0.35772387\n",
            "  0.12274155 0.34958626 0.58699798 0.78665652 0.79667053 0.5218227\n",
            "  0.86863577 0.25842005 0.59307454 0.81455353 0.22569825 0.79090536\n",
            "  0.8632422  0.25021555 0.50934056 0.25040465 0.93032343 0.52794489\n",
            "  0.93155294 1.0617511  0.25359138 0.92412164 1.09513218 0.25564972\n",
            "  0.50057729 0.53330265 0.41508517 0.94419284 0.26322585 0.13507851\n",
            "  0.90703968 0.05696802 0.41215611 0.9213372 ]\n",
            " [0.85264494 0.70662882 0.33811555 0.54246726 0.17490096 0.61357985\n",
            "  0.61140975 0.06162748 0.60954502 0.65572031 0.31199771 0.47499285\n",
            "  0.54177881 0.36073592 0.69745799 0.63784515 0.63247601 0.88779203\n",
            "  0.38625985 0.61725824 0.79285299 1.0249835  0.56501996 0.643223\n",
            "  0.60956192 0.17036218 0.91177379 0.7957102  0.54745651 1.09369077\n",
            "  0.56829915 0.50135589 0.46272564 0.10962271 0.31662977 0.64112892\n",
            "  0.45444881 0.4049399  0.47672294 0.94414112 0.47526219 0.35055402\n",
            "  0.         0.93701816 0.80140344 0.58784764 0.20080982 1.02795971\n",
            "  0.46245623 0.18630913 0.16434336 0.65497398 0.97624711 0.71443912\n",
            "  0.5999823  0.7948896  0.84805848 0.45782375 0.15494155 1.0832003\n",
            "  0.56227595 0.28471844 0.78051993 0.61343024 0.19844279 0.4475055\n",
            "  0.2411984  0.00673788 0.32922324 0.52621039 0.87329313 0.81365061\n",
            "  0.91166404 0.20880077 0.69831259 0.80526826 0.16122585 0.55928364\n",
            "  0.70572671 0.13220394 0.66611238 0.17180966 0.68700492 0.28196112\n",
            "  0.81656031 1.05287657 0.44391701 0.80116034 1.10100803 0.11592877\n",
            "  0.31406252 0.2520382  0.09716085 0.94903287 0.22218428 0.31138873\n",
            "  0.79591726 0.29671716 0.43536413 0.69966655]\n",
            " [0.08760984 0.83884954 0.98617626 0.48376015 1.06018936 0.34834313\n",
            "  0.71311003 0.87961404 0.5274903  0.30023976 0.62505657 0.69030187\n",
            "  0.4956769  0.57773971 0.86109662 0.49090972 0.52577695 0.90545215\n",
            "  0.92000096 0.3395359  0.9807433  0.21265796 0.49312378 0.61009238\n",
            "  0.51303941 0.76978857 0.99495977 0.45997838 0.69565781 0.27450274\n",
            "  0.9793189  0.83921461 0.50632383 1.02910371 0.99443639 0.47485132\n",
            "  0.77956156 0.55225717 0.74076867 0.49414322 0.78738924 0.99518892\n",
            "  0.93701816 0.         0.60966    0.60023815 0.99313471 0.15361408\n",
            "  0.594977   0.75161105 0.77460221 0.35831159 0.4230469  0.55968591\n",
            "  0.61047617 0.93729027 0.95156928 0.71846196 0.79043402 0.20358292\n",
            "  0.61211462 0.69028892 0.7535707  0.50658544 0.7935149  0.64297074\n",
            "  0.91807339 0.9303445  0.67360671 0.60896401 0.37040482 0.92153025\n",
            "  0.27871096 1.09718791 0.49380241 0.20182409 1.02500699 0.53097553\n",
            "  0.31833956 0.87024975 0.60696454 1.05761703 0.54465111 0.68804407\n",
            "  0.17987843 0.17016197 0.76792404 0.20379398 0.23137025 0.88461137\n",
            "  0.62811971 0.74345475 0.8612309  0.17351555 0.78138609 0.86166608\n",
            "  0.18305985 0.96181211 0.58319257 0.4784745 ]\n",
            " [0.58967087 0.2696     0.62819287 0.73382397 0.82316017 0.62069627\n",
            "  0.2221974  0.77316559 0.21722418 0.60508546 0.60098879 0.33099082\n",
            "  0.74824508 0.5979653  0.29669683 0.2130288  0.19464694 0.29581774\n",
            "  0.53566491 0.60877459 0.3908675  0.5028623  0.76846673 0.15819513\n",
            "  0.22609796 0.70429294 0.38595834 0.1496878  0.95114514 0.53019828\n",
            "  0.4852224  0.39221808 0.4269259  0.83695104 0.65002441 0.81587733\n",
            "  0.38475228 0.65105265 0.34694884 0.204514   0.37358358 0.62952379\n",
            "  0.80140344 0.60966    0.         0.2145338  0.72324034 0.56150696\n",
            "  0.78993078 0.65767652 0.66798138 0.69945527 0.28564472 0.09870273\n",
            "  0.91208907 0.34297631 0.3471555  0.91147173 0.72974104 0.58652672\n",
            "  0.2395159  0.53124578 0.1522914  0.82506211 0.78948291 0.35490756\n",
            "  0.62901799 0.79571163 0.75751302 0.85784057 0.25537392 0.3214744\n",
            "  0.35602811 0.84916139 0.1573987  0.41607897 0.78650012 0.80513696\n",
            "  0.70766611 0.67530204 0.13529673 0.82206587 0.9128097  0.72237418\n",
            "  0.66946951 0.57811362 0.38667713 0.67945474 0.58326049 0.69344204\n",
            "  0.63879999 0.77411598 0.78519611 0.46911916 0.57922478 0.54054591\n",
            "  0.64789523 0.6307984  0.39036537 0.86335531]\n",
            " [0.55111705 0.26338594 0.45092168 0.5754184  0.6211038  0.4910636\n",
            "  0.1188353  0.55865376 0.07274804 0.49072521 0.39788901 0.12911643\n",
            "  0.58852717 0.40341948 0.27915296 0.11065484 0.07857849 0.3992583\n",
            "  0.3642857  0.48145127 0.40940142 0.56840498 0.61218175 0.05893684\n",
            "  0.08742744 0.49144939 0.46817749 0.23415106 0.77380384 0.61832196\n",
            "  0.38128935 0.24776353 0.24222306 0.62863226 0.46886146 0.67200288\n",
            "  0.20653679 0.46661879 0.16386825 0.3709654  0.20524781 0.45529292\n",
            "  0.58784764 0.60023815 0.2145338  0.         0.524462   0.60680628\n",
            "  0.61143073 0.44420362 0.4538341  0.57335117 0.42439172 0.12826768\n",
            "  0.74831263 0.37574928 0.40871518 0.72365855 0.51666644 0.64792231\n",
            "  0.02614843 0.31727758 0.24373941 0.67378526 0.57907731 0.14054898\n",
            "  0.43068872 0.5820532  0.55986251 0.68563857 0.34219043 0.37174151\n",
            "  0.42065887 0.64982285 0.13806155 0.40062001 0.58368979 0.64420632\n",
            "  0.59525704 0.46365159 0.08070962 0.61972239 0.76696299 0.5192501\n",
            "  0.59968606 0.62883076 0.2017168  0.60236656 0.65399536 0.48187073\n",
            "  0.4380892  0.56786567 0.57088757 0.50981249 0.36589291 0.34587138\n",
            "  0.57513255 0.44423162 0.18300033 0.72716836]\n",
            " [0.91545763 0.57045721 0.14804866 0.67336129 0.10247769 0.70842947\n",
            "  0.5090441  0.23851117 0.56811516 0.74299999 0.40228746 0.39630959\n",
            "  0.67641856 0.4545435  0.55560188 0.60400685 0.58782175 0.74789248\n",
            "  0.22086274 0.70860418 0.63139202 1.04126804 0.70236635 0.57041469\n",
            "  0.57325592 0.30522735 0.75685179 0.75475836 0.72540096 1.10375732\n",
            "  0.39247597 0.36266653 0.48790304 0.1455587  0.12294201 0.78125949\n",
            "  0.34142122 0.52054709 0.37659904 0.89540335 0.35682564 0.15863128\n",
            "  0.20080982 0.99313471 0.72324034 0.524462   0.         1.05825354\n",
            "  0.61528568 0.28639817 0.26482121 0.76629172 0.94428923 0.65130618\n",
            "  0.76494689 0.6420455  0.69621209 0.63792817 0.30540074 1.10970133\n",
            "  0.4985795  0.30345969 0.66732737 0.75870696 0.37484633 0.39822555\n",
            "  0.09429261 0.20121872 0.48473242 0.68821883 0.85140477 0.66526262\n",
            "  0.90978272 0.12595029 0.65524893 0.83098552 0.07041628 0.70593603\n",
            "  0.81365336 0.14071587 0.59250899 0.10205596 0.84209754 0.4280342\n",
            "  0.9026461  1.08286043 0.33728828 0.89145388 1.12327161 0.13548623\n",
            "  0.42406213 0.41884549 0.28003277 0.96962159 0.21214005 0.18295199\n",
            "  0.87942843 0.1142959  0.42444246 0.84321096]\n",
            " [0.22608074 0.81572398 1.03054572 0.61959868 1.13472712 0.47639014\n",
            "  0.70791215 0.97390703 0.5367686  0.42889351 0.72024833 0.71594206\n",
            "  0.63259713 0.67786485 0.84051457 0.4970437  0.52833416 0.85203116\n",
            "  0.95515742 0.46570521 0.94948349 0.0735966  0.6332694  0.6017014\n",
            "  0.52459806 0.86667518 0.94395295 0.41772781 0.84008725 0.12192937\n",
            "  0.98648465 0.85423091 0.57384773 1.11200608 1.04240287 0.62244593\n",
            "  0.80426324 0.66601586 0.76273036 0.40533583 0.80787879 1.03800388\n",
            "  1.02795971 0.15361408 0.56150696 0.60680628 1.05825354 0.\n",
            "  0.72822072 0.84181565 0.863633   0.50032722 0.32123787 0.5355232\n",
            "  0.75770216 0.90282974 0.90855235 0.85604122 0.88934037 0.05732942\n",
            "  0.62411071 0.76232005 0.71290681 0.65275466 0.90304705 0.68028539\n",
            "  0.97582327 1.02122227 0.7927174  0.75025658 0.30627714 0.88269971\n",
            "  0.20547969 1.17047514 0.47997922 0.22729093 1.09809147 0.67264735\n",
            "  0.46490186 0.94626966 0.59295519 1.13238958 0.69609797 0.79912199\n",
            "  0.33113723 0.02492667 0.79512272 0.3547816  0.08181578 0.96210869\n",
            "  0.73063584 0.85680941 0.96053287 0.09728498 0.85085996 0.90923528\n",
            "  0.33078997 1.01171814 0.63524101 0.62998131]\n",
            " [0.50868015 0.85162167 0.69557765 0.11211807 0.6316047  0.25220704\n",
            "  0.70787726 0.4021324  0.57698006 0.29934358 0.25230588 0.58268323\n",
            "  0.10230669 0.21976772 0.85790699 0.57693808 0.59758095 1.00857539\n",
            "  0.68450082 0.26352911 0.98561221 0.75552972 0.11539759 0.66557675\n",
            "  0.56580441 0.31057985 1.06964135 0.70017428 0.16245488 0.8291758\n",
            "  0.83885653 0.70958841 0.36968859 0.57195769 0.68715206 0.18249841\n",
            "  0.63459631 0.14603139 0.62305574 0.83458587 0.65572707 0.70879554\n",
            "  0.46245623 0.594977   0.78993078 0.61143073 0.61528568 0.72822072\n",
            "  0.         0.33224923 0.35182523 0.242627   0.8223032  0.6921338\n",
            "  0.15613825 0.9642155  1.00638974 0.13296219 0.31468292 0.78508932\n",
            "  0.59762998 0.38870244 0.85515454 0.15194577 0.2671132  0.51680147\n",
            "  0.58934075 0.45727905 0.1335391  0.08044587 0.71564133 0.96825264\n",
            "  0.7005532  0.66799655 0.63606929 0.55363859 0.60816552 0.09808543\n",
            "  0.29159481 0.4759579  0.68236869 0.62849952 0.22712013 0.18740434\n",
            "  0.42988054 0.75086582 0.61797314 0.40823014 0.80983023 0.47980026\n",
            "  0.21304555 0.21115661 0.36580189 0.68113445 0.44727885 0.59303651\n",
            "  0.41746856 0.65440993 0.43976252 0.23796309]\n",
            " [0.66789582 0.61697458 0.36610296 0.38729983 0.3219342  0.43609821\n",
            "  0.49603859 0.13347318 0.45095267 0.47576252 0.12800368 0.35365029\n",
            "  0.39007536 0.17920264 0.61454451 0.47393889 0.47462619 0.79384642\n",
            "  0.36855403 0.43843259 0.72886118 0.84004319 0.41597018 0.50267737\n",
            "  0.44814478 0.04919852 0.83452726 0.6306135  0.45851787 0.90942214\n",
            "  0.54001146 0.43268163 0.28151173 0.27957802 0.355937   0.49486316\n",
            "  0.36667121 0.23639994 0.37352168 0.77995594 0.38943372 0.37950722\n",
            "  0.18630913 0.75161105 0.65767652 0.44420362 0.28639817 0.84181565\n",
            "  0.33224923 0.         0.02371835 0.48607211 0.80423908 0.56411061\n",
            "  0.48566825 0.71965561 0.76933099 0.37727869 0.0729551  0.89720264\n",
            "  0.42067487 0.12733343 0.66477502 0.47265683 0.14570215 0.30715709\n",
            "  0.25819438 0.17957983 0.20749086 0.4083918  0.69875876 0.73220631\n",
            "  0.73064277 0.35980815 0.53700369 0.61989852 0.29176304 0.42027969\n",
            "  0.53522014 0.14569953 0.52488189 0.31901554 0.55769129 0.14845474\n",
            "  0.63718931 0.86672592 0.35187874 0.62318521 0.91529161 0.15261329\n",
            "  0.13991685 0.16100284 0.13114759 0.76378346 0.12884789 0.27614913\n",
            "  0.61561697 0.32393548 0.27149863 0.55687835]\n",
            " [0.69108343 0.61770927 0.34996334 0.40968614 0.29832596 0.45981609\n",
            "  0.50049402 0.11412829 0.46390593 0.49944848 0.15159012 0.35822064\n",
            "  0.41215491 0.2029056  0.61422742 0.48822654 0.48747834 0.79580495\n",
            "  0.35740171 0.46214493 0.72618572 0.86097613 0.43786242 0.5119109\n",
            "  0.46175976 0.05252743 0.83405711 0.64547105 0.47393896 0.93002657\n",
            "  0.53169804 0.42910627 0.30054811 0.25601343 0.33862497 0.51665506\n",
            "  0.36542124 0.2595785  0.37495665 0.79476782 0.38810831 0.36342966\n",
            "  0.16434336 0.77460221 0.66798138 0.4538341  0.26482121 0.863633\n",
            "  0.35182523 0.02371835 0.         0.50954122 0.82096028 0.57554825\n",
            "  0.50415677 0.71857348 0.76891249 0.39108065 0.07047774 0.91885716\n",
            "  0.4297658  0.13679256 0.66995256 0.49388776 0.14883393 0.31518977\n",
            "  0.24126256 0.15760549 0.22463773 0.42694685 0.71608042 0.73208598\n",
            "  0.74994649 0.33619365 0.55081121 0.6410659  0.26840437 0.4411975\n",
            "  0.5587802  0.12443541 0.53433223 0.2953994  0.57797495 0.16608342\n",
            "  0.66087768 0.88855154 0.35116567 0.64689882 0.9367097  0.1302118\n",
            "  0.16326376 0.17184483 0.11745649 0.78488666 0.12152935 0.26562499\n",
            "  0.63927662 0.30729914 0.28496624 0.57845492]\n",
            " [0.27505513 0.8358978  0.80849859 0.13084922 0.80770479 0.08228767\n",
            "  0.6885816  0.59354894 0.51572606 0.09758658 0.36401396 0.59752103\n",
            "  0.14054011 0.31177467 0.84948433 0.49890906 0.52961596 0.9637124\n",
            "  0.77049794 0.09239654 0.98072696 0.53778022 0.13497257 0.61457992\n",
            "  0.50101166 0.48598081 1.03924646 0.57674825 0.33985991 0.61000776\n",
            "  0.88997948 0.74740189 0.35680185 0.759772   0.80759297 0.13066216\n",
            "  0.67323154 0.25098199 0.64741821 0.68684262 0.68996339 0.82040635\n",
            "  0.65497398 0.35831159 0.69945527 0.57335117 0.76629172 0.50032722\n",
            "  0.242627   0.48607211 0.50954122 0.         0.6531598  0.61116659\n",
            "  0.26083013 0.94893828 0.98144877 0.36073359 0.50006896 0.55579264\n",
            "  0.56959539 0.48021162 0.80202437 0.15546585 0.47881272 0.53178741\n",
            "  0.71475138 0.6488295  0.3450978  0.25076202 0.55566207 0.94483632\n",
            "  0.51393911 0.84553127 0.54336812 0.3631781  0.77780364 0.17281387\n",
            "  0.05154464 0.62761074 0.62464325 0.80474988 0.22240604 0.37712825\n",
            "  0.18750745 0.52140433 0.65740715 0.16561311 0.58200285 0.6372065\n",
            "  0.34633674 0.42332195 0.5650762  0.46851615 0.56432994 0.68875953\n",
            "  0.17676447 0.77317113 0.44990936 0.16545051]\n",
            " [0.44286644 0.55524445 0.87481332 0.73469227 1.03717603 0.59239231\n",
            "  0.48710716 0.93455458 0.37641609 0.55744501 0.70964823 0.55309705\n",
            "  0.74971889 0.68562009 0.58232728 0.34225089 0.3564833  0.55122897\n",
            "  0.7864045  0.57925651 0.6711329  0.25041422 0.76174183 0.39091866\n",
            "  0.37245312 0.84318269 0.64332336 0.19035612 0.9686817  0.25631628\n",
            "  0.76433524 0.65532979 0.52664864 1.0353014  0.89318784 0.78336238\n",
            "  0.62860158 0.71037394 0.58644491 0.08990068 0.62369261 0.87867617\n",
            "  0.97624711 0.4230469  0.28564472 0.42439172 0.94428923 0.32123787\n",
            "  0.8223032  0.80423908 0.82096028 0.6531598  0.         0.30791171\n",
            "  0.90570583 0.62211084 0.6172816  0.95473339 0.86885171 0.3285853\n",
            "  0.44915657 0.69153079 0.43371348 0.80396598 0.90951155 0.54682615\n",
            "  0.85175072 0.96982512 0.83647164 0.87177272 0.10873832 0.59726565\n",
            "  0.14913373 1.06810959 0.28921508 0.29203406 0.9993885  0.80276176\n",
            "  0.64000596 0.86516582 0.3730317  1.03550873 0.87486542 0.81969862\n",
            "  0.54882501 0.33054555 0.62535485 0.56695021 0.31810102 0.88311748\n",
            "  0.73685929 0.87796822 0.9350195  0.25125663 0.76382496 0.76923101\n",
            "  0.53477094 0.86853515 0.54114682 0.81389168]\n",
            " [0.52779308 0.28151634 0.56997087 0.63878218 0.7487681  0.53094132\n",
            "  0.1814558  0.68303851 0.11868517 0.51896638 0.50308494 0.25499849\n",
            "  0.65302434 0.4993122  0.30552243 0.11617752 0.09594877 0.35993936\n",
            "  0.48004385 0.51945653 0.42116935 0.48607606 0.67393007 0.08363792\n",
            "  0.12741527 0.60992282 0.44392012 0.12490575 0.8536777  0.52599658\n",
            "  0.46261508 0.34755431 0.32822571 0.7568935  0.5895998  0.72404012\n",
            "  0.32306227 0.55258725 0.28175111 0.24588609 0.31664495 0.57308645\n",
            "  0.71443912 0.55968591 0.09870273 0.12826768 0.65130618 0.5355232\n",
            "  0.6921338  0.56411061 0.57554825 0.61116659 0.30791171 0.\n",
            "  0.81659142 0.37769688 0.39491023 0.81299069 0.63555684 0.56896718\n",
            "  0.1544081  0.43883697 0.19948973 0.7316916  0.69332534 0.2671073\n",
            "  0.55722886 0.70853585 0.65890478 0.76092276 0.24236809 0.36308388\n",
            "  0.33490352 0.77695845 0.07067159 0.35912691 0.71145829 0.70987949\n",
            "  0.62302089 0.59149656 0.06517519 0.74743682 0.82087489 0.62430164\n",
            "  0.59752893 0.55506262 0.32141821 0.60519671 0.57047495 0.60972606\n",
            "  0.54051786 0.67657075 0.69299553 0.43904215 0.49299416 0.47099404\n",
            "  0.57469932 0.56693433 0.29442777 0.7734776 ]\n",
            " [0.53162735 0.99674608 0.85059193 0.17857981 0.77312798 0.3133302\n",
            "  0.85091964 0.54210155 0.70619754 0.35031269 0.40774323 0.73136133\n",
            "  0.16394518 0.371922   1.00462456 0.70041701 0.72498686 1.14751236\n",
            "  0.84063895 0.32647253 1.13374153 0.79806707 0.14595245 0.79955851\n",
            "  0.69361724 0.45985813 1.2126523  0.80730427 0.09372881 0.8698421\n",
            "  0.99389003 0.86282574 0.5067799  0.70924502 0.84146097 0.13562535\n",
            "  0.78744879 0.29465003 0.77379475 0.93085418 0.80816975 0.86387156\n",
            "  0.5999823  0.61047617 0.91208907 0.74831263 0.76494689 0.75770216\n",
            "  0.15613825 0.48566825 0.50415677 0.26083013 0.90570583 0.81659142\n",
            "  0.         1.11013481 1.15037756 0.16224468 0.46050573 0.81200068\n",
            "  0.73700171 0.5443642  0.99062826 0.10549127 0.40154563 0.66454915\n",
            "  0.74364348 0.59545732 0.28033428 0.07728041 0.80382914 1.11238479\n",
            "  0.77109314 0.80837508 0.75523401 0.62008112 0.75249315 0.10711788\n",
            "  0.29284811 0.6272751  0.81452498 0.7700102  0.1010412  0.33813164\n",
            "  0.43151302 0.77776436 0.77079971 0.40761896 0.83887648 0.62977512\n",
            "  0.36907208 0.34965141 0.50296431 0.7293367  0.60308546 0.74914625\n",
            "  0.42777704 0.80905871 0.58492644 0.15024474]\n",
            " [0.90386203 0.11386788 0.50242509 0.94313464 0.74166228 0.86665886\n",
            "  0.26158067 0.79250711 0.43845213 0.86608983 0.72427562 0.38286731\n",
            "  0.95537314 0.74575347 0.10691877 0.4646369  0.42985509 0.12300596\n",
            "  0.42128479 0.85716005 0.04946344 0.84566771 0.98028829 0.34073312\n",
            "  0.45391191 0.76827883 0.11691379 0.48568544 1.1237738  0.87229831\n",
            "  0.26629681 0.29422048 0.60644816 0.78417442 0.52922331 1.0440252\n",
            "  0.35318116 0.81845168 0.34933099 0.53460023 0.33047106 0.49623977\n",
            "  0.7948896  0.93729027 0.34297631 0.37574928 0.6420455  0.90282974\n",
            "  0.9642155  0.71965561 0.71857348 0.94893828 0.62211084 0.37769688\n",
            "  1.11013481 0.         0.0541736  1.0619634  0.78901657 0.92937245\n",
            "  0.37999726 0.60373273 0.19068585 1.04321694 0.86535168 0.44756514\n",
            "  0.56271286 0.79124362 0.88768076 1.04230583 0.5976208  0.03218943\n",
            "  0.69761888 0.7540893  0.44537344 0.7367805  0.71245113 1.00944956\n",
            "  0.97080232 0.66455554 0.33700292 0.74188464 1.13752005 0.83668448\n",
            "  0.9663878  0.92017868 0.36777783 0.97143043 0.92621777 0.67947893\n",
            "  0.76682608 0.87272938 0.82023221 0.80874262 0.59975177 0.48369957\n",
            "  0.94253647 0.52827047 0.52531954 1.10075316]\n",
            " [0.92268845 0.15545541 0.55647902 0.98121528 0.79582761 0.89920529\n",
            "  0.29948435 0.84474655 0.46717471 0.8962247  0.76952103 0.42780252\n",
            "  0.99379366 0.78900475 0.15478671 0.49018103 0.45632254 0.08250627\n",
            "  0.47543727 0.88926813 0.08257869 0.84864253 1.01826194 0.36824941\n",
            "  0.48238045 0.81814427 0.06520094 0.49453937 1.16683047 0.87088905\n",
            "  0.31897396 0.34692804 0.64470564 0.83825368 0.58328642 1.08016146\n",
            "  0.40360547 0.86039694 0.39719872 0.52822537 0.38101496 0.55019768\n",
            "  0.84805848 0.95156928 0.3471555  0.40871518 0.69621209 0.90855235\n",
            "  1.00638974 0.76933099 0.76891249 0.98144877 0.6172816  0.39491023\n",
            "  1.15037756 0.0541736  0.         1.10689509 0.83927484 0.93206115\n",
            "  0.41567462 0.65166886 0.19805208 1.08069167 0.91501096 0.4909672\n",
            "  0.61663173 0.8443397  0.93353446 1.0837858  0.60229169 0.03816453\n",
            "  0.70310067 0.80815302 0.46455878 0.7528701  0.7666191  1.04849987\n",
            "  1.00118026 0.71741108 0.36150641 0.79605336 1.17451831 0.8835112\n",
            "  0.98999135 0.92481563 0.41775808 0.99618444 0.92727478 0.73250482\n",
            "  0.8120354  0.92092656 0.87189315 0.81620003 0.65084863 0.53707337\n",
            "  0.96656462 0.58244397 0.56668163 1.13581749]\n",
            " [0.63360181 0.95144113 0.74048384 0.23647084 0.63271596 0.38225555\n",
            "  0.81201129 0.40421997 0.69584236 0.42830722 0.33770875 0.67927154\n",
            "  0.22350707 0.3208184  0.95505277 0.69931566 0.71743146 1.11554462\n",
            "  0.7452714  0.39409564 1.07924812 0.88598164 0.22581985 0.77986884\n",
            "  0.68572258 0.34084023 1.17120408 0.82848404 0.08989791 0.95949328\n",
            "  0.91206739 0.7924794  0.48584958 0.56495856 0.72770357 0.26615143\n",
            "  0.71983385 0.26041948 0.71448345 0.96516702 0.74198434 0.75397852\n",
            "  0.45782375 0.71846196 0.91147173 0.72365855 0.63792817 0.85604122\n",
            "  0.13296219 0.37727869 0.39108065 0.36073359 0.95473339 0.81299069\n",
            "  0.16224468 1.0619634  1.10689509 0.         0.33454526 0.91251988\n",
            "  0.70747765 0.46541226 0.96659504 0.23040039 0.26358724 0.61629422\n",
            "  0.63135336 0.45410301 0.17658103 0.11565256 0.84774199 1.06877113\n",
            "  0.83349906 0.66620226 0.76014384 0.68631192 0.61611418 0.19075273\n",
            "  0.4054284  0.50703525 0.79801564 0.629621   0.2626659  0.23319666\n",
            "  0.54707526 0.87817383 0.70354851 0.52424452 0.93782662 0.50608169\n",
            "  0.29516113 0.22104073 0.36308849 0.81225345 0.50433809 0.65267582\n",
            "  0.53748836 0.69744458 0.54506587 0.30270126]\n",
            " [0.70481372 0.68778913 0.40786749 0.38846525 0.31741922 0.46041686\n",
            "  0.56865714 0.09348716 0.52132547 0.50362758 0.169388   0.42625715\n",
            "  0.38841986 0.21291393 0.68455921 0.54286588 0.54505389 0.86545995\n",
            "  0.42324326 0.46468733 0.79662455 0.89209869 0.41236285 0.57524872\n",
            "  0.5178759  0.02589837 0.90443146 0.69854227 0.42073063 0.96276499\n",
            "  0.59982826 0.49946759 0.34286293 0.26163384 0.39385525 0.48954525\n",
            "  0.43584765 0.2504692  0.44473021 0.84777842 0.45854611 0.42136242\n",
            "  0.15494155 0.79043402 0.72974104 0.51666644 0.30540074 0.88934037\n",
            "  0.31468292 0.0729551  0.07047774 0.50006896 0.86885171 0.63555684\n",
            "  0.46050573 0.78901657 0.83927484 0.33454526 0.         0.94553346\n",
            "  0.49332539 0.20021104 0.73758804 0.4633659  0.0798431  0.38006274\n",
            "  0.29866995 0.14887219 0.18163398 0.38432569 0.76229745 0.80239178\n",
            "  0.78900308 0.35424653 0.60637612 0.67150769 0.29350365 0.40944501\n",
            "  0.55088815 0.17260009 0.59737048 0.31432771 0.54155236 0.12909671\n",
            "  0.66373818 0.91414395 0.42151676 0.64775108 0.96485456 0.17175351\n",
            "  0.16268657 0.11383534 0.0712164  0.81523691 0.191436   0.33255102\n",
            "  0.64364244 0.36449443 0.34187788 0.54936781]\n",
            " [0.28089438 0.8465763  1.07809482 0.67614324 1.18760137 0.53341926\n",
            "  0.74495757 1.02957134 0.57934113 0.48582083 0.77631728 0.76073245\n",
            "  0.68902554 0.7343966  0.8720014  0.53938766 0.56935411 0.87206295\n",
            "  1.0009524  0.52281819 0.97684349 0.08373228 0.68923253 0.63889142\n",
            "  0.567867   0.9227077  0.96431151 0.44767883 0.89528658 0.09022867\n",
            "  1.0252809  0.8956856  0.62717281 1.16613755 1.09066188 0.67652878\n",
            "  0.84832474 0.72325579 0.8063823  0.41658026 0.85092439 1.08520603\n",
            "  1.0832003  0.20358292 0.58652672 0.64792231 1.10970133 0.05732942\n",
            "  0.78508932 0.89720264 0.91885716 0.55579264 0.3285853  0.56896718\n",
            "  0.81200068 0.92937245 0.93206115 0.91251988 0.94553346 0.\n",
            "  0.66640554 0.81555488 0.73875573 0.70734786 0.96000203 0.72781073\n",
            "  1.02613715 1.07646246 0.85003354 0.80610231 0.33210963 0.90785574\n",
            "  0.23423582 1.22310418 0.51737797 0.27989979 1.15078935 0.72836772\n",
            "  0.51917237 0.99966336 0.62864614 1.18530359 0.74816167 0.85620439\n",
            "  0.38315962 0.03439707 0.83980785 0.40700061 0.02827028 1.01568893\n",
            "  0.78727459 0.91396406 1.01669868 0.14109107 0.90347136 0.95779382\n",
            "  0.38437898 1.06044454 0.68581479 0.68198691]\n",
            " [0.56003795 0.26650177 0.42700364 0.56587089 0.59504139 0.48740018\n",
            "  0.1189877  0.53373293 0.08735522 0.48962282 0.3786821  0.10394538\n",
            "  0.57865392 0.38673579 0.28004407 0.12711576 0.09836946 0.41112175\n",
            "  0.34142054 0.4782814  0.41118617 0.58769197 0.60283984 0.08215236\n",
            "  0.10022778 0.46825885 0.47655619 0.25880775 0.75974981 0.63909985\n",
            "  0.36738841 0.2303427  0.23022529 0.60250366 0.44449174 0.664622\n",
            "  0.18429769 0.45215814 0.14165085 0.39682454 0.18476389 0.43168954\n",
            "  0.56227595 0.61211462 0.2395159  0.02614843 0.4985795  0.62411071\n",
            "  0.59762998 0.42067487 0.4297658  0.56959539 0.44915657 0.1544081\n",
            "  0.73700171 0.37999726 0.41567462 0.70747765 0.49332539 0.66640554\n",
            "  0.         0.2934964  0.25915134 0.66507494 0.55691271 0.11541915\n",
            "  0.40489546 0.55651508 0.54169251 0.67288363 0.36507016 0.37816947\n",
            "  0.44112056 0.62386481 0.16144192 0.4140774  0.55760897 0.63382849\n",
            "  0.59356082 0.43769877 0.10470619 0.59365052 0.75884372 0.49963912\n",
            "  0.60417809 0.64648692 0.17842613 0.60583647 0.67323336 0.45591257\n",
            "  0.41945985 0.54718127 0.5466009  0.52743358 0.34021926 0.32048262\n",
            "  0.57941931 0.41938861 0.16384862 0.72085964]\n",
            " [0.6120231  0.49744731 0.32839428 0.41016228 0.37258952 0.41410559\n",
            "  0.37090602 0.24584245 0.3282431  0.44457306 0.13667954 0.22900803\n",
            "  0.41736348 0.17903924 0.4973402  0.35431765 0.35167277 0.67153137\n",
            "  0.29950897 0.41257401 0.61705629 0.75175026 0.44459354 0.3755743\n",
            "  0.32690049 0.17559373 0.71677587 0.51213077 0.53675395 0.81800585\n",
            "  0.45065237 0.32707346 0.18847232 0.35270031 0.32761174 0.5218207\n",
            "  0.25508877 0.25683194 0.25452647 0.66109784 0.27752282 0.34045699\n",
            "  0.28471844 0.69028892 0.53124578 0.31727758 0.30345969 0.76232005\n",
            "  0.38870244 0.12733343 0.13679256 0.48021162 0.69153079 0.43883697\n",
            "  0.5443642  0.60373273 0.65166886 0.46541226 0.20021104 0.81555488\n",
            "  0.2934964  0.         0.53864097 0.50718533 0.26818717 0.17985452\n",
            "  0.23718596 0.27829502 0.28886493 0.46907572 0.58882819 0.61401797\n",
            "  0.63094659 0.40875376 0.41599663 0.53565537 0.33631686 0.46018984\n",
            "  0.52393833 0.18416071 0.39788119 0.37020342 0.59962583 0.23449805\n",
            "  0.6020111  0.78715452 0.23906166 0.59216277 0.831104   0.20051015\n",
            "  0.17608625 0.26927854 0.25418831 0.67753957 0.0913199  0.21152852\n",
            "  0.57830831 0.29318106 0.15099531 0.58480911]\n",
            " [0.726131   0.13110658 0.55031544 0.81598508 0.76975108 0.72046235\n",
            "  0.17007949 0.76341262 0.28761906 0.71271128 0.63653126 0.31177742\n",
            "  0.82948372 0.64588476 0.15826786 0.3036598  0.27243603 0.16201339\n",
            "  0.45785493 0.70967318 0.23874137 0.65506783 0.85235955 0.19117365\n",
            "  0.3017322  0.7137135  0.24445629 0.29698883 1.01754004 0.68196319\n",
            "  0.36544733 0.30846862 0.48572621 0.79629187 0.57502943 0.90861154\n",
            "  0.33001377 0.71031987 0.30382831 0.34791624 0.3119137  0.54866133\n",
            "  0.78051993 0.7535707  0.1522914  0.24373941 0.66732737 0.71290681\n",
            "  0.85515454 0.66477502 0.66995256 0.80202437 0.43371348 0.19948973\n",
            "  0.99062826 0.19068585 0.19805208 0.96659504 0.73758804 0.73875573\n",
            "  0.25915134 0.53864097 0.         0.91281218 0.80661012 0.36085125\n",
            "  0.57618027 0.77561958 0.80029241 0.92903957 0.4072145  0.16988104\n",
            "  0.50750835 0.79054023 0.27003275 0.55534224 0.73540792 0.88566113\n",
            "  0.81748577 0.64893385 0.17796303 0.76919598 1.00467245 0.75662979\n",
            "  0.79695657 0.72992339 0.33825362 0.80435428 0.73553664 0.66621236\n",
            "  0.67781634 0.80183574 0.78300064 0.6195207  0.56360963 0.48752012\n",
            "  0.77402801 0.56260179 0.42252477 0.9612166 ]\n",
            " [0.4266884  0.929357   0.82787324 0.10103631 0.78078443 0.2131163\n",
            "  0.78194307 0.55267418 0.62573334 0.24690687 0.37297227 0.67164565\n",
            "  0.09086078 0.32832232 0.93943838 0.61604587 0.64298    1.07215969\n",
            "  0.80669184 0.22620469 1.07006033 0.69258965 0.06406848 0.72188655\n",
            "  0.61227883 0.45683884 1.14149632 0.71340438 0.18975527 0.76442555\n",
            "  0.94824656 0.81158959 0.43681112 0.72272081 0.82192874 0.03575913\n",
            "  0.73582805 0.25041822 0.71741475 0.83237065 0.75528356 0.84075794\n",
            "  0.61343024 0.50658544 0.82506211 0.67378526 0.75870696 0.65275466\n",
            "  0.15194577 0.47265683 0.49388776 0.15546585 0.80396598 0.7316916\n",
            "  0.10549127 1.04321694 1.08069167 0.23040039 0.4633659  0.70734786\n",
            "  0.66507494 0.50718533 0.91281218 0.         0.41901258 0.60422032\n",
            "  0.72477974 0.60811149 0.28423613 0.11488566 0.70360552 1.04306022\n",
            "  0.6674617  0.81755565 0.66766803 0.51642797 0.75599468 0.05415301\n",
            "  0.18832235 0.61820754 0.73519798 0.77769342 0.09503135 0.33446886\n",
            "  0.32863153 0.67305827 0.7192806  0.3048917  0.73407604 0.62370317\n",
            "  0.34047683 0.36289395 0.51714124 0.6239047  0.57754186 0.71781289\n",
            "  0.32358079 0.78831136 0.52223164 0.08623898]\n",
            " [0.70640338 0.76243642 0.48522527 0.35693867 0.37204016 0.45163393\n",
            "  0.63907874 0.14144446 0.57658579 0.49777725 0.19988458 0.49701086\n",
            "  0.3539564  0.22940057 0.76022445 0.59442767 0.60028797 0.93866463\n",
            "  0.50299663 0.45798668 0.8742022  0.91217181 0.37506862 0.63799776\n",
            "  0.57153623 0.09731429 0.98020919 0.74681047 0.35213191 0.98432459\n",
            "  0.67961845 0.57751377 0.3841775  0.30782973 0.47009259 0.44850987\n",
            "  0.51231671 0.2415075  0.51888039 0.89510744 0.53507366 0.49868825\n",
            "  0.19844279 0.7935149  0.78948291 0.57907731 0.37484633 0.90304705\n",
            "  0.2671132  0.14570215 0.14883393 0.47881272 0.90951155 0.69332534\n",
            "  0.40154563 0.86535168 0.91501096 0.26358724 0.0798431  0.96000203\n",
            "  0.55691271 0.26818717 0.80661012 0.41901258 0.         0.44642661\n",
            "  0.37631405 0.19392822 0.13680162 0.32795763 0.80152691 0.87785076\n",
            "  0.81930826 0.40692599 0.65851657 0.69275323 0.35333814 0.36498592\n",
            "  0.53034901 0.2486353  0.6595691  0.3689249  0.48931636 0.10556047\n",
            "  0.65351114 0.92754348 0.49757385 0.6354781  0.98093761 0.24535711\n",
            "  0.17598047 0.05666964 0.10145961 0.83496602 0.27035981 0.41239403\n",
            "  0.63540077 0.44172465 0.39913969 0.50507614]\n",
            " [0.578589   0.33563439 0.35033343 0.50321048 0.49040168 0.45233511\n",
            "  0.19703844 0.41831573 0.17043531 0.46575644 0.27993009 0.0674261\n",
            "  0.51436364 0.29823555 0.34111557 0.20578255 0.1912315  0.50103053\n",
            "  0.27743328 0.44570148 0.46927609 0.65410326 0.54034384 0.19738159\n",
            "  0.17503591 0.35539323 0.55502872 0.35847877 0.67624824 0.71247437\n",
            "  0.36016581 0.21625754 0.17499119 0.4922302  0.36310491 0.60937071\n",
            "  0.14436088 0.37130073 0.11564657 0.5031155  0.1589344  0.35772387\n",
            "  0.4475055  0.64297074 0.35490756 0.14054898 0.39822555 0.68028539\n",
            "  0.51680147 0.30715709 0.31518977 0.53178741 0.54682615 0.2671073\n",
            "  0.66454915 0.44756514 0.4909672  0.61629422 0.38006274 0.72781073\n",
            "  0.11541915 0.17985452 0.36085125 0.60422032 0.44642661 0.\n",
            "  0.30718118 0.44166339 0.44454289 0.59531563 0.45327482 0.4528083\n",
            "  0.51579025 0.52135512 0.25883525 0.45736045 0.45263356 0.56648718\n",
            "  0.56417963 0.3249098  0.2200676  0.48876609 0.69923598 0.39765402\n",
            "  0.60186209 0.70406389 0.12991552 0.59893969 0.73834405 0.34313994\n",
            "  0.32220803 0.44118921 0.43163317 0.5867362  0.225888   0.23106539\n",
            "  0.57676829 0.33371698 0.08264939 0.66932105]\n",
            " [0.843157   0.48430378 0.10924017 0.63336976 0.19491474 0.65089286\n",
            "  0.41577885 0.25784428 0.4761108  0.68174327 0.35535731 0.3022438\n",
            "  0.63833235 0.4055525  0.47128659 0.51269637 0.49531728 0.66377716\n",
            "  0.14569554 0.64963262 0.55648159 0.9558069  0.66512858 0.4761652\n",
            "  0.48186289 0.29051453 0.67890855 0.66188172 0.71510814 1.01680155\n",
            "  0.32719475 0.27551052 0.41185643 0.22309287 0.09782839 0.74396338\n",
            "  0.24825015 0.47807194 0.28256374 0.80165064 0.26458415 0.12274155\n",
            "  0.2411984  0.91807339 0.62901799 0.43068872 0.09429261 0.97582327\n",
            "  0.58934075 0.25819438 0.24126256 0.71475138 0.85175072 0.55722886\n",
            "  0.74364348 0.56271286 0.61663173 0.63135336 0.29866995 1.02613715\n",
            "  0.40489546 0.23718596 0.57618027 0.72477974 0.37631405 0.30718118\n",
            "  0.         0.23899978 0.4654891  0.66636612 0.76030854 0.58405438\n",
            "  0.82149164 0.22023859 0.56255249 0.74902423 0.15946201 0.67391005\n",
            "  0.75978226 0.12850329 0.49823304 0.19406851 0.8127943  0.40656687\n",
            "  0.83860734 1.0002295  0.24345594 0.82916403 1.03871045 0.13594509\n",
            "  0.38442245 0.41059245 0.29558274 0.88545827 0.15050675 0.0893088\n",
            "  0.81469853 0.06610368 0.34058841 0.80683243]\n",
            " [0.84599826 0.7024573  0.33704837 0.53667445 0.17867912 0.60716346\n",
            "  0.60639295 0.05580048 0.60338951 0.64923208 0.30533726 0.46965248\n",
            "  0.53608445 0.35414633 0.69348531 0.63157102 0.62634796 0.88361658\n",
            "  0.38374805 0.61080079 0.7895675  1.0182579  0.55941985 0.6375441\n",
            "  0.60333813 0.16396164 0.90814277 0.78944406 0.54365282 1.08697763\n",
            "  0.56591762 0.49754245 0.4560475  0.11467911 0.31589578 0.6356633\n",
            "  0.44997391 0.39868644 0.47186486 0.93792272 0.47088741 0.34958626\n",
            "  0.00673788 0.9303445  0.79571163 0.5820532  0.20121872 1.02122227\n",
            "  0.45727905 0.17957983 0.15760549 0.6488295  0.96982512 0.70853585\n",
            "  0.59545732 0.79124362 0.8443397  0.45410301 0.14887219 1.07646246\n",
            "  0.55651508 0.27829502 0.77561958 0.60811149 0.19392822 0.44166339\n",
            "  0.23899978 0.         0.32395484 0.52148667 0.86679846 0.80982142\n",
            "  0.90501698 0.21303954 0.6921203  0.79853543 0.16377717 0.55397217\n",
            "  0.6995456  0.12781367 0.66042837 0.17557647 0.68209176 0.27623972\n",
            "  0.81010714 1.04613919 0.43929927 0.794753   1.09427197 0.11190914\n",
            "  0.30760417 0.24711132 0.09249548 0.94230222 0.21653657 0.30793523\n",
            "  0.78943069 0.29537678 0.42900046 0.69434177]\n",
            " [0.58600248 0.77815753 0.57359319 0.2206038  0.49811942 0.32634544\n",
            "  0.64137706 0.26867101 0.5402893  0.3739609  0.16462588 0.50577438\n",
            "  0.21721534 0.15974632 0.78078071 0.54943199 0.56301806 0.94542803\n",
            "  0.57186348 0.33430986 0.90381274 0.80911074 0.23832854 0.61758529\n",
            "  0.53191889 0.1795455  0.99816121 0.69065834 0.25226666 0.88242248\n",
            "  0.73612755 0.61593827 0.33166964 0.43861176 0.56308901 0.31259363\n",
            "  0.54351386 0.12936526 0.53922515 0.83436654 0.56574667 0.58699798\n",
            "  0.32922324 0.67360671 0.75751302 0.55986251 0.48473242 0.7927174\n",
            "  0.1335391  0.20749086 0.22463773 0.3450978  0.83647164 0.65890478\n",
            "  0.28033428 0.88768076 0.93353446 0.17658103 0.18163398 0.85003354\n",
            "  0.54169251 0.28886493 0.80029241 0.28423613 0.13680162 0.44454289\n",
            "  0.4654891  0.32395484 0.         0.20348687 0.72776399 0.89549194\n",
            "  0.73116123 0.53446423 0.61257626 0.59422007 0.47508314 0.23008371\n",
            "  0.39658143 0.34702996 0.63705042 0.49501243 0.35998436 0.05910815\n",
            "  0.52448273 0.81667383 0.5272875  0.50530528 0.87259568 0.349466\n",
            "  0.12261522 0.08013868 0.23295498 0.73233091 0.33101187 0.47930557\n",
            "  0.50786387 0.53135112 0.37788187 0.37047496]\n",
            " [0.5256638  0.9293779  0.77336785 0.13761202 0.69843554 0.28435991\n",
            "  0.78474956 0.46751707 0.64770347 0.32739355 0.3327412  0.66157738\n",
            "  0.12281744 0.2994925  0.93624462 0.64500217 0.6675217  1.08399951\n",
            "  0.76426378 0.29705154 1.06447423 0.7843313  0.11712067 0.73860274\n",
            "  0.63585487 0.3830226  1.14669202 0.76082295 0.09697963 0.85734973\n",
            "  0.91929904 0.78983671 0.4434157  0.63573214 0.7641824  0.15059961\n",
            "  0.71475259 0.22401995 0.70264179 0.8903571  0.73579139 0.78665652\n",
            "  0.52621039 0.60896401 0.85784057 0.68563857 0.68821883 0.75025658\n",
            "  0.08044587 0.4083918  0.42694685 0.25076202 0.87177272 0.76092276\n",
            "  0.07728041 1.04230583 1.0837858  0.11565256 0.38432569 0.80610231\n",
            "  0.67288363 0.46907572 0.92903957 0.11488566 0.32795763 0.59531563\n",
            "  0.66636612 0.52148667 0.20348687 0.         0.76711559 1.04568825\n",
            "  0.74319904 0.73404768 0.70226862 0.59336974 0.67701067 0.0779893\n",
            "  0.29277796 0.55021932 0.75461581 0.69531852 0.16249711 0.2609762\n",
            "  0.43474227 0.77170524 0.69812053 0.41154172 0.83203958 0.55293595\n",
            "  0.29325821 0.27472422 0.42905402 0.7124234  0.52615414 0.67256949\n",
            "  0.42662496 0.73179658 0.51718754 0.19122006]\n",
            " [0.37092041 0.51517474 0.79172519 0.63064483 0.94164351 0.49083542\n",
            "  0.42307858 0.82999549 0.28498539 0.45867949 0.60174562 0.46768834\n",
            "  0.64571752 0.57702608 0.54095604 0.2476171  0.2678811  0.54661042\n",
            "  0.70636963 0.47769356 0.64486284 0.24838647 0.65889335 0.31954659\n",
            "  0.27846214 0.73673225 0.63825785 0.11779744 0.86409448 0.28369546\n",
            "  0.70469747 0.58441016 0.41958048 0.93615724 0.80843052 0.6847644\n",
            "  0.54872621 0.60186383 0.50605103 0.13404035 0.54671073 0.79667053\n",
            "  0.87329313 0.37040482 0.25537392 0.34219043 0.85140477 0.30627714\n",
            "  0.71564133 0.69875876 0.71608042 0.55566207 0.10873832 0.24236809\n",
            "  0.80382914 0.5976208  0.60229169 0.84774199 0.76229745 0.33210963\n",
            "  0.36507016 0.58882819 0.4072145  0.70360552 0.80152691 0.45327482\n",
            "  0.76030854 0.86679846 0.72776399 0.76711559 0.         0.57679378\n",
            "  0.100962   0.97368671 0.20416858 0.20405337 0.90383408 0.69964821\n",
            "  0.54691349 0.76558095 0.30562609 0.93984031 0.77805676 0.71109468\n",
            "  0.46938526 0.32275368 0.54348011 0.48512209 0.33077714 0.78333916\n",
            "  0.62842397 0.76943762 0.82916449 0.21572172 0.6642871  0.68078403\n",
            "  0.45246245 0.78193532 0.43969279 0.71886642]\n",
            " [0.89066722 0.11735239 0.5275383  0.94348004 0.76558183 0.86256701\n",
            "  0.26155944 0.80920886 0.4313518  0.86022544 0.73143265 0.38973472\n",
            "  0.95601052 0.75084024 0.11790994 0.45537047 0.42117247 0.09168907\n",
            "  0.44441479 0.85273744 0.07889599 0.82424118 0.98054636 0.33264357\n",
            "  0.44664728 0.78108761 0.10280613 0.46674229 1.12866962 0.84898633\n",
            "  0.29484643 0.31229504 0.60689507 0.8063255  0.55425975 1.04276545\n",
            "  0.36702569 0.82226564 0.35964169 0.5090785  0.34452884 0.5218227\n",
            "  0.81365061 0.92153025 0.3214744  0.37174151 0.66526262 0.88269971\n",
            "  0.96825264 0.73220631 0.73208598 0.94483632 0.59726565 0.36308388\n",
            "  1.11238479 0.03218943 0.03816453 1.06877113 0.80239178 0.90785574\n",
            "  0.37816947 0.61401797 0.16988104 1.04306022 0.87785076 0.4528083\n",
            "  0.58405438 0.80982142 0.89549194 1.04568825 0.57679378 0.\n",
            "  0.67725793 0.77899171 0.43204892 0.7219299  0.73567097 1.01063674\n",
            "  0.96513724 0.68260558 0.32684454 0.76571501 1.13697518 0.84560105\n",
            "  0.95613824 0.89954725 0.38093903 0.96192226 0.90397868 0.69792545\n",
            "  0.77394144 0.88329424 0.83585352 0.78939995 0.61448882 0.50318064\n",
            "  0.93255139 0.55197021 0.52856105 1.09864123]\n",
            " [0.2937397  0.61257355 0.86262868 0.60560176 0.99523249 0.45967235\n",
            "  0.51233577 0.86387161 0.35581212 0.42080115 0.62240785 0.54003119\n",
            "  0.62038828 0.5903465  0.63787248 0.31610187 0.34282007 0.64747966\n",
            "  0.78094979 0.44672595 0.74451914 0.15117458 0.62979292 0.40670834\n",
            "  0.34619013 0.7641726  0.73918509 0.21365995 0.83940759 0.19810929\n",
            "  0.79356692 0.66747314 0.44940339 0.98309053 0.87743926 0.64460125\n",
            "  0.62515796 0.60220453 0.58263168 0.21547152 0.62564893 0.86863577\n",
            "  0.91166404 0.27871096 0.35602811 0.42065887 0.90978272 0.20547969\n",
            "  0.7005532  0.73064277 0.74994649 0.51393911 0.14913373 0.33490352\n",
            "  0.77109314 0.69761888 0.70310067 0.83349906 0.78900308 0.23423582\n",
            "  0.44112056 0.63094659 0.50750835 0.6674617  0.81930826 0.51579025\n",
            "  0.82149164 0.90501698 0.73116123 0.74319904 0.100962   0.67725793\n",
            "  0.         1.02890029 0.28612638 0.1510425  0.95763088 0.67106126\n",
            "  0.49669942 0.8129282  0.39540933 0.99321136 0.73371408 0.72253086\n",
            "  0.4000885  0.22261881 0.61813307 0.41864146 0.23591186 0.83011283\n",
            "  0.64348447 0.78160223 0.85832332 0.11555384 0.71281972 0.7466435\n",
            "  0.38668371 0.84907437 0.48796276 0.67131423]\n",
            " [1.01677408 0.68935548 0.25167638 0.74099345 0.03788203 0.79521077\n",
            "  0.63425844 0.26655113 0.69170032 0.83344654 0.48582432 0.52200372\n",
            "  0.74178818 0.53801872 0.67290693 0.7268498  0.71187344 0.864114\n",
            "  0.33713599 0.79696589 0.73918227 1.15697459 0.76620748 0.69628129\n",
            "  0.69623608 0.36288232 0.86678461 0.87905793 0.75595768 1.22106397\n",
            "  0.49532378 0.48367203 0.59693717 0.10210978 0.2248671  0.84371481\n",
            "  0.46672241 0.59493415 0.50242496 1.02063754 0.48148141 0.25842005\n",
            "  0.20880077 1.09718791 0.84916139 0.64982285 0.12595029 1.17047514\n",
            "  0.66799655 0.35980815 0.33619365 0.84553127 1.06810959 0.77695845\n",
            "  0.80837508 0.7540893  0.80815302 0.66620226 0.35424653 1.22310418\n",
            "  0.62386481 0.40875376 0.79054023 0.81755565 0.40692599 0.52135512\n",
            "  0.22023859 0.21303954 0.53446423 0.73404768 0.97368671 0.77899171\n",
            "  1.02890029 0.         0.77942888 0.94339654 0.07243847 0.76357333\n",
            "  0.89494607 0.22700803 0.71841288 0.04079438 0.8939433  0.48331718\n",
            "  0.99469021 1.19525203 0.46300565 0.98159196 1.23779443 0.21336201\n",
            "  0.49921038 0.45935307 0.30546644 1.08402286 0.31964471 0.30872357\n",
            "  0.97244006 0.22940067 0.54131225 0.90360103]\n",
            " [0.45868719 0.34505859 0.5884454  0.57681864 0.7490196  0.46393162\n",
            "  0.22795811 0.66182733 0.08918961 0.45013204 0.46289886 0.26493147\n",
            "  0.59131589 0.45305684 0.36760913 0.06413633 0.0676224  0.43060547\n",
            "  0.50233408 0.45217094 0.48756841 0.43604918 0.61126489 0.12174037\n",
            "  0.08910953 0.5804956  0.51438601 0.0996761  0.79637061 0.48252857\n",
            "  0.50796179 0.38193611 0.28122142 0.75022349 0.60581319 0.65859965\n",
            "  0.34458955 0.50023006 0.30192807 0.24594747 0.34266439 0.59307454\n",
            "  0.69831259 0.49380241 0.1573987  0.13806155 0.65524893 0.47997922\n",
            "  0.63606929 0.53700369 0.55081121 0.54336812 0.28921508 0.07067159\n",
            "  0.75523401 0.44537344 0.46455878 0.76014384 0.60637612 0.51737797\n",
            "  0.16144192 0.41599663 0.27003275 0.66766803 0.65851657 0.25883525\n",
            "  0.56255249 0.6921203  0.61257626 0.70226862 0.20416858 0.43204892\n",
            "  0.28612638 0.77942888 0.         0.29226498 0.71128933 0.64819938\n",
            "  0.55375221 0.58132267 0.11422105 0.74742825 0.75552851 0.58237826\n",
            "  0.52692597 0.5007766  0.33961298 0.53452565 0.52145178 0.59946826\n",
            "  0.49777674 0.63695301 0.66774542 0.38274988 0.48054472 0.48027475\n",
            "  0.5040501  0.58025142 0.26584503 0.70664624]\n",
            " [0.17418395 0.63720368 0.8066079  0.45591557 0.90778684 0.30927915\n",
            "  0.51185962 0.75295664 0.32804728 0.26977377 0.50222703 0.49830144\n",
            "  0.470581   0.46390921 0.65931366 0.29044584 0.32489726 0.71044869\n",
            "  0.73421625 0.29643245 0.77966272 0.22059365 0.47924344 0.40835982\n",
            "  0.31410002 0.64788051 0.7984988  0.26810365 0.68924469 0.29175848\n",
            "  0.78133068 0.64336071 0.34728543 0.88650962 0.81751317 0.49381923\n",
            "  0.5875666  0.46490479 0.54731105 0.33802743 0.59350736 0.81455353\n",
            "  0.80526826 0.20182409 0.41607897 0.40062001 0.83098552 0.22729093\n",
            "  0.55363859 0.61989852 0.6410659  0.3631781  0.29203406 0.35912691\n",
            "  0.62008112 0.7367805  0.7528701  0.68631192 0.67150769 0.27989979\n",
            "  0.4140774  0.53565537 0.55534224 0.51642797 0.69275323 0.45736045\n",
            "  0.74902423 0.79853543 0.59422007 0.59336974 0.20405337 0.7219299\n",
            "  0.1510425  0.94339654 0.29226498 0.         0.87104481 0.5205135\n",
            "  0.34800563 0.71976625 0.40516465 0.90547564 0.58375567 0.59184648\n",
            "  0.26590828 0.25196643 0.57711596 0.28113041 0.29609367 0.73581856\n",
            "  0.51738526 0.65071619 0.74232833 0.14391742 0.62375305 0.68415041\n",
            "  0.2484585  0.78631151 0.40848566 0.52212849]\n",
            " [0.94484569 0.64035954 0.21607922 0.67638297 0.03781426 0.72560529\n",
            "  0.57507068 0.2119939  0.62306305 0.76312508 0.41623681 0.45710025\n",
            "  0.67788762 0.46862368 0.62578134 0.65756631 0.64367031 0.81814136\n",
            "  0.29127796 0.72702637 0.70152733 1.08492103 0.70285731 0.63187139\n",
            "  0.62709055 0.2993076  0.82718746 0.81096542 0.70522545 1.1492802\n",
            "  0.46165691 0.43219991 0.52450813 0.07956463 0.19001803 0.78099011\n",
            "  0.40764687 0.52795107 0.44112975 0.95386029 0.42401451 0.22569825\n",
            "  0.16122585 1.02500699 0.78650012 0.58368979 0.07041628 1.09809147\n",
            "  0.60816552 0.29176304 0.26840437 0.77780364 0.9993885  0.71145829\n",
            "  0.75249315 0.71245113 0.7666191  0.61611418 0.29350365 1.15078935\n",
            "  0.55760897 0.33631686 0.73540792 0.75599468 0.35333814 0.45263356\n",
            "  0.15946201 0.16377717 0.47508314 0.67701067 0.90383408 0.73567097\n",
            "  0.95763088 0.07243847 0.71128933 0.87104481 0.         0.70229892\n",
            "  0.82675605 0.15513912 0.65426815 0.03613904 0.83504797 0.42164614\n",
            "  0.92418666 1.12287519 0.40242133 0.91145639 1.16557985 0.14229287\n",
            "  0.43165174 0.40290472 0.25303566 1.01181609 0.24731986 0.24870035\n",
            "  0.90174093 0.18447238 0.46978553 0.84168576]\n",
            " [0.44779951 0.89575786 0.77792013 0.07146206 0.72685729 0.2114054\n",
            "  0.74908889 0.49855274 0.600289   0.2522792  0.32462286 0.63375954\n",
            "  0.05689187 0.2823711  0.90465893 0.59372708 0.61874658 1.04343647\n",
            "  0.75946662 0.22439965 1.03460673 0.70771762 0.04127165 0.69449315\n",
            "  0.58749477 0.40329964 1.11019877 0.70050968 0.16951879 0.78054167\n",
            "  0.90492728 0.77021916 0.40385845 0.66858993 0.77131968 0.0848676\n",
            "  0.69449115 0.20382027 0.67807109 0.825463   0.71449956 0.79090536\n",
            "  0.55928364 0.53097553 0.80513696 0.64420632 0.70593603 0.67264735\n",
            "  0.09808543 0.42027969 0.4411975  0.17281387 0.80276176 0.70987949\n",
            "  0.10711788 1.00944956 1.04849987 0.19075273 0.40944501 0.72836772\n",
            "  0.63382849 0.46018984 0.88566113 0.05415301 0.36498592 0.56648718\n",
            "  0.67391005 0.55397217 0.23008371 0.0779893  0.69964821 1.01063674\n",
            "  0.67106126 0.76357333 0.64819938 0.5205135  0.70229892 0.\n",
            "  0.21515682 0.56561057 0.70900193 0.72376368 0.13968076 0.2806734\n",
            "  0.35707779 0.69397169 0.67787267 0.33400214 0.7544029  0.57075049\n",
            "  0.29033926 0.30880128 0.46299034 0.63646907 0.52774919 0.6697331\n",
            "  0.34867188 0.7378993  0.48546829 0.14039134]\n",
            " [0.23887048 0.85861793 0.85155841 0.18073265 0.85708978 0.11283623\n",
            "  0.71228438 0.64437497 0.53404163 0.10498561 0.41173691 0.62870147\n",
            "  0.18929703 0.35929334 0.8734686  0.51387007 0.54611641 0.97949397\n",
            "  0.81037674 0.11849747 1.00435072 0.50722747 0.180328   0.63305268\n",
            "  0.51891953 0.5363963  1.05749603 0.57846253 0.37737359 0.57817263\n",
            "  0.92391754 0.78041111 0.38975108 0.81006802 0.85154671 0.15757333\n",
            "  0.70718423 0.30118825 0.67942518 0.67992615 0.7230238  0.8632422\n",
            "  0.70572671 0.31833956 0.70766611 0.59525704 0.81365336 0.46490186\n",
            "  0.29159481 0.53522014 0.5587802  0.05154464 0.64000596 0.62302089\n",
            "  0.29284811 0.97080232 1.00118026 0.4054284  0.55088815 0.51917237\n",
            "  0.59356082 0.52393833 0.81748577 0.18832235 0.53034901 0.56417963\n",
            "  0.75978226 0.6995456  0.39658143 0.29277796 0.54691349 0.96513724\n",
            "  0.49669942 0.89494607 0.55375221 0.34800563 0.82675605 0.21515682\n",
            "  0.         0.67567151 0.64150169 0.85415297 0.23828014 0.42850664\n",
            "  0.14196445 0.4849224  0.69167847 0.11885573 0.54602877 0.68569046\n",
            "  0.39581372 0.47486558 0.61627159 0.44121087 0.60965909 0.73053856\n",
            "  0.13528815 0.81711697 0.4834358  0.1746961 ]\n",
            " [0.78978317 0.57469637 0.23678542 0.53270375 0.18994729 0.57245354\n",
            "  0.48030731 0.13244174 0.49213482 0.60898858 0.26396336 0.34607749\n",
            "  0.53570392 0.3164465  0.56598425 0.52344039 0.51427176 0.75584764\n",
            "  0.26525141 0.57340375 0.66432876 0.9357749  0.56165651 0.51728705\n",
            "  0.49392068 0.16802179 0.7814673  0.68025562 0.59256147 1.00163494\n",
            "  0.44714208 0.37048411 0.3724997  0.17064174 0.22154978 0.64056049\n",
            "  0.32224558 0.38034666 0.34511841 0.82695374 0.34308509 0.25021555\n",
            "  0.13220394 0.87024975 0.67530204 0.46365159 0.14071587 0.94626966\n",
            "  0.4759579  0.14569953 0.12443541 0.62761074 0.86516582 0.59149656\n",
            "  0.6272751  0.66455554 0.71741108 0.50703525 0.17260009 0.99966336\n",
            "  0.43769877 0.18416071 0.64893385 0.61820754 0.2486353  0.3249098\n",
            "  0.12850329 0.12781367 0.34702996 0.55021932 0.76558095 0.68260558\n",
            "  0.8129282  0.22700803 0.58132267 0.71976625 0.15513912 0.56561057\n",
            "  0.67567151 0.         0.54018141 0.18739637 0.70234888 0.28931223\n",
            "  0.76977764 0.97112428 0.31180618 0.75745977 1.0152643  0.01823299\n",
            "  0.28373273 0.28605065 0.16804818 0.86168795 0.10136245 0.18292748\n",
            "  0.7471458  0.19325448 0.32637116 0.70256392]\n",
            " [0.56824613 0.23251521 0.50657602 0.63893505 0.69126941 0.5428833\n",
            "  0.11747469 0.6383666  0.10966297 0.53654833 0.47643227 0.19731962\n",
            "  0.65260299 0.47918336 0.25415793 0.12868087 0.09538574 0.33913546\n",
            "  0.41600488 0.53225126 0.37701318 0.54638486 0.67511998 0.02290539\n",
            "  0.12383036 0.57215898 0.41614013 0.18902111 0.84478606 0.58873007\n",
            "  0.39916199 0.28237991 0.31298533 0.70278253 0.52673725 0.73068124\n",
            "  0.25982711 0.53908726 0.21929109 0.30901431 0.2523961  0.50934056\n",
            "  0.66611238 0.60696454 0.13529673 0.08070962 0.59250899 0.59295519\n",
            "  0.68236869 0.52488189 0.53433223 0.62464325 0.3730317  0.06517519\n",
            "  0.81452498 0.33700292 0.36150641 0.79801564 0.59737048 0.62864614\n",
            "  0.10470619 0.39788119 0.17796303 0.73519798 0.6595691  0.2200676\n",
            "  0.49823304 0.66042837 0.63705042 0.75461581 0.30562609 0.32684454\n",
            "  0.39540933 0.71841288 0.11422105 0.40516465 0.65426815 0.70900193\n",
            "  0.64150169 0.54018141 0.         0.69006013 0.82681179 0.59800055\n",
            "  0.62957156 0.61327888 0.25919366 0.63509878 0.63132025 0.55834148\n",
            "  0.51598587 0.64749084 0.65126003 0.49589182 0.44393126 0.41085395\n",
            "  0.60585604 0.50497337 0.26222856 0.78329735]\n",
            " [0.97689573 0.67224826 0.24189323 0.70053093 0.00311781 0.75448094\n",
            "  0.6098458  0.22790923 0.65919354 0.79282883 0.44511693 0.49296385\n",
            "  0.70144298 0.49728302 0.65704481 0.69365548 0.67980912 0.84914029\n",
            "  0.32152333 0.75628035 0.72949852 1.1198898  0.725966   0.66769932\n",
            "  0.66319278 0.3224592  0.85596299 0.84710433 0.71921537 1.18451883\n",
            "  0.48777274 0.46467863 0.55860926 0.07108461 0.21525421 0.80360857\n",
            "  0.44229103 0.55418256 0.47632221 0.98996158 0.45825376 0.25040465\n",
            "  0.17180966 1.05761703 0.82206587 0.61972239 0.10205596 1.13238958\n",
            "  0.62849952 0.31901554 0.2953994  0.80474988 1.03550873 0.74743682\n",
            "  0.7700102  0.74188464 0.79605336 0.629621   0.31432771 1.18530359\n",
            "  0.59365052 0.37020342 0.76919598 0.77769342 0.3689249  0.48876609\n",
            "  0.19406851 0.17557647 0.49501243 0.69531852 0.93984031 0.76571501\n",
            "  0.99321136 0.04079438 0.74742825 0.90547564 0.03613904 0.72376368\n",
            "  0.85415297 0.18739637 0.69006013 0.         0.85475303 0.44331609\n",
            "  0.9541056  1.15719888 0.43742764 0.94093055 1.2003059  0.17324245\n",
            "  0.45842446 0.42060338 0.26756319 1.04656575 0.28202664 0.2833745\n",
            "  0.93190854 0.21374489 0.50528637 0.86367572]\n",
            " [0.47227737 1.02365217 0.91730039 0.19606762 0.85786463 0.29385453\n",
            "  0.87610417 0.62751905 0.71718253 0.31972324 0.46427875 0.76666191\n",
            "  0.18557071 0.42131624 1.03400868 0.70584116 0.73376667 1.16463433\n",
            "  0.89901344 0.30644481 1.16473791 0.74299333 0.15904472 0.81408876\n",
            "  0.70342786 0.53767331 1.23499041 0.79616475 0.19204322 0.81262365\n",
            "  1.04264191 0.90642371 0.53129235 0.79662449 0.91035091 0.0969324\n",
            "  0.83065648 0.34292518 0.81243478 0.90915925 0.85019374 0.93032343\n",
            "  0.68700492 0.54465111 0.9128097  0.76696299 0.84209754 0.69609797\n",
            "  0.22712013 0.55769129 0.57797495 0.22240604 0.87486542 0.82087489\n",
            "  0.1010412  1.13752005 1.17451831 0.2626659  0.54155236 0.74816167\n",
            "  0.75884372 0.59962583 1.00467245 0.09503135 0.48931636 0.69923598\n",
            "  0.8127943  0.68209176 0.35998436 0.16249711 0.77805676 1.13697518\n",
            "  0.73371408 0.8939433  0.75552851 0.58375567 0.83504797 0.13968076\n",
            "  0.23828014 0.70234888 0.82681179 0.85475303 0.         0.41448626\n",
            "  0.36508507 0.7144488  0.81409451 0.34134413 0.77577374 0.70664199\n",
            "  0.4298528  0.43498207 0.58989615 0.67884281 0.66724954 0.80939995\n",
            "  0.36629549 0.87706297 0.61720459 0.06617667]\n",
            " [0.60088457 0.72843809 0.51454801 0.26059335 0.44640149 0.34644262\n",
            "  0.59462948 0.22044108 0.50575637 0.39234682 0.12161568 0.45654904\n",
            "  0.25985049 0.13408046 0.72993284 0.51848166 0.52901273 0.89840201\n",
            "  0.51322234 0.35258374 0.85127549 0.8102024  0.28342777 0.57771213\n",
            "  0.49864511 0.12318747 0.94839223 0.66527172 0.31110667 0.88279402\n",
            "  0.67887875 0.561013   0.30184354 0.39012994 0.50423164 0.36044987\n",
            "  0.48958235 0.13594705 0.48747926 0.811539   0.51201856 0.52794489\n",
            "  0.28196112 0.68804407 0.72237418 0.5192501  0.4280342  0.79912199\n",
            "  0.18740434 0.14845474 0.16608342 0.37712825 0.81969862 0.62430164\n",
            "  0.33813164 0.83668448 0.8835112  0.23319666 0.12909671 0.85620439\n",
            "  0.49963912 0.23449805 0.75662979 0.33446886 0.10556047 0.39765402\n",
            "  0.40656687 0.27623972 0.05910815 0.2609762  0.71109468 0.84560105\n",
            "  0.72253086 0.48331718 0.58237826 0.59184648 0.42164614 0.2806734\n",
            "  0.42850664 0.28931223 0.59800055 0.44331609 0.41448626 0.\n",
            "  0.54883465 0.82351546 0.47355413 0.53120947 0.87755474 0.2925615\n",
            "  0.08468708 0.05908911 0.18868185 0.73302693 0.27225062 0.42062672\n",
            "  0.53037121 0.47237397 0.33625675 0.420372  ]\n",
            " [0.11146426 0.85858973 0.92092303 0.31781767 0.95690751 0.20337651\n",
            "  0.71841262 0.75635917 0.5305943  0.16143193 0.50950983 0.66038565\n",
            "  0.32800384 0.45800734 0.87701299 0.50184543 0.53689321 0.95712847\n",
            "  0.86790697 0.19931054 1.00480585 0.38125989 0.32146519 0.6260722\n",
            "  0.51504215 0.64624554 1.04123732 0.52693565 0.51831246 0.44896782\n",
            "  0.95865726 0.81437414 0.4378995  0.91644296 0.92462076 0.29599473\n",
            "  0.74583416 0.41470648 0.71235401 0.60293497 0.75835375 0.93155294\n",
            "  0.81656031 0.17987843 0.66946951 0.59968606 0.9026461  0.33113723\n",
            "  0.42988054 0.63718931 0.66087768 0.18750745 0.54882501 0.59752893\n",
            "  0.43151302 0.9663878  0.98999135 0.54707526 0.66373818 0.38315962\n",
            "  0.60417809 0.6020111  0.79695657 0.32863153 0.65351114 0.60186209\n",
            "  0.83860734 0.81010714 0.52448273 0.43474227 0.46938526 0.95613824\n",
            "  0.4000885  0.99469021 0.52692597 0.26590828 0.92418666 0.35707779\n",
            "  0.14196445 0.76977764 0.62957156 0.9541056  0.36508507 0.54883465\n",
            "  0.         0.34937683 0.73175345 0.02394762 0.41070705 0.78189396\n",
            "  0.50250312 0.59986377 0.7322661  0.32337366 0.69219516 0.79656406\n",
            "  0.02510475 0.89057367 0.52803348 0.29892889]\n",
            " [0.24653764 0.83453937 1.05437327 0.64181564 1.15953202 0.49930305\n",
            "  0.7287269  0.99879286 0.5591879  0.45164394 0.74508114 0.73903777\n",
            "  0.6546745  0.70258035 0.85955452 0.51937552 0.55029176 0.86699269\n",
            "  0.97855285 0.4887732  0.96713611 0.08013141 0.65483761 0.62251328\n",
            "  0.54721107 0.8915112  0.95907351 0.43593356 0.86092446 0.11232935\n",
            "  1.00791889 0.87642864 0.59868326 1.13691567 1.066392   0.64232505\n",
            "  0.82718203 0.69020531 0.78552876 0.41645455 0.8305191  1.0617511\n",
            "  1.05287657 0.17016197 0.57811362 0.62883076 1.08286043 0.02492667\n",
            "  0.75086582 0.86672592 0.88855154 0.52140433 0.33054555 0.55506262\n",
            "  0.77776436 0.92017868 0.92481563 0.87817383 0.91414395 0.03439707\n",
            "  0.64648692 0.78715452 0.72992339 0.67305827 0.92754348 0.70406389\n",
            "  1.0002295  1.04613919 0.81667383 0.77170524 0.32275368 0.89954725\n",
            "  0.22261881 1.19525203 0.5007766  0.25196643 1.12287519 0.69397169\n",
            "  0.4849224  0.97112428 0.61327888 1.15719888 0.7144488  0.82351546\n",
            "  0.34937683 0.         0.81820692 0.37317641 0.0613335  0.9869799\n",
            "  0.75530886 0.88112071 0.98534103 0.11905716 0.87562612 0.93327946\n",
            "  0.35023257 1.03580697 0.6596668  0.64828217]\n",
            " [0.70625232 0.26742185 0.24945963 0.61853747 0.43833147 0.57926037\n",
            "  0.17297583 0.43203025 0.26232954 0.59463602 0.36824476 0.07918195\n",
            "  0.62852825 0.39892403 0.26306384 0.30214378 0.27636748 0.44739677\n",
            "  0.16307381 0.57322176 0.37843607 0.76275296 0.65522392 0.23820155\n",
            "  0.27255207 0.40052643 0.48291758 0.43548577 0.77189951 0.81624232\n",
            "  0.23257446 0.09235669 0.30197227 0.45921296 0.26829706 0.72746694\n",
            "  0.01665012 0.47638846 0.03994802 0.5672941  0.03847281 0.25359138\n",
            "  0.44391701 0.76792404 0.38667713 0.2017168  0.33728828 0.79512272\n",
            "  0.61797314 0.35187874 0.35116567 0.65740715 0.62535485 0.32141821\n",
            "  0.77079971 0.36777783 0.41775808 0.70354851 0.42151676 0.83980785\n",
            "  0.17842613 0.23906166 0.33825362 0.7192806  0.49757385 0.12991552\n",
            "  0.24345594 0.43929927 0.5272875  0.69812053 0.54348011 0.38093903\n",
            "  0.61813307 0.46300565 0.33961298 0.57711596 0.40242133 0.67787267\n",
            "  0.69167847 0.31180618 0.25919366 0.43742764 0.81409451 0.47355413\n",
            "  0.73175345 0.81820692 0.         0.72883729 0.84804519 0.32873807\n",
            "  0.41020358 0.50627477 0.45632282 0.69952968 0.23430509 0.15433714\n",
            "  0.70665692 0.24578157 0.20827294 0.78872627]\n",
            " [0.13348661 0.86272404 0.91328982 0.29631624 0.94376066 0.18761007\n",
            "  0.72119926 0.74066711 0.53429086 0.1485248  0.49589936 0.65868941\n",
            "  0.30613472 0.44402311 0.88058675 0.50683479 0.54159093 0.96510237\n",
            "  0.86227077 0.18475816 1.00909678 0.40408496 0.2988538  0.63076182\n",
            "  0.51873114 0.63079846 1.04832781 0.53863928 0.4946098  0.47222899\n",
            "  0.95710389 0.81269474 0.43233297 0.90200569 0.91633299 0.27213062\n",
            "  0.74319727 0.39795493 0.71060294 0.61897843 0.75631406 0.92412164\n",
            "  0.80116034 0.20379398 0.67945474 0.60236656 0.89145388 0.3547816\n",
            "  0.40823014 0.62318521 0.64689882 0.16561311 0.56695021 0.60519671\n",
            "  0.40761896 0.97143043 0.99618444 0.52424452 0.64775108 0.40700061\n",
            "  0.60583647 0.59216277 0.80435428 0.3048917  0.6354781  0.59893969\n",
            "  0.82916403 0.794753   0.50530528 0.41154172 0.48512209 0.96192226\n",
            "  0.41864146 0.98159196 0.53452565 0.28113041 0.91145639 0.33400214\n",
            "  0.11885573 0.75745977 0.63509878 0.94093055 0.34134413 0.53120947\n",
            "  0.02394762 0.37317641 0.72883729 0.         0.43450952 0.76921022\n",
            "  0.48728945 0.58138896 0.71576176 0.34497197 0.6818085  0.78931116\n",
            "  0.03267916 0.88216895 0.52361219 0.27520795]\n",
            " [0.30742128 0.84595166 1.08830208 0.7013738  1.2025609  0.55786879\n",
            "  0.74820985 1.04800866 0.58656457 0.5104867  0.79550445 0.76915255\n",
            "  0.71439646 0.75443938 0.87170526 0.5465729  0.5755649  0.86555967\n",
            "  1.00985221 0.54706466 0.97407874 0.0855918  0.71506811 0.64246133\n",
            "  0.57559949 0.94176515 0.95785058 0.44770725 0.92168865 0.06869267\n",
            "  1.02927823 0.9015844  0.64301116 1.18250371 1.10143683 0.70348732\n",
            "  0.85610039 0.74528563 0.8139195  0.40719913 0.85797568 1.09513218\n",
            "  1.10100803 0.23137025 0.58326049 0.65399536 1.12327161 0.08181578\n",
            "  0.80983023 0.91529161 0.9367097  0.58200285 0.31810102 0.57047495\n",
            "  0.83887648 0.92621777 0.92727478 0.93782662 0.96485456 0.02827028\n",
            "  0.67323336 0.831104   0.73553664 0.73407604 0.98093761 0.73834405\n",
            "  1.03871045 1.09427197 0.87259568 0.83203958 0.33077714 0.90397868\n",
            "  0.23591186 1.23779443 0.52145178 0.29609367 1.16557985 0.7544029\n",
            "  0.54602877 1.0152643  0.63132025 1.2003059  0.77577374 0.87755474\n",
            "  0.41070705 0.0613335  0.84804519 0.43450952 0.         1.03148689\n",
            "  0.80751035 0.93555821 1.03594792 0.15377574 0.91830727 0.9689102\n",
            "  0.4114705  1.07162604 0.69893986 0.70960544]\n",
            " [0.80367486 0.59070519 0.24235116 0.53983214 0.17590233 0.58358055\n",
            "  0.49780769 0.12203426 0.51027905 0.62085047 0.27440974 0.36405171\n",
            "  0.54236671 0.32687843 0.58158481 0.54147666 0.53244349 0.77186818\n",
            "  0.27638152 0.58485496 0.67844083 0.95226035 0.56805234 0.53544935\n",
            "  0.51200097 0.16992117 0.79638849 0.69836345 0.59248172 1.01837321\n",
            "  0.45865787 0.38566002 0.38853943 0.15310392 0.22547986 0.64680978\n",
            "  0.33889173 0.38868535 0.36245174 0.84512753 0.35951957 0.25564972\n",
            "  0.11592877 0.88461137 0.69344204 0.48187073 0.13548623 0.96210869\n",
            "  0.47980026 0.15261329 0.1302118  0.6372065  0.88311748 0.60972606\n",
            "  0.62977512 0.67947893 0.73250482 0.50608169 0.17175351 1.01568893\n",
            "  0.45591257 0.20051015 0.66621236 0.62370317 0.24535711 0.34313994\n",
            "  0.13594509 0.11190914 0.349466   0.55293595 0.78333916 0.69792545\n",
            "  0.83011283 0.21336201 0.59946826 0.73581856 0.14229287 0.57075049\n",
            "  0.68569046 0.01823299 0.55834148 0.17324245 0.70664199 0.2925615\n",
            "  0.78189396 0.9869799  0.32873807 0.76921022 1.03148689 0.\n",
            "  0.29203351 0.28558886 0.15977911 0.87798487 0.1192958  0.19668211\n",
            "  0.75945806 0.19893117 0.34396585 0.70849943]\n",
            " [0.54225988 0.6565897  0.48761256 0.24999979 0.46137524 0.29968\n",
            "  0.51888779 0.2541443  0.42187106 0.34171949 0.04255058 0.38426625\n",
            "  0.25418894 0.05350623 0.65991085 0.43392951 0.44500746 0.82291966\n",
            "  0.47181795 0.30319698 0.78430151 0.73729519 0.2808313  0.49614142\n",
            "  0.41444858 0.14382185 0.87650014 0.5806936  0.36184397 0.80911287\n",
            "  0.6267194  0.50057914 0.2171581  0.41529321 0.4814575  0.35977009\n",
            "  0.42667089 0.09666475 0.41955523 0.72722131 0.44847931 0.50057729\n",
            "  0.31406252 0.62811971 0.63879999 0.4380892  0.42406213 0.73063584\n",
            "  0.21304555 0.13991685 0.16326376 0.34633674 0.73685929 0.54051786\n",
            "  0.36907208 0.76682608 0.8120354  0.29516113 0.16268657 0.78727459\n",
            "  0.41945985 0.17608625 0.67781634 0.34047683 0.17598047 0.32220803\n",
            "  0.38442245 0.30760417 0.12261522 0.29325821 0.62842397 0.77394144\n",
            "  0.64348447 0.49921038 0.49777674 0.51738526 0.43165174 0.29033926\n",
            "  0.39581372 0.28373273 0.51598587 0.45842446 0.4298528  0.08468708\n",
            "  0.50250312 0.75530886 0.41020358 0.48728945 0.80751035 0.29203351\n",
            "  0.         0.14139    0.23315659 0.66012396 0.23741178 0.38083433\n",
            "  0.48189963 0.44784161 0.25561195 0.42252394]\n",
            " [0.65606161 0.76669248 0.51980186 0.30046693 0.42372067 0.39907782\n",
            "  0.63714112 0.19280472 0.55841862 0.44584408 0.17409014 0.49676992\n",
            "  0.29732826 0.19252393 0.76650749 0.57288696 0.58188248 0.93972357\n",
            "  0.5289051  0.40601103 0.88467542 0.86878537 0.3184039  0.62666355\n",
            "  0.55199993 0.12036656 0.98604526 0.72154064 0.3068983  0.94148164\n",
            "  0.70095278 0.59053822 0.357652   0.36166089 0.50670135 0.39206446\n",
            "  0.52177715 0.19154489 0.52374128 0.86844298 0.54448073 0.53330265\n",
            "  0.2520382  0.74345475 0.77411598 0.56786567 0.41884549 0.85680941\n",
            "  0.21115661 0.16100284 0.17184483 0.42332195 0.87796822 0.67657075\n",
            "  0.34965141 0.87272938 0.92092656 0.22104073 0.11383534 0.91396406\n",
            "  0.54718127 0.26927854 0.80183574 0.36289395 0.05666964 0.44118921\n",
            "  0.41059245 0.24711132 0.08013868 0.27472422 0.76943762 0.88329424\n",
            "  0.78160223 0.45935307 0.63695301 0.65071619 0.40290472 0.30880128\n",
            "  0.47486558 0.28605065 0.64749084 0.42060338 0.43498207 0.05908911\n",
            "  0.59986377 0.88112071 0.50627477 0.58138896 0.93555821 0.28558886\n",
            "  0.14139    0.         0.15499828 0.79163436 0.28984865 0.43675513\n",
            "  0.58229793 0.47664533 0.38527104 0.44904644]\n",
            " [0.77541276 0.72369918 0.40186496 0.44890681 0.27067637 0.52889952\n",
            "  0.61301784 0.04169137 0.58116918 0.57283484 0.24044348 0.47148055\n",
            "  0.44746202 0.28398208 0.71807237 0.60487199 0.6047748  0.90356771\n",
            "  0.43267768 0.53363565 0.82388778 0.96291988 0.47006248 0.62874942\n",
            "  0.57877116 0.0945237  0.9367119  0.76171569 0.4523113  1.03340284\n",
            "  0.61384987 0.52689187 0.41058217 0.2067454  0.38400882 0.54541232\n",
            "  0.46932607 0.31781856 0.48370486 0.91105751 0.49157429 0.41508517\n",
            "  0.09716085 0.8612309  0.78519611 0.57088757 0.28003277 0.96053287\n",
            "  0.36580189 0.13114759 0.11745649 0.5650762  0.9350195  0.69299553\n",
            "  0.50296431 0.82023221 0.87189315 0.36308849 0.0712164  1.01669868\n",
            "  0.5466009  0.25418831 0.78300064 0.51714124 0.10145961 0.43163317\n",
            "  0.29558274 0.09249548 0.23295498 0.42905402 0.82916449 0.83585352\n",
            "  0.85832332 0.30546644 0.66774542 0.74232833 0.25303566 0.46299034\n",
            "  0.61627159 0.16804818 0.65126003 0.26756319 0.58989615 0.18868185\n",
            "  0.7322661  0.98534103 0.45632282 0.71576176 1.03594792 0.15977911\n",
            "  0.23315659 0.15499828 0.         0.88611967 0.22206791 0.34696566\n",
            "  0.7125854  0.35855081 0.40197788 0.60337229]\n",
            " [0.21193805 0.71980573 0.93703747 0.57716327 1.04881468 0.43010517\n",
            "  0.61066072 0.89687001 0.44014245 0.38517728 0.64589535 0.62038696\n",
            "  0.59113351 0.60673418 0.74435571 0.40032062 0.43129099 0.76217549\n",
            "  0.86027157 0.41816022 0.85493306 0.07720672 0.59573755 0.50445651\n",
            "  0.42822423 0.79170241 0.85365532 0.32306886 0.80589512 0.15009561\n",
            "  0.88923522 0.75737953 0.489645   1.02926336 0.94957099 0.59676927\n",
            "  0.70834933 0.60354526 0.66661498 0.32753208 0.71152304 0.94419284\n",
            "  0.94903287 0.17351555 0.46911916 0.50981249 0.96962159 0.09728498\n",
            "  0.68113445 0.76378346 0.78488666 0.46851615 0.25125663 0.43904215\n",
            "  0.7293367  0.80874262 0.81620003 0.81225345 0.81523691 0.14109107\n",
            "  0.52743358 0.67753957 0.6195207  0.6239047  0.83496602 0.5867362\n",
            "  0.88545827 0.94230222 0.73233091 0.7124234  0.21572172 0.78939995\n",
            "  0.11555384 1.08402286 0.38274988 0.14391742 1.01181609 0.63646907\n",
            "  0.44121087 0.86168795 0.49589182 1.04656575 0.67884281 0.73302693\n",
            "  0.32337366 0.11905716 0.69952968 0.34497197 0.15377574 0.87798487\n",
            "  0.66012396 0.79163436 0.88611967 0.         0.76455608 0.81671676\n",
            "  0.31566685 0.91937655 0.54539601 0.61384844]\n",
            " [0.70333548 0.50172212 0.25033376 0.48434054 0.28426135 0.50148423\n",
            "  0.39358865 0.1998215  0.3913671  0.53374618 0.20578781 0.25423888\n",
            "  0.48988579 0.25528132 0.49660435 0.42222009 0.41372357 0.68150105\n",
            "  0.24102262 0.50068006 0.60579882 0.8378948  0.51687098 0.42104029\n",
            "  0.39282953 0.17365551 0.71584044 0.57925827 0.58327441 0.90284628\n",
            "  0.41121176 0.30839001 0.27769322 0.27187029 0.24546218 0.59543206\n",
            "  0.24755756 0.32896498 0.26208395 0.72636239 0.26996809 0.26322585\n",
            "  0.22218428 0.78138609 0.57922478 0.36589291 0.21214005 0.85085996\n",
            "  0.44727885 0.12884789 0.12152935 0.56432994 0.76382496 0.49299416\n",
            "  0.60308546 0.59975177 0.65084863 0.50433809 0.191436   0.90347136\n",
            "  0.34021926 0.0913199  0.56360963 0.57754186 0.27035981 0.225888\n",
            "  0.15050675 0.21653657 0.33101187 0.52615414 0.6642871  0.61448882\n",
            "  0.71281972 0.31964471 0.48054472 0.62375305 0.24731986 0.52774919\n",
            "  0.60965909 0.10136245 0.44393126 0.28202664 0.66724954 0.27225062\n",
            "  0.69219516 0.87562612 0.23430509 0.6818085  0.91830727 0.1192958\n",
            "  0.23741178 0.28984865 0.22206791 0.76455608 0.         0.14840882\n",
            "  0.66867747 0.21139411 0.22542706 0.65843711]\n",
            " [0.7907795  0.39948471 0.12499464 0.62152959 0.28420438 0.61885728\n",
            "  0.32647132 0.31441824 0.39579996 0.6447706  0.34512591 0.21677221\n",
            "  0.62844162 0.39030089 0.38819146 0.43367901 0.4137494  0.58006658\n",
            "  0.09261467 0.61589648 0.48176752 0.884924   0.6556509  0.38907267\n",
            "  0.40286057 0.31809752 0.60053018 0.57892994 0.73156807 0.94352627\n",
            "  0.26788556 0.19142525 0.36045601 0.30947211 0.13338887 0.73318679\n",
            "  0.15895303 0.4674447  0.19370395 0.71628691 0.17565233 0.13507851\n",
            "  0.31138873 0.86166608 0.54054591 0.34587138 0.18295199 0.90923528\n",
            "  0.59303651 0.27614913 0.26562499 0.68875953 0.76923101 0.47099404\n",
            "  0.74914625 0.48369957 0.53707337 0.65267582 0.33255102 0.95779382\n",
            "  0.32048262 0.21152852 0.48752012 0.71781289 0.41239403 0.23106539\n",
            "  0.0893088  0.30793523 0.47930557 0.67256949 0.68078403 0.50318064\n",
            "  0.7466435  0.30872357 0.48027475 0.68415041 0.24870035 0.6697331\n",
            "  0.73053856 0.18292748 0.41085395 0.2833745  0.80939995 0.42062672\n",
            "  0.79656406 0.93327946 0.15433714 0.78931116 0.9689102  0.19668211\n",
            "  0.38083433 0.43675513 0.34696566 0.81671676 0.14840882 0.\n",
            "  0.77202247 0.10272313 0.27851789 0.79620779]\n",
            " [0.10600257 0.83444201 0.89646034 0.30539664 0.93469327 0.18403085\n",
            "  0.69389704 0.73597252 0.50628168 0.14019943 0.48776364 0.63528854\n",
            "  0.31633147 0.43655512 0.85270808 0.47791792 0.51287808 0.93448565\n",
            "  0.84304734 0.17897363 0.98071496 0.37698713 0.31168703 0.60207028\n",
            "  0.49072435 0.62571744 1.01818948 0.50647478 0.51260489 0.44633088\n",
            "  0.93356903 0.78927978 0.41308612 0.89506139 0.90033311 0.29221315\n",
            "  0.72073164 0.39554007 0.68725628 0.58633607 0.73325092 0.90703968\n",
            "  0.79591726 0.18305985 0.64789523 0.57513255 0.87942843 0.33078997\n",
            "  0.41746856 0.61561697 0.63927662 0.17676447 0.53477094 0.57469932\n",
            "  0.42777704 0.94253647 0.96656462 0.53748836 0.64364244 0.38437898\n",
            "  0.57941931 0.57830831 0.77402801 0.32358079 0.63540077 0.57676829\n",
            "  0.81469853 0.78943069 0.50786387 0.42662496 0.45246245 0.93255139\n",
            "  0.38668371 0.97244006 0.5040501  0.2484585  0.90174093 0.34867188\n",
            "  0.13528815 0.7471458  0.60585604 0.93190854 0.36629549 0.53037121\n",
            "  0.02510475 0.35023257 0.70665692 0.03267916 0.4114705  0.75945806\n",
            "  0.48189963 0.58229793 0.7125854  0.31566685 0.66867747 0.77202247\n",
            "  0.         0.8663237  0.50304715 0.30045357]\n",
            " [0.8894395  0.4600091  0.0435324  0.69571562 0.21363058 0.70697144\n",
            "  0.41127607 0.31964577 0.49706059 0.73583073 0.41718161 0.31547198\n",
            "  0.70113113 0.46635994 0.44394236 0.53535929 0.51433934 0.63570251\n",
            "  0.10802063 0.70502676 0.51710414 0.98764584 0.72806088 0.48392333\n",
            "  0.50460405 0.35660937 0.6427587  0.67819457 0.78118775 1.04611312\n",
            "  0.27896398 0.25470237 0.4578462  0.2590943  0.03443135 0.80671907\n",
            "  0.24615521 0.54033257 0.2856878  0.812802   0.25785686 0.05696802\n",
            "  0.29671716 0.96181211 0.6307984  0.44423162 0.1142959  1.01171814\n",
            "  0.65440993 0.32393548 0.30729914 0.77317113 0.86853515 0.56693433\n",
            "  0.80905871 0.52827047 0.58244397 0.69744458 0.36449443 1.06044454\n",
            "  0.41938861 0.29318106 0.56260179 0.78831136 0.44172465 0.33371698\n",
            "  0.06610368 0.29537678 0.53135112 0.73179658 0.78193532 0.55197021\n",
            "  0.84907437 0.22940067 0.58025142 0.78631151 0.18447238 0.7378993\n",
            "  0.81711697 0.19325448 0.50497337 0.21374489 0.87706297 0.47237397\n",
            "  0.89057367 1.03580697 0.24578157 0.88216895 1.07162604 0.19893117\n",
            "  0.44784161 0.47664533 0.35855081 0.91937655 0.21139411 0.10272313\n",
            "  0.8663237  0.         0.37938342 0.86969415]\n",
            " [0.51353613 0.41220475 0.40300093 0.42129281 0.50733043 0.37112973\n",
            "  0.26827775 0.39639962 0.179507   0.38673547 0.21498892 0.1498404\n",
            "  0.43270074 0.22438402 0.41970429 0.20351889 0.20321418 0.57072386\n",
            "  0.34111714 0.36496303 0.54920276 0.61683335 0.45847047 0.2415779\n",
            "  0.17680657 0.31610595 0.62988327 0.36121584 0.60073734 0.67989821\n",
            "  0.44052728 0.29749908 0.09369991 0.49700661 0.41155094 0.52688913\n",
            "  0.22375333 0.2937409  0.19801764 0.51030583 0.24005831 0.41215611\n",
            "  0.43536413 0.58319257 0.39036537 0.18300033 0.42444246 0.63524101\n",
            "  0.43976252 0.27149863 0.28496624 0.44990936 0.54114682 0.29442777\n",
            "  0.58492644 0.52531954 0.56668163 0.54506587 0.34187788 0.68581479\n",
            "  0.16384862 0.15099531 0.42252477 0.52223164 0.39913969 0.08264939\n",
            "  0.34058841 0.42900046 0.37788187 0.51718754 0.43969279 0.52856105\n",
            "  0.48796276 0.54131225 0.26584503 0.40848566 0.46978553 0.48546829\n",
            "  0.4834358  0.32637116 0.26222856 0.50528637 0.61720459 0.33625675\n",
            "  0.52803348 0.6596668  0.20827294 0.52361219 0.69893986 0.34396585\n",
            "  0.25561195 0.38527104 0.40197788 0.54539601 0.22542706 0.27851789\n",
            "  0.50304715 0.37938342 0.         0.58671026]\n",
            " [0.40645592 0.98703653 0.90860136 0.17468223 0.86676331 0.24271471\n",
            "  0.83922824 0.63888767 0.6737307  0.26280617 0.45287605 0.73653152\n",
            "  0.16856302 0.40591297 0.99877593 0.65970774 0.68908113 1.12221862\n",
            "  0.88377423 0.25458452 1.129967   0.67733375 0.14170589 0.77180058\n",
            "  0.65948669 0.54241495 1.19513274 0.74217965 0.2439543  0.74672727\n",
            "  1.0196676  0.88065279 0.49738025 0.80894246 0.90354121 0.06306357\n",
            "  0.80511206 0.32961828 0.78405536 0.85092614 0.82373709 0.9213372\n",
            "  0.69966655 0.4784745  0.86335531 0.72716836 0.84321096 0.62998131\n",
            "  0.23796309 0.55687835 0.57845492 0.16545051 0.81389168 0.7734776\n",
            "  0.15024474 1.10075316 1.13581749 0.30270126 0.54936781 0.68198691\n",
            "  0.72085964 0.58480911 0.9612166  0.08623898 0.50507614 0.66932105\n",
            "  0.80683243 0.69434177 0.37047496 0.19122006 0.71886642 1.09864123\n",
            "  0.67131423 0.90360103 0.70664624 0.52212849 0.84168576 0.14039134\n",
            "  0.1746961  0.70256392 0.78329735 0.86367572 0.06617667 0.420372\n",
            "  0.29892889 0.64828217 0.78872627 0.27520795 0.70960544 0.70849943\n",
            "  0.42252394 0.44904644 0.60337229 0.61384844 0.65843711 0.79620779\n",
            "  0.30045357 0.86969415 0.58671026 0.        ]]\n"
          ]
        }
      ],
      "source": [
        "k = np.random.random((100,2))\n",
        "i,j = np.atleast_2d(k[:,0],k[:,1])\n",
        "D = np.sqrt((i-i.T)**2 +(j-j.T)**2)\n",
        "print(D)"
      ]
    },
    {
      "cell_type": "markdown",
      "metadata": {
        "id": "xUqTeig55fT9"
      },
      "source": [
        "#### 53. How to convert a float (32 bits) array into an integer (32 bits) in place? \n",
        "(**hint**: astype(copy=False))"
      ]
    },
    {
      "cell_type": "code",
      "execution_count": null,
      "metadata": {
        "id": "llG4cnWL5fT9",
        "colab": {
          "base_uri": "https://localhost:8080/"
        },
        "outputId": "956cef70-ea65-4e1b-b307-1a640b17f47c"
      },
      "outputs": [
        {
          "output_type": "stream",
          "name": "stdout",
          "text": [
            "[17 44 49 83  7 21 62 60 51 43]\n"
          ]
        }
      ],
      "source": [
        "k = (np.random.rand(10)*100).astype(np.float32)\n",
        "j = k.view(np.int32)\n",
        "j[:]=k\n",
        "print(j)"
      ]
    },
    {
      "cell_type": "markdown",
      "metadata": {
        "id": "oA8RvYNC5fT-"
      },
      "source": [
        "#### 54. How to read the following file? (★★☆) \n",
        "(**hint**: np.genfromtxt)"
      ]
    },
    {
      "cell_type": "markdown",
      "metadata": {
        "id": "ewegesuz5fT-"
      },
      "source": [
        "```\n",
        "1, 2, 3, 4, 5\n",
        "6,  ,  , 7, 8\n",
        " ,  , 9,10,11\n",
        "```"
      ]
    },
    {
      "cell_type": "code",
      "execution_count": null,
      "metadata": {
        "id": "fOUEsoSM5fT-",
        "colab": {
          "base_uri": "https://localhost:8080/"
        },
        "outputId": "ffddf1c3-dc96-45dd-91c4-206ac8d732b1"
      },
      "outputs": [
        {
          "output_type": "stream",
          "name": "stdout",
          "text": [
            "[[ 1  2  3  4  5]\n",
            " [ 6 -1 -1  7  8]\n",
            " [-1 -1  9 10 11]]\n"
          ]
        },
        {
          "output_type": "stream",
          "name": "stderr",
          "text": [
            "/usr/local/lib/python3.7/dist-packages/ipykernel_launcher.py:5: DeprecationWarning: `np.int` is a deprecated alias for the builtin `int`. To silence this warning, use `int` by itself. Doing this will not modify any behavior and is safe. When replacing `np.int`, you may wish to use e.g. `np.int64` or `np.int32` to specify the precision. If you wish to review your current use, check the release note link for additional information.\n",
            "Deprecated in NumPy 1.20; for more details and guidance: https://numpy.org/devdocs/release/1.20.0-notes.html#deprecations\n",
            "  \"\"\"\n"
          ]
        }
      ],
      "source": [
        "from io import StringIO\n",
        "s = StringIO('''1, 2, 3, 4, 5\n",
        "6,  ,  , 7, 8\n",
        " ,  , 9,10,11''')\n",
        "k = np.genfromtxt(s,delimiter=\",\",dtype=np.int)\n",
        "print(k)"
      ]
    },
    {
      "cell_type": "markdown",
      "metadata": {
        "id": "zC8yDQn65fT-"
      },
      "source": [
        "#### 55. What is the equivalent of enumerate for numpy arrays? (★★☆) \n",
        "(**hint**: np.ndenumerate, np.ndindex)"
      ]
    },
    {
      "cell_type": "code",
      "execution_count": null,
      "metadata": {
        "id": "fmcxba7-5fT_",
        "colab": {
          "base_uri": "https://localhost:8080/"
        },
        "outputId": "c2ebcc76-2606-4c87-cb8f-ff87454bdb55"
      },
      "outputs": [
        {
          "output_type": "stream",
          "name": "stdout",
          "text": [
            "(0, 0) 0\n",
            "(0, 1) 1\n",
            "(0, 2) 2\n",
            "(1, 0) 3\n",
            "(1, 1) 4\n",
            "(1, 2) 5\n",
            "(2, 0) 6\n",
            "(2, 1) 7\n",
            "(2, 2) 8\n",
            "(0, 0) 0\n",
            "(0, 1) 1\n",
            "(0, 2) 2\n",
            "(1, 0) 3\n",
            "(1, 1) 4\n",
            "(1, 2) 5\n",
            "(2, 0) 6\n",
            "(2, 1) 7\n",
            "(2, 2) 8\n"
          ]
        }
      ],
      "source": [
        "k=np.arange(9).reshape(3,3)\n",
        "for index,value in np.ndenumerate(k):\n",
        "  print(index,value)\n",
        "for index in np.ndindex(k.shape):\n",
        "  print(index,k[index])"
      ]
    },
    {
      "cell_type": "markdown",
      "metadata": {
        "id": "0higFXJ55fT_"
      },
      "source": [
        "#### 56. Generate a generic 2D Gaussian-like array (★★☆) \n",
        "(**hint**: np.meshgrid, np.exp)"
      ]
    },
    {
      "cell_type": "code",
      "execution_count": null,
      "metadata": {
        "id": "5B_YV7LR5fUA",
        "colab": {
          "base_uri": "https://localhost:8080/"
        },
        "outputId": "cbd6ae7f-c525-4b9d-a06b-1cfb630a88cc"
      },
      "outputs": [
        {
          "output_type": "stream",
          "name": "stdout",
          "text": [
            "[[0.36787944 0.44822088 0.51979489 0.57375342 0.60279818 0.60279818\n",
            "  0.57375342 0.51979489 0.44822088 0.36787944]\n",
            " [0.44822088 0.54610814 0.63331324 0.69905581 0.73444367 0.73444367\n",
            "  0.69905581 0.63331324 0.54610814 0.44822088]\n",
            " [0.51979489 0.63331324 0.73444367 0.81068432 0.85172308 0.85172308\n",
            "  0.81068432 0.73444367 0.63331324 0.51979489]\n",
            " [0.57375342 0.69905581 0.81068432 0.89483932 0.9401382  0.9401382\n",
            "  0.89483932 0.81068432 0.69905581 0.57375342]\n",
            " [0.60279818 0.73444367 0.85172308 0.9401382  0.98773022 0.98773022\n",
            "  0.9401382  0.85172308 0.73444367 0.60279818]\n",
            " [0.60279818 0.73444367 0.85172308 0.9401382  0.98773022 0.98773022\n",
            "  0.9401382  0.85172308 0.73444367 0.60279818]\n",
            " [0.57375342 0.69905581 0.81068432 0.89483932 0.9401382  0.9401382\n",
            "  0.89483932 0.81068432 0.69905581 0.57375342]\n",
            " [0.51979489 0.63331324 0.73444367 0.81068432 0.85172308 0.85172308\n",
            "  0.81068432 0.73444367 0.63331324 0.51979489]\n",
            " [0.44822088 0.54610814 0.63331324 0.69905581 0.73444367 0.73444367\n",
            "  0.69905581 0.63331324 0.54610814 0.44822088]\n",
            " [0.36787944 0.44822088 0.51979489 0.57375342 0.60279818 0.60279818\n",
            "  0.57375342 0.51979489 0.44822088 0.36787944]]\n"
          ]
        }
      ],
      "source": [
        "i,j = np.meshgrid(np.linspace(-1,1,10),np.linspace(-1,1,10))\n",
        "D= np.sqrt(i*i+j*j)\n",
        "sigma,mu = 1.0,0.0\n",
        "G = np.exp(-(D-mu)**2 / (2.0 * sigma**2))\n",
        "print(G)\n"
      ]
    },
    {
      "cell_type": "markdown",
      "metadata": {
        "id": "0CP00Ldh5fUA"
      },
      "source": [
        "#### 57. How to randomly place p elements in a 2D array? (★★☆) \n",
        "(**hint**: np.put, np.random.choice)"
      ]
    },
    {
      "cell_type": "code",
      "execution_count": null,
      "metadata": {
        "id": "ndcHd-2q5fUB",
        "colab": {
          "base_uri": "https://localhost:8080/"
        },
        "outputId": "e2ff3a7c-2ea4-449c-e71c-2529417a4684"
      },
      "outputs": [
        {
          "output_type": "stream",
          "name": "stdout",
          "text": [
            "[[0. 0. 0. 0. 0. 0. 0. 0. 0. 0.]\n",
            " [0. 0. 0. 0. 0. 0. 0. 0. 0. 0.]\n",
            " [0. 0. 0. 0. 0. 0. 0. 0. 0. 0.]\n",
            " [0. 0. 0. 0. 0. 0. 0. 0. 0. 0.]\n",
            " [0. 0. 0. 0. 0. 0. 0. 0. 0. 0.]\n",
            " [0. 0. 0. 0. 0. 0. 0. 0. 0. 0.]\n",
            " [1. 0. 0. 0. 0. 0. 0. 0. 0. 0.]\n",
            " [0. 0. 0. 0. 0. 0. 0. 0. 0. 0.]\n",
            " [1. 0. 0. 0. 0. 0. 0. 0. 0. 0.]\n",
            " [0. 0. 0. 1. 0. 0. 0. 0. 0. 0.]]\n"
          ]
        }
      ],
      "source": [
        "n = 10\n",
        "p = 3\n",
        "k = np.zeros((n,n))\n",
        "np.put(k,np.random.choice(range(n*n),p,replace=False),1)\n",
        "print(k)"
      ]
    },
    {
      "cell_type": "markdown",
      "metadata": {
        "id": "Wqywjr0F5fUB"
      },
      "source": [
        "#### 58. Subtract the mean of each row of a matrix (★★☆) \n",
        "(**hint**: mean(axis=,keepdims=))"
      ]
    },
    {
      "cell_type": "code",
      "execution_count": null,
      "metadata": {
        "id": "LD1UZ9eZ5fUC",
        "colab": {
          "base_uri": "https://localhost:8080/"
        },
        "outputId": "25caf770-ffe4-40eb-f7de-5a31868cfb3b"
      },
      "outputs": [
        {
          "output_type": "stream",
          "name": "stdout",
          "text": [
            "[[-0.12917706 -0.31856001  0.14175905  0.01658887  0.27746774 -0.35372328\n",
            "   0.03379844  0.20278352  0.09100357  0.03805917]\n",
            " [-0.07349623  0.05589738 -0.0081548   0.06566038  0.24624687 -0.55193904\n",
            "   0.29709251 -0.19794074 -0.02362637  0.19026004]\n",
            " [-0.34394524 -0.08214933 -0.37103885 -0.01314475  0.34648561 -0.32456097\n",
            "   0.54947351  0.11421249 -0.27724998  0.40191751]\n",
            " [ 0.0021191   0.24632173  0.42873497 -0.43476599 -0.31465801  0.29025426\n",
            "   0.27692402 -0.21652492 -0.17965465 -0.09875052]\n",
            " [-0.26186531 -0.22478935  0.42775964  0.04143313 -0.25303944 -0.29399149\n",
            "   0.27723303  0.14510929 -0.16039788  0.30254838]]\n"
          ]
        }
      ],
      "source": [
        "i = np.random.rand(5,10)\n",
        "j=i-i.mean(axis=1,keepdims=True)\n",
        "print(j)"
      ]
    },
    {
      "cell_type": "markdown",
      "metadata": {
        "id": "nJJcDi4r5fUD"
      },
      "source": [
        "#### 59. How to sort an array by the nth column? (★★☆) \n",
        "(**hint**: argsort)"
      ]
    },
    {
      "cell_type": "code",
      "execution_count": null,
      "metadata": {
        "id": "NVYUCOja5fUD",
        "colab": {
          "base_uri": "https://localhost:8080/"
        },
        "outputId": "e61e10ee-0bd7-4b93-b124-6b6b20404036"
      },
      "outputs": [
        {
          "output_type": "stream",
          "name": "stdout",
          "text": [
            "[[1 3 2]\n",
            " [7 3 0]\n",
            " [8 4 3]]\n",
            "[[1 3 2]\n",
            " [7 3 0]\n",
            " [8 4 3]]\n"
          ]
        }
      ],
      "source": [
        "k = np.random.randint(0,10,(3,3))\n",
        "print(k)\n",
        "print(k[k[:,1].argsort()])"
      ]
    },
    {
      "cell_type": "markdown",
      "metadata": {
        "id": "3qFNfNFY5fUE"
      },
      "source": [
        "#### 60. How to tell if a given 2D array has null columns? (★★☆) \n",
        "(**hint**: any, ~)"
      ]
    },
    {
      "cell_type": "code",
      "execution_count": null,
      "metadata": {
        "id": "mkKhkH0o5fUF",
        "colab": {
          "base_uri": "https://localhost:8080/"
        },
        "outputId": "e9690de7-ec6a-4e8a-9c64-405f16d7cdf4"
      },
      "outputs": [
        {
          "output_type": "stream",
          "name": "stdout",
          "text": [
            "False\n"
          ]
        }
      ],
      "source": [
        "k=np.random.randint(0,3,(3,10))\n",
        "print((~k.any(axis=0)).any())"
      ]
    },
    {
      "cell_type": "markdown",
      "metadata": {
        "id": "9qmiwlxa5fUG"
      },
      "source": [
        "#### 61. Find the nearest value from a given value in an array (★★☆) \n",
        "(**hint**: np.abs, argmin, flat)"
      ]
    },
    {
      "cell_type": "code",
      "execution_count": null,
      "metadata": {
        "id": "zs7YdVW35fUH",
        "colab": {
          "base_uri": "https://localhost:8080/"
        },
        "outputId": "6eb6faa8-e22e-4fbe-f9a0-4aeae35d3139"
      },
      "outputs": [
        {
          "output_type": "stream",
          "name": "stdout",
          "text": [
            "0.593539934634797\n"
          ]
        }
      ],
      "source": [
        "k = np.random.uniform(0,1,10)\n",
        "K = 0.5\n",
        "m = k.flat[np.abs(k-K).argmin()]\n",
        "print(m)"
      ]
    },
    {
      "cell_type": "markdown",
      "metadata": {
        "id": "e9BVJoG35fUI"
      },
      "source": [
        "#### 62. Considering two arrays with shape (1,3) and (3,1), how to compute their sum using an iterator? (★★☆) \n",
        "(**hint**: np.nditer)"
      ]
    },
    {
      "cell_type": "code",
      "execution_count": null,
      "metadata": {
        "id": "U0k3QIQc5fUI",
        "colab": {
          "base_uri": "https://localhost:8080/"
        },
        "outputId": "5338098a-a8e8-4e40-c19b-2e5af47cc6b3"
      },
      "outputs": [
        {
          "output_type": "stream",
          "name": "stdout",
          "text": [
            "[[0 1 2]\n",
            " [1 2 3]\n",
            " [2 3 4]]\n"
          ]
        }
      ],
      "source": [
        "A = np.arange(3).reshape(3,1)\n",
        "B = np.arange(3).reshape(1,3)\n",
        "it = np.nditer([A,B,None])\n",
        "for x,y,z in it:z[...] = x+y\n",
        "print(it.operands[2])"
      ]
    },
    {
      "cell_type": "markdown",
      "metadata": {
        "id": "ykCGnDKj5fUJ"
      },
      "source": [
        "#### 63. Create an array class that has a name attribute (★★☆) \n",
        "(**hint**: class method)"
      ]
    },
    {
      "cell_type": "code",
      "execution_count": null,
      "metadata": {
        "id": "nrlPfsi25fUK",
        "colab": {
          "base_uri": "https://localhost:8080/"
        },
        "outputId": "7bfb9e3d-5b9a-4df9-b3c6-7377bd9182ca"
      },
      "outputs": [
        {
          "output_type": "stream",
          "name": "stdout",
          "text": [
            "range-10\n"
          ]
        }
      ],
      "source": [
        "class NameArray(np.ndarray):\n",
        "  def __new__(cls,array,name=\"no name\"):\n",
        "    obj= np.asarray(array).view(cls)\n",
        "    obj.name = name\n",
        "    return obj\n",
        "  def __array__finalize__(self,obj):\n",
        "    if obj is None: return\n",
        "    self.info = getattr(obj,'name','no name')\n",
        "k=NameArray(np.arange(10),\"range-10\")\n",
        "print(k.name)"
      ]
    },
    {
      "cell_type": "markdown",
      "metadata": {
        "id": "krgUDqfW5fUK"
      },
      "source": [
        "#### 64. Consider a given vector, how to add 1 to each element indexed by a second vector (be careful with repeated indices)? (★★★) \n",
        "(**hint**: np.bincount | np.add.at)"
      ]
    },
    {
      "cell_type": "code",
      "execution_count": null,
      "metadata": {
        "id": "LrXarVeg5fUL",
        "colab": {
          "base_uri": "https://localhost:8080/"
        },
        "outputId": "9ad83542-3de2-4b15-cc83-8e7f846b03c3"
      },
      "outputs": [
        {
          "output_type": "stream",
          "name": "stdout",
          "text": [
            "[3. 3. 5. 2. 2. 3. 1. 4. 3. 4.]\n"
          ]
        }
      ],
      "source": [
        "k = np.ones(10)\n",
        "i = np.random.randint(0,len(k),20)\n",
        "k += np.bincount(i,minlength=len(k))\n",
        "print(k)"
      ]
    },
    {
      "cell_type": "markdown",
      "metadata": {
        "id": "qhqiJlu85fUM"
      },
      "source": [
        "#### 65. How to accumulate elements of a vector (X) to an array (F) based on an index list (I)? (★★★) \n",
        "(**hint**: np.bincount)"
      ]
    },
    {
      "cell_type": "code",
      "execution_count": null,
      "metadata": {
        "id": "xw4U99XD5fUM",
        "colab": {
          "base_uri": "https://localhost:8080/"
        },
        "outputId": "5cd45dd5-c3a6-43dc-952c-06a27352c5ab"
      },
      "outputs": [
        {
          "output_type": "stream",
          "name": "stdout",
          "text": [
            "[0. 7. 0. 6. 5. 0. 0. 0. 0. 3.]\n"
          ]
        }
      ],
      "source": [
        "x = [1,2,3,4,5,6]\n",
        "i = [1,3,9,3,4,1]\n",
        "f = np.bincount(i,x)\n",
        "print(f)"
      ]
    },
    {
      "cell_type": "markdown",
      "metadata": {
        "id": "IWtdO_VR5fUN"
      },
      "source": [
        "#### 66. Considering a (w,h,3) image of (dtype=ubyte), compute the number of unique colors (★★★) \n",
        "(**hint**: np.unique)"
      ]
    },
    {
      "cell_type": "code",
      "execution_count": null,
      "metadata": {
        "id": "XvUDvXxu5fUN",
        "colab": {
          "base_uri": "https://localhost:8080/"
        },
        "outputId": "60765c51-85e6-49e3-f535-98d5c212113b"
      },
      "outputs": [
        {
          "output_type": "stream",
          "name": "stdout",
          "text": [
            "64\n"
          ]
        }
      ],
      "source": [
        "w,h = 256,256\n",
        "i = np.random.randint(0,4,(h,w,3)).astype(np.ubyte)\n",
        "colors = np.unique(i.reshape(-1,3),axis=0)\n",
        "n=len(colors)\n",
        "print(n)"
      ]
    },
    {
      "cell_type": "markdown",
      "metadata": {
        "id": "ybxIAXRA5fUO"
      },
      "source": [
        "#### 67. Considering a four dimensions array, how to get sum over the last two axis at once? (★★★) \n",
        "(**hint**: sum(axis=(-2,-1)))"
      ]
    },
    {
      "cell_type": "code",
      "execution_count": null,
      "metadata": {
        "id": "zNHZvVKy5fUO",
        "colab": {
          "base_uri": "https://localhost:8080/"
        },
        "outputId": "d6974102-30b3-4112-bd52-2ff573f2c3e0"
      },
      "outputs": [
        {
          "output_type": "stream",
          "name": "stdout",
          "text": [
            "[[55 63 46 43]\n",
            " [47 62 50 74]\n",
            " [45 65 49 45]]\n"
          ]
        }
      ],
      "source": [
        "A = np.random.randint(0,10,(3,4,3,4))\n",
        "sum = A.sum(axis=(-2,-1))\n",
        "print(sum)\n"
      ]
    },
    {
      "cell_type": "code",
      "source": [
        "sum = A.reshape(A.shape[:-2]+(-1,)).sum(axis=-1)\n",
        "print(sum)"
      ],
      "metadata": {
        "colab": {
          "base_uri": "https://localhost:8080/"
        },
        "id": "KNpgCUm9GM9v",
        "outputId": "2457ff44-346b-4719-9315-bf88514542dc"
      },
      "execution_count": null,
      "outputs": [
        {
          "output_type": "stream",
          "name": "stdout",
          "text": [
            "[[55 63 46 43]\n",
            " [47 62 50 74]\n",
            " [45 65 49 45]]\n"
          ]
        }
      ]
    },
    {
      "cell_type": "markdown",
      "metadata": {
        "id": "0daAcEr-5fUP"
      },
      "source": [
        "#### 68. Considering a one-dimensional vector D, how to compute means of subsets of D using a vector S of same size describing subset  indices? (★★★) \n",
        "(**hint**: np.bincount)"
      ]
    },
    {
      "cell_type": "code",
      "execution_count": null,
      "metadata": {
        "id": "0ro2qhVO5fUP",
        "colab": {
          "base_uri": "https://localhost:8080/"
        },
        "outputId": "e1017a2d-6ff7-455f-f8fc-f88b25c55122"
      },
      "outputs": [
        {
          "output_type": "stream",
          "name": "stdout",
          "text": [
            "[0.49836727 0.43740399 0.37848953 0.32336009 0.49472354 0.43197486\n",
            " 0.56073811 0.4396736  0.46573002 0.42575324]\n"
          ]
        }
      ],
      "source": [
        "D = np.random.uniform(0,1,100)\n",
        "S = np.random.randint(0,10,100)\n",
        "D_sums = np.bincount(S,weights=D)\n",
        "D_counts = np.bincount(S)\n",
        "D_means = D_sums / D_counts\n",
        "print(D_means)"
      ]
    },
    {
      "cell_type": "markdown",
      "metadata": {
        "id": "Bst4fcSG5fUQ"
      },
      "source": [
        "#### 69. How to get the diagonal of a dot product? (★★★) \n",
        "(**hint**: np.diag)"
      ]
    },
    {
      "cell_type": "code",
      "execution_count": null,
      "metadata": {
        "id": "5RAzyIQa5fUQ",
        "colab": {
          "base_uri": "https://localhost:8080/"
        },
        "outputId": "7f1e03d1-81b2-4213-acbb-17d71e3f2e9a"
      },
      "outputs": [
        {
          "output_type": "execute_result",
          "data": {
            "text/plain": [
              "array([1.57256962, 0.34113312, 1.12702207, 1.01287777, 1.57967851])"
            ]
          },
          "metadata": {},
          "execution_count": 73
        }
      ],
      "source": [
        "A = np.random.uniform(0,1,(5,5))\n",
        "B = np.random.uniform(0,1,(5,5))\n",
        "np.diag(np.dot(A,B))"
      ]
    },
    {
      "cell_type": "markdown",
      "metadata": {
        "id": "HTlbRp725fUR"
      },
      "source": [
        "#### 70. Consider the vector \\[1, 2, 3, 4, 5\\], how to build a new vector with 3 consecutive zeros interleaved between each value? (★★★) \n",
        "(**hint**: array\\[::4\\])"
      ]
    },
    {
      "cell_type": "code",
      "execution_count": null,
      "metadata": {
        "id": "mKWgct5y5fUV",
        "colab": {
          "base_uri": "https://localhost:8080/"
        },
        "outputId": "e3c341af-ef86-4a44-e5cd-dd3c01d42558"
      },
      "outputs": [
        {
          "output_type": "stream",
          "name": "stdout",
          "text": [
            "[1. 0. 0. 0. 2. 0. 0. 0. 3. 0. 0. 0. 4. 0. 0. 0. 5.]\n"
          ]
        }
      ],
      "source": [
        "k = np.array([1,2,3,4,5])\n",
        "nz = 3\n",
        "k0 = np.zeros(len(k) + (len(k)-1)*(nz))\n",
        "k0[::nz+1] = k\n",
        "print(k0)"
      ]
    },
    {
      "cell_type": "markdown",
      "metadata": {
        "id": "KV-ynDkr5fUV"
      },
      "source": [
        "#### 71. Consider an array of dimension (5,5,3), how to mulitply it by an array with dimensions (5,5)? (★★★) \n",
        "(**hint**: array\\[:, :, None\\])"
      ]
    },
    {
      "cell_type": "code",
      "execution_count": null,
      "metadata": {
        "collapsed": true,
        "id": "ckX8uk495fUY",
        "colab": {
          "base_uri": "https://localhost:8080/"
        },
        "outputId": "99420355-45f3-4af7-d5ed-0271f4a6be7b"
      },
      "outputs": [
        {
          "output_type": "stream",
          "name": "stdout",
          "text": [
            "[[[2. 2. 2.]\n",
            "  [2. 2. 2.]\n",
            "  [2. 2. 2.]\n",
            "  [2. 2. 2.]\n",
            "  [2. 2. 2.]]\n",
            "\n",
            " [[2. 2. 2.]\n",
            "  [2. 2. 2.]\n",
            "  [2. 2. 2.]\n",
            "  [2. 2. 2.]\n",
            "  [2. 2. 2.]]\n",
            "\n",
            " [[2. 2. 2.]\n",
            "  [2. 2. 2.]\n",
            "  [2. 2. 2.]\n",
            "  [2. 2. 2.]\n",
            "  [2. 2. 2.]]\n",
            "\n",
            " [[2. 2. 2.]\n",
            "  [2. 2. 2.]\n",
            "  [2. 2. 2.]\n",
            "  [2. 2. 2.]\n",
            "  [2. 2. 2.]]\n",
            "\n",
            " [[2. 2. 2.]\n",
            "  [2. 2. 2.]\n",
            "  [2. 2. 2.]\n",
            "  [2. 2. 2.]\n",
            "  [2. 2. 2.]]]\n"
          ]
        }
      ],
      "source": [
        "A = np.ones((5,5,3))\n",
        "B = 2*np.ones((5,5))\n",
        "print(A*B[:,:,None])"
      ]
    },
    {
      "cell_type": "markdown",
      "metadata": {
        "id": "Tt9d0RKu5fUZ"
      },
      "source": [
        "#### 72. How to swap two rows of an array? (★★★) \n",
        "(**hint**: array\\[\\[\\]\\] = array\\[\\[\\]\\])"
      ]
    },
    {
      "cell_type": "code",
      "execution_count": null,
      "metadata": {
        "id": "Tb-RFLY35fUb",
        "colab": {
          "base_uri": "https://localhost:8080/"
        },
        "outputId": "9da9b242-b9d5-4a59-8996-58e6481f6f68"
      },
      "outputs": [
        {
          "output_type": "stream",
          "name": "stdout",
          "text": [
            "[[ 5  6  7  8  9]\n",
            " [ 0  1  2  3  4]\n",
            " [10 11 12 13 14]\n",
            " [15 16 17 18 19]\n",
            " [20 21 22 23 24]]\n"
          ]
        }
      ],
      "source": [
        "A = np.arange(25).reshape(5,5)\n",
        "A[[0,1]] = A[[1,0]]\n",
        "print(A)"
      ]
    },
    {
      "cell_type": "markdown",
      "metadata": {
        "id": "ScqVnxSY5fUb"
      },
      "source": [
        "#### 73. Consider a set of 10 triplets describing 10 triangles (with shared vertices), find the set of unique line segments composing all the  triangles (★★★) \n",
        "(**hint**: repeat, np.roll, np.sort, view, np.unique)"
      ]
    },
    {
      "cell_type": "code",
      "execution_count": null,
      "metadata": {
        "id": "ofVr1sm_5fUd",
        "colab": {
          "base_uri": "https://localhost:8080/"
        },
        "outputId": "db175254-3de9-4610-cd2c-f0919b71acdb"
      },
      "outputs": [
        {
          "output_type": "stream",
          "name": "stdout",
          "text": [
            "[( 3,  7) ( 3, 19) ( 3, 23) ( 3, 29) ( 3, 50) ( 3, 79) ( 7, 50) (19, 29)\n",
            " (23, 79) (27, 31) (27, 99) (30, 33) (30, 91) (31, 99) (33, 91) (40, 61)\n",
            " (40, 94) (41, 51) (41, 84) (47, 55) (47, 68) (51, 84) (55, 68) (61, 94)\n",
            " (64, 77) (64, 97) (70, 73) (70, 91) (73, 91) (77, 97)]\n"
          ]
        }
      ],
      "source": [
        "faces = np.random.randint(0,100,(10,3))\n",
        "k = np.roll(faces.repeat(2,axis=1),-1,axis=1)\n",
        "k = k.reshape(len(k)*3,2)\n",
        "k = np.sort(k,axis=1)\n",
        "j = k.view(dtype=[('p0',k.dtype),('p1',k.dtype)])\n",
        "j = np.unique(j)\n",
        "print(j)"
      ]
    },
    {
      "cell_type": "markdown",
      "metadata": {
        "id": "bLNjC6Es5fUe"
      },
      "source": [
        "#### 74. Given an array C that is a bincount, how to produce an array A such that np.bincount(A) == C? (★★★) \n",
        "(**hint**: np.repeat)"
      ]
    },
    {
      "cell_type": "code",
      "execution_count": null,
      "metadata": {
        "id": "yHz5I95i5fUf",
        "colab": {
          "base_uri": "https://localhost:8080/"
        },
        "outputId": "86ec4d5c-6e0b-49e7-f426-58e99f942827"
      },
      "outputs": [
        {
          "output_type": "stream",
          "name": "stdout",
          "text": [
            "[1 1 2 3 4 4 5 6]\n"
          ]
        }
      ],
      "source": [
        "C = np.bincount([1,1,2,3,4,4,5,6,])\n",
        "A = np.repeat(np.arange(len(C)),C)\n",
        "print(A)"
      ]
    },
    {
      "cell_type": "markdown",
      "metadata": {
        "id": "0b1kfK-85fUg"
      },
      "source": [
        "#### 75. How to compute averages using a sliding window over an array? (★★★) \n",
        "(**hint**: np.cumsum)"
      ]
    },
    {
      "cell_type": "code",
      "execution_count": null,
      "metadata": {
        "id": "aOveC1zw5fUg",
        "colab": {
          "base_uri": "https://localhost:8080/"
        },
        "outputId": "a6716921-0b08-4518-8f89-dc74c902ed53"
      },
      "outputs": [
        {
          "output_type": "stream",
          "name": "stdout",
          "text": [
            "[ 1.  2.  3.  4.  5.  6.  7.  8.  9. 10. 11. 12. 13. 14. 15. 16. 17. 18.]\n"
          ]
        }
      ],
      "source": [
        "def moving_average(a,n=3):\n",
        "  ret = np.cumsum(a,dtype=float)\n",
        "  ret[n:] = ret[n:] - ret[:-n]\n",
        "  return ret[n -1:] / n\n",
        "k = np.arange(20)\n",
        "print(moving_average(k, n=3))"
      ]
    },
    {
      "cell_type": "markdown",
      "metadata": {
        "id": "AlCQnXLQ5fUh"
      },
      "source": [
        "#### 76. Consider a one-dimensional array Z, build a two-dimensional array whose first row is (Z\\[0\\],Z\\[1\\],Z\\[2\\]) and each subsequent row is  shifted by 1 (last row should be (Z\\[-3\\],Z\\[-2\\],Z\\[-1\\]) (★★★) \n",
        "(**hint**: from numpy.lib import stride_tricks)"
      ]
    },
    {
      "cell_type": "code",
      "execution_count": null,
      "metadata": {
        "id": "CC8369315fUk",
        "colab": {
          "base_uri": "https://localhost:8080/"
        },
        "outputId": "9014798d-73bd-47fd-c9b3-8f7e6016c976"
      },
      "outputs": [
        {
          "output_type": "stream",
          "name": "stdout",
          "text": [
            "[[0 1 2]\n",
            " [1 2 3]\n",
            " [2 3 4]\n",
            " [3 4 5]\n",
            " [4 5 6]\n",
            " [5 6 7]\n",
            " [6 7 8]\n",
            " [7 8 9]]\n"
          ]
        }
      ],
      "source": [
        "from numpy.lib import stride_tricks\n",
        "\n",
        "def rolling(a,window):\n",
        "  shape = (a.size - window +1,window)\n",
        "  strides = (a.strides[0], a.strides[0])\n",
        "  return stride_tricks.as_strided(a,shape=shape,strides=strides)\n",
        "k=rolling(np.arange(10),3)\n",
        "print(k)"
      ]
    },
    {
      "cell_type": "markdown",
      "metadata": {
        "id": "u2HyKYR65fUk"
      },
      "source": [
        "#### 77. How to negate a boolean, or to change the sign of a float inplace? (★★★) \n",
        "(**hint**: np.logical_not, np.negative)"
      ]
    },
    {
      "cell_type": "code",
      "execution_count": null,
      "metadata": {
        "id": "Vnkp08GT5fUl",
        "colab": {
          "base_uri": "https://localhost:8080/"
        },
        "outputId": "89da5cca-1abb-43f6-9ca7-4c966321cc80"
      },
      "outputs": [
        {
          "output_type": "execute_result",
          "data": {
            "text/plain": [
              "array([0, 1, 0, 1, 1, 0, 1, 0, 0, 0, 0, 1, 1, 1, 0, 0, 0, 0, 0, 0, 0, 1,\n",
              "       1, 1, 0, 0, 0, 0, 0, 1, 1, 0, 1, 0, 0, 1, 0, 1, 0, 0, 0, 0, 1, 0,\n",
              "       0, 0, 0, 1, 0, 1, 1, 0, 0, 0, 1, 1, 1, 1, 0, 1, 0, 1, 1, 1, 1, 0,\n",
              "       0, 0, 1, 0, 1, 1, 0, 1, 0, 1, 0, 0, 1, 1, 1, 0, 0, 0, 1, 1, 1, 1,\n",
              "       1, 0, 1, 1, 0, 1, 0, 1, 1, 0, 1, 0])"
            ]
          },
          "metadata": {},
          "execution_count": 84
        }
      ],
      "source": [
        "k = np.random.randint(0,2,100)\n",
        "np.logical_not(k,out=k)"
      ]
    },
    {
      "cell_type": "code",
      "source": [
        "k = np.random.uniform(-1.0,-1.0,100)\n",
        "np.logical_not(k,out=k)"
      ],
      "metadata": {
        "colab": {
          "base_uri": "https://localhost:8080/"
        },
        "id": "l8OiisX_L77I",
        "outputId": "f5fc9ecc-b5a3-4d4f-9e0b-62c45ceba4e9"
      },
      "execution_count": null,
      "outputs": [
        {
          "output_type": "execute_result",
          "data": {
            "text/plain": [
              "array([0., 0., 0., 0., 0., 0., 0., 0., 0., 0., 0., 0., 0., 0., 0., 0., 0.,\n",
              "       0., 0., 0., 0., 0., 0., 0., 0., 0., 0., 0., 0., 0., 0., 0., 0., 0.,\n",
              "       0., 0., 0., 0., 0., 0., 0., 0., 0., 0., 0., 0., 0., 0., 0., 0., 0.,\n",
              "       0., 0., 0., 0., 0., 0., 0., 0., 0., 0., 0., 0., 0., 0., 0., 0., 0.,\n",
              "       0., 0., 0., 0., 0., 0., 0., 0., 0., 0., 0., 0., 0., 0., 0., 0., 0.,\n",
              "       0., 0., 0., 0., 0., 0., 0., 0., 0., 0., 0., 0., 0., 0., 0.])"
            ]
          },
          "metadata": {},
          "execution_count": 87
        }
      ]
    },
    {
      "cell_type": "markdown",
      "metadata": {
        "id": "pqn89Do25fUm"
      },
      "source": [
        "#### 78. Consider 2 sets of points P0,P1 describing lines (2d) and a point p, how to compute distance from p to each line i  (P0\\[i\\],P1\\[i\\])? (★★★)"
      ]
    },
    {
      "cell_type": "code",
      "execution_count": null,
      "metadata": {
        "id": "h16FFkrI5fUo",
        "colab": {
          "base_uri": "https://localhost:8080/"
        },
        "outputId": "962040ea-541d-4124-bb2c-eff8120b0a6f"
      },
      "outputs": [
        {
          "output_type": "stream",
          "name": "stdout",
          "text": [
            "[ 3.31101368  0.09693681  3.21187997  0.76336191  2.30528706 10.62081638\n",
            " 10.6091397   3.13601096  4.79472863  6.21308796]\n"
          ]
        }
      ],
      "source": [
        "def distance(P0, P1, p):\n",
        "    T = P1 - P0\n",
        "    L = (T**2).sum(axis=1)\n",
        "    U = -((P0[:,0]-p[...,0])*T[:,0] + (P0[:,1]-p[...,1])*T[:,1]) / L\n",
        "    U = U.reshape(len(U),1)\n",
        "    D = P0 + U*T - p\n",
        "    return np.sqrt((D**2).sum(axis=1))\n",
        "\n",
        "P0 = np.random.uniform(-10,10,(10,2))\n",
        "P1 = np.random.uniform(-10,10,(10,2))\n",
        "p  = np.random.uniform(-10,10,( 1,2))\n",
        "print(distance(P0, P1, p))"
      ]
    },
    {
      "cell_type": "markdown",
      "metadata": {
        "id": "R6AFviFT5fUo"
      },
      "source": [
        "#### 79. Consider 2 sets of points P0,P1 describing lines (2d) and a set of points P, how to compute distance from each point j (P\\[j\\]) to each line i (P0\\[i\\],P1\\[i\\])? (★★★)"
      ]
    },
    {
      "cell_type": "code",
      "execution_count": null,
      "metadata": {
        "id": "ga-RvU245fUp",
        "colab": {
          "base_uri": "https://localhost:8080/"
        },
        "outputId": "7477c7b6-605a-41a6-f6b4-9cf851fc0f49"
      },
      "outputs": [
        {
          "output_type": "stream",
          "name": "stdout",
          "text": [
            "[[12.70628139 10.63464243  7.44012591  1.82466678  9.7860815   4.66794788\n",
            "   0.59708945  9.73891388  6.61023088  7.79927639]\n",
            " [ 6.62555517  5.70699541  0.44050206  2.42176785  8.42530997  6.42544615\n",
            "   0.97722433  3.33403135  1.861514    1.25518495]\n",
            " [ 2.8483399   1.04397924  0.63242191  7.72142102  3.05647789  1.73302528\n",
            "   6.24573566  0.03292545  4.76062444  1.842992  ]\n",
            " [12.95062141 11.09847556  7.17796275  0.98285992 10.59134152  5.55707376\n",
            "   0.25319464  9.89479536  5.83055319  7.2902    ]\n",
            " [ 8.92027765  4.28323898  9.79407677 12.29757749  0.33188475  6.09200672\n",
            "  11.14730058  7.00455213 15.64052339 13.26048919]\n",
            " [ 0.48646854  4.63852569  1.62095078 17.21704184  6.10423492  8.0624315\n",
            "  15.81513885  2.40781499 13.03610966  6.90902261]\n",
            " [ 3.87507438  1.7692545   0.76771944  7.94904938  2.98479787  1.05081831\n",
            "   6.51690494  1.0893009   5.9522168   3.25802993]\n",
            " [ 4.44947645  0.19357201  5.60164611 14.17225685  2.65001883  6.48465001\n",
            "  12.89264404  2.47357226 13.85276553  9.80430569]\n",
            " [ 3.04644709  5.63962202  3.52029796 14.16600271  3.64619483  3.44696767\n",
            "  12.60331988  5.51406614  7.11794855  1.03640645]\n",
            " [ 4.43448623  3.06960708  0.31988804  5.2882661   5.50160762  3.94723491\n",
            "   3.82129084  1.3551694   3.2967409   1.40008426]]\n"
          ]
        }
      ],
      "source": [
        "P0 = np.random.uniform(-10,10,(10,2))\n",
        "P1 = np.random.uniform(-10,10,(10,2))\n",
        "p  = np.random.uniform(-10,10,( 10,2))\n",
        "print(np.array([distance(P0, P1, p_i)for p_i in p]))"
      ]
    },
    {
      "cell_type": "markdown",
      "metadata": {
        "id": "vq31Hm3y5fUq"
      },
      "source": [
        "#### 80. Consider an arbitrary array, write a function that extract a subpart with a fixed shape and centered on a given element (pad with a `fill` value when necessary) (★★★) \n",
        "(**hint**: minimum, maximum)"
      ]
    },
    {
      "cell_type": "code",
      "execution_count": null,
      "metadata": {
        "id": "ue77BDJ45fUr",
        "colab": {
          "base_uri": "https://localhost:8080/"
        },
        "outputId": "52d2728d-b9ad-40e1-aaf7-5a06fa732e65"
      },
      "outputs": [
        {
          "output_type": "stream",
          "name": "stdout",
          "text": [
            "[[5 7 2 6 8 7 3 9 9 4]\n",
            " [7 7 8 3 3 1 9 6 0 5]\n",
            " [7 9 6 9 3 2 8 9 5 6]\n",
            " [7 7 5 1 8 1 5 2 9 7]\n",
            " [4 1 6 0 4 4 8 9 0 4]\n",
            " [4 9 2 4 9 4 8 0 3 7]\n",
            " [6 5 6 4 7 4 9 5 6 5]\n",
            " [7 4 9 2 1 8 4 3 5 9]\n",
            " [6 0 1 9 7 4 7 1 7 9]\n",
            " [5 4 4 1 0 2 2 8 5 1]]\n",
            "[[0 0 0 0 0]\n",
            " [0 5 0 0 0]\n",
            " [0 0 0 0 0]\n",
            " [0 0 0 0 0]\n",
            " [0 0 0 0 0]]\n"
          ]
        },
        {
          "output_type": "stream",
          "name": "stderr",
          "text": [
            "/usr/local/lib/python3.7/dist-packages/ipykernel_launcher.py:23: FutureWarning: Using a non-tuple sequence for multidimensional indexing is deprecated; use `arr[tuple(seq)]` instead of `arr[seq]`. In the future this will be interpreted as an array index, `arr[np.array(seq)]`, which will result either in an error or a different result.\n"
          ]
        }
      ],
      "source": [
        "k = np.random.randint(0,10,(10,10))\n",
        "shape = (5,5)\n",
        "fill = 0\n",
        "position = (1,1)\n",
        "\n",
        "R = np.ones(shape, dtype=Z.dtype)*fill\n",
        "P  = np.array(list(position)).astype(int)\n",
        "Rs = np.array(list(R.shape)).astype(int)\n",
        "Zs = np.array(list(Z.shape)).astype(int)\n",
        "\n",
        "R_start = np.zeros((len(shape),)).astype(int)\n",
        "R_stop  = np.array(list(shape)).astype(int)\n",
        "Z_start = (P-Rs//2)\n",
        "Z_stop  = (P+Rs//2)+Rs%2\n",
        "\n",
        "R_start = (R_start - np.minimum(Z_start,0)).tolist()\n",
        "Z_start = (np.maximum(Z_start,0)).tolist()\n",
        "R_stop = np.maximum(R_start, (R_stop - np.maximum(Z_stop-Zs,0))).tolist()\n",
        "Z_stop = (np.minimum(Z_stop,Zs)).tolist()\n",
        "\n",
        "r = [slice(start,stop) for start,stop in zip(R_start,R_stop)]\n",
        "z = [slice(start,stop) for start,stop in zip(Z_start,Z_stop)]\n",
        "R[r] = k[z]\n",
        "print(k)\n",
        "print(R)"
      ]
    },
    {
      "cell_type": "markdown",
      "metadata": {
        "id": "YD0lYqWI5fUr"
      },
      "source": [
        "#### 81. Consider an array Z = \\[1,2,3,4,5,6,7,8,9,10,11,12,13,14\\], how to generate an array R = \\[\\[1,2,3,4\\], \\[2,3,4,5\\], \\[3,4,5,6\\], ..., \\[11,12,13,14\\]\\]? (★★★) \n",
        "(**hint**: stride\\_tricks.as\\_strided)"
      ]
    },
    {
      "cell_type": "code",
      "execution_count": null,
      "metadata": {
        "id": "jaRishIo5fUs",
        "colab": {
          "base_uri": "https://localhost:8080/"
        },
        "outputId": "1d5f7b9b-0cc4-487f-f0b0-bfec287ba268"
      },
      "outputs": [
        {
          "output_type": "stream",
          "name": "stdout",
          "text": [
            "[[ 1  2  3  4]\n",
            " [ 2  3  4  5]\n",
            " [ 3  4  5  6]\n",
            " [ 4  5  6  7]\n",
            " [ 5  6  7  8]\n",
            " [ 6  7  8  9]\n",
            " [ 7  8  9 10]\n",
            " [ 8  9 10 11]\n",
            " [ 9 10 11 12]\n",
            " [10 11 12 13]\n",
            " [11 12 13 14]]\n"
          ]
        }
      ],
      "source": [
        "k = np.arange(1,15,dtype=np.uint32)\n",
        "r = stride_tricks.as_strided(k,(11,4),(4,4))\n",
        "print(r)"
      ]
    },
    {
      "cell_type": "markdown",
      "metadata": {
        "id": "GKTvE4yX5fUs"
      },
      "source": [
        "#### 82. Compute a matrix rank (★★★) \n",
        "(**hint**: np.linalg.svd) (suggestion: np.linalg.svd)"
      ]
    },
    {
      "cell_type": "code",
      "execution_count": null,
      "metadata": {
        "id": "NclLEAih5fUx",
        "colab": {
          "base_uri": "https://localhost:8080/"
        },
        "outputId": "ddff6dd3-7404-4a5c-bbd8-549ba4a34078"
      },
      "outputs": [
        {
          "output_type": "stream",
          "name": "stdout",
          "text": [
            "1\n"
          ]
        }
      ],
      "source": [
        "k = np.random.uniform(0,1,(10,10))\n",
        "u,s,v = np.linalg.svd(k)\n",
        "rank = np.sum(5> 1e-10)\n",
        "print(rank)"
      ]
    },
    {
      "cell_type": "markdown",
      "metadata": {
        "id": "SOKWtVU55fU2"
      },
      "source": [
        "#### 83. How to find the most frequent value in an array? \n",
        "(**hint**: np.bincount, argmax)"
      ]
    },
    {
      "cell_type": "code",
      "execution_count": null,
      "metadata": {
        "id": "EyG2AUa65fU5",
        "colab": {
          "base_uri": "https://localhost:8080/"
        },
        "outputId": "3497adbe-fa83-47d0-af93-956b566ba22e"
      },
      "outputs": [
        {
          "output_type": "stream",
          "name": "stdout",
          "text": [
            "[3 0 3 8 3 5 9 8 2 0 3 0 1 5 6 1 8 1 0 5 5 5 6 1 6 5 4 5 6 2 9 5 6 6 0 8 4\n",
            " 4 8 1 3 3 8 3 4 3 8 7 4 0]\n",
            "3\n"
          ]
        }
      ],
      "source": [
        "k = np.random.randint(0,10,50)\n",
        "print(k)\n",
        "print(np.bincount(k).argmax())"
      ]
    },
    {
      "cell_type": "markdown",
      "metadata": {
        "id": "CKggveM25fU6"
      },
      "source": [
        "#### 84. Extract all the contiguous 3x3 blocks from a random 10x10 matrix (★★★) \n",
        "(**hint**: stride\\_tricks.as\\_strided)"
      ]
    },
    {
      "cell_type": "code",
      "execution_count": null,
      "metadata": {
        "id": "l-CCEIy05fU7",
        "colab": {
          "base_uri": "https://localhost:8080/"
        },
        "outputId": "83fcc3d1-0481-47f9-bc72-15cebc3372ee"
      },
      "outputs": [
        {
          "output_type": "stream",
          "name": "stdout",
          "text": [
            "[[[[0 4 1]\n",
            "   [4 2 2]\n",
            "   [0 2 4]]\n",
            "\n",
            "  [[4 1 3]\n",
            "   [2 2 1]\n",
            "   [2 4 2]]\n",
            "\n",
            "  [[1 3 4]\n",
            "   [2 1 3]\n",
            "   [4 2 0]]\n",
            "\n",
            "  [[3 4 3]\n",
            "   [1 3 1]\n",
            "   [2 0 0]]\n",
            "\n",
            "  [[4 3 3]\n",
            "   [3 1 1]\n",
            "   [0 0 3]]\n",
            "\n",
            "  [[3 3 0]\n",
            "   [1 1 4]\n",
            "   [0 3 0]]\n",
            "\n",
            "  [[3 0 2]\n",
            "   [1 4 0]\n",
            "   [3 0 2]]\n",
            "\n",
            "  [[0 2 2]\n",
            "   [4 0 2]\n",
            "   [0 2 4]]]\n",
            "\n",
            "\n",
            " [[[4 2 2]\n",
            "   [0 2 4]\n",
            "   [0 2 1]]\n",
            "\n",
            "  [[2 2 1]\n",
            "   [2 4 2]\n",
            "   [2 1 1]]\n",
            "\n",
            "  [[2 1 3]\n",
            "   [4 2 0]\n",
            "   [1 1 3]]\n",
            "\n",
            "  [[1 3 1]\n",
            "   [2 0 0]\n",
            "   [1 3 2]]\n",
            "\n",
            "  [[3 1 1]\n",
            "   [0 0 3]\n",
            "   [3 2 1]]\n",
            "\n",
            "  [[1 1 4]\n",
            "   [0 3 0]\n",
            "   [2 1 2]]\n",
            "\n",
            "  [[1 4 0]\n",
            "   [3 0 2]\n",
            "   [1 2 1]]\n",
            "\n",
            "  [[4 0 2]\n",
            "   [0 2 4]\n",
            "   [2 1 4]]]\n",
            "\n",
            "\n",
            " [[[0 2 4]\n",
            "   [0 2 1]\n",
            "   [4 1 0]]\n",
            "\n",
            "  [[2 4 2]\n",
            "   [2 1 1]\n",
            "   [1 0 3]]\n",
            "\n",
            "  [[4 2 0]\n",
            "   [1 1 3]\n",
            "   [0 3 0]]\n",
            "\n",
            "  [[2 0 0]\n",
            "   [1 3 2]\n",
            "   [3 0 3]]\n",
            "\n",
            "  [[0 0 3]\n",
            "   [3 2 1]\n",
            "   [0 3 3]]\n",
            "\n",
            "  [[0 3 0]\n",
            "   [2 1 2]\n",
            "   [3 3 4]]\n",
            "\n",
            "  [[3 0 2]\n",
            "   [1 2 1]\n",
            "   [3 4 1]]\n",
            "\n",
            "  [[0 2 4]\n",
            "   [2 1 4]\n",
            "   [4 1 1]]]\n",
            "\n",
            "\n",
            " [[[0 2 1]\n",
            "   [4 1 0]\n",
            "   [0 2 0]]\n",
            "\n",
            "  [[2 1 1]\n",
            "   [1 0 3]\n",
            "   [2 0 2]]\n",
            "\n",
            "  [[1 1 3]\n",
            "   [0 3 0]\n",
            "   [0 2 4]]\n",
            "\n",
            "  [[1 3 2]\n",
            "   [3 0 3]\n",
            "   [2 4 1]]\n",
            "\n",
            "  [[3 2 1]\n",
            "   [0 3 3]\n",
            "   [4 1 2]]\n",
            "\n",
            "  [[2 1 2]\n",
            "   [3 3 4]\n",
            "   [1 2 3]]\n",
            "\n",
            "  [[1 2 1]\n",
            "   [3 4 1]\n",
            "   [2 3 0]]\n",
            "\n",
            "  [[2 1 4]\n",
            "   [4 1 1]\n",
            "   [3 0 1]]]\n",
            "\n",
            "\n",
            " [[[4 1 0]\n",
            "   [0 2 0]\n",
            "   [4 0 1]]\n",
            "\n",
            "  [[1 0 3]\n",
            "   [2 0 2]\n",
            "   [0 1 1]]\n",
            "\n",
            "  [[0 3 0]\n",
            "   [0 2 4]\n",
            "   [1 1 1]]\n",
            "\n",
            "  [[3 0 3]\n",
            "   [2 4 1]\n",
            "   [1 1 3]]\n",
            "\n",
            "  [[0 3 3]\n",
            "   [4 1 2]\n",
            "   [1 3 3]]\n",
            "\n",
            "  [[3 3 4]\n",
            "   [1 2 3]\n",
            "   [3 3 0]]\n",
            "\n",
            "  [[3 4 1]\n",
            "   [2 3 0]\n",
            "   [3 0 0]]\n",
            "\n",
            "  [[4 1 1]\n",
            "   [3 0 1]\n",
            "   [0 0 0]]]\n",
            "\n",
            "\n",
            " [[[0 2 0]\n",
            "   [4 0 1]\n",
            "   [3 4 1]]\n",
            "\n",
            "  [[2 0 2]\n",
            "   [0 1 1]\n",
            "   [4 1 4]]\n",
            "\n",
            "  [[0 2 4]\n",
            "   [1 1 1]\n",
            "   [1 4 2]]\n",
            "\n",
            "  [[2 4 1]\n",
            "   [1 1 3]\n",
            "   [4 2 3]]\n",
            "\n",
            "  [[4 1 2]\n",
            "   [1 3 3]\n",
            "   [2 3 4]]\n",
            "\n",
            "  [[1 2 3]\n",
            "   [3 3 0]\n",
            "   [3 4 4]]\n",
            "\n",
            "  [[2 3 0]\n",
            "   [3 0 0]\n",
            "   [4 4 2]]\n",
            "\n",
            "  [[3 0 1]\n",
            "   [0 0 0]\n",
            "   [4 2 3]]]\n",
            "\n",
            "\n",
            " [[[4 0 1]\n",
            "   [3 4 1]\n",
            "   [0 0 1]]\n",
            "\n",
            "  [[0 1 1]\n",
            "   [4 1 4]\n",
            "   [0 1 0]]\n",
            "\n",
            "  [[1 1 1]\n",
            "   [1 4 2]\n",
            "   [1 0 0]]\n",
            "\n",
            "  [[1 1 3]\n",
            "   [4 2 3]\n",
            "   [0 0 3]]\n",
            "\n",
            "  [[1 3 3]\n",
            "   [2 3 4]\n",
            "   [0 3 2]]\n",
            "\n",
            "  [[3 3 0]\n",
            "   [3 4 4]\n",
            "   [3 2 1]]\n",
            "\n",
            "  [[3 0 0]\n",
            "   [4 4 2]\n",
            "   [2 1 2]]\n",
            "\n",
            "  [[0 0 0]\n",
            "   [4 2 3]\n",
            "   [1 2 3]]]\n",
            "\n",
            "\n",
            " [[[3 4 1]\n",
            "   [0 0 1]\n",
            "   [4 0 1]]\n",
            "\n",
            "  [[4 1 4]\n",
            "   [0 1 0]\n",
            "   [0 1 1]]\n",
            "\n",
            "  [[1 4 2]\n",
            "   [1 0 0]\n",
            "   [1 1 2]]\n",
            "\n",
            "  [[4 2 3]\n",
            "   [0 0 3]\n",
            "   [1 2 1]]\n",
            "\n",
            "  [[2 3 4]\n",
            "   [0 3 2]\n",
            "   [2 1 1]]\n",
            "\n",
            "  [[3 4 4]\n",
            "   [3 2 1]\n",
            "   [1 1 3]]\n",
            "\n",
            "  [[4 4 2]\n",
            "   [2 1 2]\n",
            "   [1 3 1]]\n",
            "\n",
            "  [[4 2 3]\n",
            "   [1 2 3]\n",
            "   [3 1 4]]]]\n"
          ]
        }
      ],
      "source": [
        "k = np.random.randint(0,5,(10,10))\n",
        "n = 3\n",
        "i = 1 + (k.shape[0]-3)\n",
        "j = 1 + (k.shape[1]-3)\n",
        "c = stride_tricks.as_strided(k,shape=(i,j,n,n),strides=k.strides +k.strides)\n",
        "print(c)"
      ]
    },
    {
      "cell_type": "markdown",
      "metadata": {
        "id": "TpvmjKKy5fU7"
      },
      "source": [
        "#### 85. Create a 2D array subclass such that Z\\[i,j\\] == Z\\[j,i\\] (★★★) \n",
        "(**hint**: class method)"
      ]
    },
    {
      "cell_type": "code",
      "execution_count": null,
      "metadata": {
        "id": "DgVlxmss5fU8",
        "colab": {
          "base_uri": "https://localhost:8080/"
        },
        "outputId": "ab35d347-8003-44cb-e28a-0b19739d683d"
      },
      "outputs": [
        {
          "output_type": "stream",
          "name": "stdout",
          "text": [
            "[[ 7  4  8  4 13]\n",
            " [ 4  9 12  8 11]\n",
            " [ 8 12  6 42  6]\n",
            " [ 4  8 42  7 13]\n",
            " [13 11  6 13  2]]\n"
          ]
        }
      ],
      "source": [
        "\n",
        "class Symetric(np.ndarray):\n",
        "    def __setitem__(self, index, value):\n",
        "        i,j = index\n",
        "        super(Symetric, self).__setitem__((i,j), value)\n",
        "        super(Symetric, self).__setitem__((j,i), value)\n",
        "\n",
        "def symetric(Z):\n",
        "    return np.asarray(Z + Z.T - np.diag(Z.diagonal())).view(Symetric)\n",
        "\n",
        "S = symetric(np.random.randint(0,10,(5,5)))\n",
        "S[2,3] = 42\n",
        "print(S)"
      ]
    },
    {
      "cell_type": "markdown",
      "metadata": {
        "id": "yN0YK5Nh5fU9"
      },
      "source": [
        "#### 86. Consider a set of p matrices wich shape (n,n) and a set of p vectors with shape (n,1). How to compute the sum of of the p matrix products at once? (result has shape (n,1)) (★★★) \n",
        "(**hint**: np.tensordot)"
      ]
    },
    {
      "cell_type": "code",
      "execution_count": null,
      "metadata": {
        "id": "ztl1y08u5fU9",
        "colab": {
          "base_uri": "https://localhost:8080/"
        },
        "outputId": "83d073b1-79bd-4f31-d53c-254e86af4090"
      },
      "outputs": [
        {
          "output_type": "stream",
          "name": "stdout",
          "text": [
            "(<module 'numpy' from '/usr/local/lib/python3.7/dist-packages/numpy/__init__.py'>, array([[200.],\n",
            "       [200.],\n",
            "       [200.],\n",
            "       [200.],\n",
            "       [200.],\n",
            "       [200.],\n",
            "       [200.],\n",
            "       [200.],\n",
            "       [200.],\n",
            "       [200.],\n",
            "       [200.],\n",
            "       [200.],\n",
            "       [200.],\n",
            "       [200.],\n",
            "       [200.],\n",
            "       [200.],\n",
            "       [200.],\n",
            "       [200.],\n",
            "       [200.],\n",
            "       [200.]]))\n"
          ]
        }
      ],
      "source": [
        "p,n = 10,20\n",
        "M = np.ones((p,n,n))\n",
        "V = np.ones((p,n,1))\n",
        "S = np,tensordot(M,V,axes=[[0,2],[0,1]])\n",
        "print(S)"
      ]
    },
    {
      "cell_type": "markdown",
      "metadata": {
        "id": "xFAeWX395fU9"
      },
      "source": [
        "#### 87. Consider a 16x16 array, how to get the block-sum (block size is 4x4)? (★★★) \n",
        "(**hint**: np.add.reduceat)"
      ]
    },
    {
      "cell_type": "code",
      "execution_count": null,
      "metadata": {
        "id": "NHS89bPK5fU-",
        "colab": {
          "base_uri": "https://localhost:8080/"
        },
        "outputId": "c395a352-5916-447c-9b45-a1226d098cf4"
      },
      "outputs": [
        {
          "output_type": "stream",
          "name": "stdout",
          "text": [
            "[[16. 16. 16. 16.]\n",
            " [16. 16. 16. 16.]\n",
            " [16. 16. 16. 16.]\n",
            " [16. 16. 16. 16.]]\n"
          ]
        }
      ],
      "source": [
        "Z = np.ones((16,16))\n",
        "k = 4\n",
        "S = np.add.reduceat(np.add.reduceat(Z, np.arange(0, Z.shape[0], k), axis=0),\n",
        "                                       np.arange(0, Z.shape[1], k), axis=1)\n",
        "print(S)"
      ]
    },
    {
      "cell_type": "code",
      "source": [
        "Z = np.ones((16,16))\n",
        "k = 4\n",
        "\n",
        "windows = np.lib.stride_tricks.sliding_window_view(Z, (k, k))\n",
        "S = windows[::k, ::k, ...].sum(axis=(-2, -1))\n",
        "print(S)"
      ],
      "metadata": {
        "colab": {
          "base_uri": "https://localhost:8080/"
        },
        "id": "XozXj-ShQ6Qq",
        "outputId": "a968994e-3a45-4a81-e1c2-b6c5b93e4436"
      },
      "execution_count": null,
      "outputs": [
        {
          "output_type": "stream",
          "name": "stdout",
          "text": [
            "[[16. 16. 16. 16.]\n",
            " [16. 16. 16. 16.]\n",
            " [16. 16. 16. 16.]\n",
            " [16. 16. 16. 16.]]\n"
          ]
        }
      ]
    },
    {
      "cell_type": "markdown",
      "metadata": {
        "id": "i3MHUTkw5fU-"
      },
      "source": [
        "#### 88. How to implement the Game of Life using numpy arrays? (★★★)"
      ]
    },
    {
      "cell_type": "code",
      "execution_count": null,
      "metadata": {
        "id": "fdeUYzei5fU-",
        "colab": {
          "base_uri": "https://localhost:8080/"
        },
        "outputId": "f5f98cf6-1d89-475a-a1c1-584e3ef41e21"
      },
      "outputs": [
        {
          "output_type": "stream",
          "name": "stdout",
          "text": [
            "[[0 0 0 0 0 0 0 0 0 0 0 0 0 0 0 0 0 0 0 0 0 0 0 0 0 0 0 0 0 0 0 0 0 0 0 0\n",
            "  0 0 0 0 0 0 0 0 0 0 0 0 0 0]\n",
            " [0 0 0 0 0 0 0 0 0 0 0 0 0 0 0 0 0 0 0 0 0 0 0 0 0 0 0 0 0 0 0 0 0 0 0 0\n",
            "  0 0 1 1 1 0 0 0 0 0 0 0 0 0]\n",
            " [0 0 0 0 0 1 1 1 0 0 0 0 0 0 0 0 1 0 0 0 0 0 0 0 0 0 0 0 0 0 0 0 0 0 0 0\n",
            "  0 1 0 0 1 0 0 0 0 0 0 0 0 0]\n",
            " [0 0 0 0 0 0 0 0 0 0 0 0 0 0 0 1 0 1 0 0 0 0 0 0 0 0 0 0 0 0 0 0 0 0 0 0\n",
            "  0 1 0 0 1 0 0 0 0 0 0 0 0 0]\n",
            " [0 0 0 0 0 0 0 0 0 0 0 0 0 0 0 0 1 0 0 0 0 0 0 0 0 0 0 0 0 0 0 0 0 0 0 0\n",
            "  0 1 1 0 0 0 0 0 0 0 0 0 0 0]\n",
            " [0 0 0 0 0 0 0 0 0 0 0 0 0 0 0 0 0 0 0 0 0 0 0 0 0 0 0 0 0 0 0 0 0 0 0 1\n",
            "  1 1 0 0 0 0 0 0 0 0 0 0 0 0]\n",
            " [0 0 0 0 0 0 0 0 0 0 0 0 0 0 0 0 0 0 0 0 0 0 0 0 0 0 0 0 0 0 0 0 0 0 1 1\n",
            "  0 0 0 1 0 0 0 0 0 0 0 0 0 0]\n",
            " [0 0 0 0 0 0 0 0 0 0 0 0 0 0 0 0 0 0 0 0 0 0 0 0 0 0 0 0 0 0 0 0 0 0 0 1\n",
            "  1 0 0 1 0 0 0 0 0 0 0 0 0 0]\n",
            " [0 0 0 0 0 0 0 0 0 0 0 0 0 0 0 0 0 0 0 0 0 0 0 0 0 0 0 0 0 0 0 0 0 0 0 0\n",
            "  1 1 1 1 0 0 0 0 0 0 0 0 0 0]\n",
            " [0 0 0 0 0 0 0 0 0 0 0 0 0 1 1 0 1 1 0 0 0 0 0 0 0 0 1 1 0 0 0 0 0 0 0 0\n",
            "  0 1 1 0 0 0 0 0 0 0 0 0 0 0]\n",
            " [0 0 0 0 0 0 0 0 0 0 0 0 0 0 0 1 1 1 0 0 0 0 0 0 0 1 0 0 0 0 0 0 0 0 0 0\n",
            "  0 0 1 0 0 0 0 0 0 0 0 0 0 0]\n",
            " [0 0 0 0 0 0 0 0 0 0 0 0 0 0 0 1 1 0 0 0 0 0 0 0 0 1 0 1 0 0 0 0 0 0 0 0\n",
            "  0 0 0 0 0 0 0 0 0 0 0 0 0 0]\n",
            " [0 0 0 0 0 0 0 0 0 0 0 0 0 0 1 1 1 0 0 0 0 0 0 0 0 0 0 0 0 0 0 0 0 0 0 0\n",
            "  0 0 0 0 0 0 0 0 0 0 0 0 0 0]\n",
            " [0 0 0 0 0 0 0 0 0 0 0 0 0 1 0 1 0 0 0 0 0 0 0 0 0 1 0 1 0 0 0 0 0 0 0 0\n",
            "  0 0 0 0 0 0 0 0 0 0 0 0 0 0]\n",
            " [0 0 0 0 0 0 0 0 0 0 0 0 0 1 1 1 0 0 0 0 0 0 0 0 0 0 1 0 0 0 0 0 0 0 0 0\n",
            "  0 0 0 0 0 0 0 0 0 1 1 1 0 0]\n",
            " [0 0 0 0 0 0 0 0 0 0 0 0 0 0 0 0 0 0 0 0 0 0 0 0 0 0 1 0 0 0 0 0 0 0 0 0\n",
            "  0 0 0 0 0 0 0 0 0 1 1 1 0 0]\n",
            " [0 0 0 0 0 0 0 0 0 0 0 0 0 0 0 0 0 0 0 0 0 0 0 0 0 0 0 0 0 0 0 0 0 0 0 0\n",
            "  0 0 0 0 0 0 0 0 1 0 0 1 0 0]\n",
            " [0 0 0 0 0 0 0 0 0 0 0 0 0 0 0 0 0 0 0 1 0 0 0 0 0 0 0 0 0 0 0 0 0 0 0 0\n",
            "  0 0 0 0 0 0 0 0 1 1 0 0 0 0]\n",
            " [0 0 0 0 0 0 0 0 0 0 0 0 0 0 0 0 1 0 0 1 0 0 0 0 0 0 0 1 0 0 0 0 0 0 0 0\n",
            "  0 1 0 0 0 0 0 0 0 1 1 1 0 0]\n",
            " [0 0 0 0 0 0 0 0 1 0 0 0 0 0 0 0 1 0 0 0 0 0 0 0 0 0 0 0 1 0 0 0 0 0 0 0\n",
            "  1 0 1 0 0 0 0 0 0 1 1 0 1 0]\n",
            " [0 0 0 0 0 0 0 1 0 1 0 0 0 0 0 0 0 0 0 0 0 0 0 0 0 0 0 0 1 0 0 0 0 0 0 1\n",
            "  0 0 1 1 0 0 0 0 1 0 1 1 1 0]\n",
            " [0 0 0 0 0 0 1 0 0 0 1 0 0 0 0 0 0 0 0 0 0 0 0 0 1 0 0 0 0 0 0 0 0 0 0 1\n",
            "  0 0 0 1 0 0 0 1 1 0 1 1 1 0]\n",
            " [0 0 0 0 0 0 0 1 0 1 1 0 0 0 0 0 0 0 0 0 0 0 0 1 0 1 0 0 0 0 0 0 0 0 0 0\n",
            "  0 0 0 1 0 0 0 0 1 0 1 1 0 0]\n",
            " [0 0 0 0 0 0 1 0 0 0 1 1 0 0 0 0 0 0 0 0 0 0 0 1 0 1 0 0 0 0 0 0 0 0 0 0\n",
            "  1 0 0 0 0 0 0 0 1 1 1 0 0 0]\n",
            " [0 0 1 0 0 0 1 1 0 0 1 1 0 0 0 0 1 0 0 0 0 0 1 1 0 1 0 0 0 0 0 0 0 0 1 0\n",
            "  0 0 0 0 0 0 0 0 0 1 0 0 0 0]\n",
            " [0 1 0 1 1 0 0 0 1 0 1 1 0 0 0 0 1 1 0 0 1 1 1 0 1 0 0 0 0 0 0 0 0 1 0 1\n",
            "  0 1 0 0 1 0 0 0 0 0 0 0 0 0]\n",
            " [0 0 0 0 1 0 0 0 0 0 0 1 0 0 0 0 0 0 1 0 1 1 1 0 0 0 0 0 0 0 0 0 0 1 0 1\n",
            "  0 0 1 1 0 0 0 0 0 0 0 0 0 0]\n",
            " [0 1 1 0 1 0 0 0 0 1 0 0 1 0 0 0 1 1 0 0 0 0 1 0 0 0 0 0 0 0 0 0 0 0 1 0\n",
            "  0 0 0 0 0 0 0 0 0 0 0 0 0 0]\n",
            " [0 0 0 0 0 1 0 0 0 1 0 0 0 0 1 1 1 0 0 0 0 0 0 0 0 0 0 0 0 0 0 0 0 0 0 0\n",
            "  0 0 0 0 0 0 0 0 0 0 0 0 0 0]\n",
            " [0 0 0 0 0 0 1 0 0 0 0 0 0 1 0 0 0 0 0 0 0 0 0 0 0 0 0 0 0 0 0 0 0 0 0 0\n",
            "  0 0 0 0 0 0 0 0 0 0 0 0 0 0]\n",
            " [0 0 0 0 0 0 1 0 1 1 0 1 0 0 1 0 0 0 0 0 0 0 0 0 0 0 0 0 0 0 0 0 0 0 0 0\n",
            "  0 0 0 0 0 0 0 0 0 0 0 0 0 0]\n",
            " [0 0 0 0 0 0 0 1 1 0 0 1 1 1 0 0 0 0 0 0 0 0 0 0 0 0 0 0 0 0 0 0 0 0 0 0\n",
            "  0 1 1 0 0 0 0 0 0 0 0 0 0 0]\n",
            " [0 0 0 0 0 0 0 0 0 0 0 1 0 1 0 0 0 0 0 0 0 0 0 0 0 0 0 0 0 0 0 0 0 0 0 0\n",
            "  0 0 0 1 0 0 0 0 0 0 0 0 0 0]\n",
            " [0 0 0 0 0 0 0 0 0 0 0 1 1 0 0 0 0 0 0 0 0 0 0 0 0 0 0 0 0 0 0 0 0 0 0 0\n",
            "  0 1 1 0 0 0 1 0 0 0 0 0 0 0]\n",
            " [0 0 0 0 0 0 0 0 0 0 0 0 0 0 0 0 0 0 0 1 0 0 1 0 1 0 0 0 0 0 0 0 0 0 0 0\n",
            "  0 0 0 0 0 0 1 0 0 0 0 0 0 0]\n",
            " [0 0 0 0 0 0 0 0 0 0 0 0 0 0 0 0 0 0 0 1 0 0 1 1 1 0 0 0 0 0 0 0 0 0 0 0\n",
            "  0 0 0 0 0 0 1 0 0 0 0 0 0 0]\n",
            " [0 0 0 0 0 0 0 0 0 0 0 0 0 0 0 0 0 0 0 0 0 0 1 1 1 1 0 0 0 0 0 0 0 0 0 0\n",
            "  0 0 0 0 0 0 0 0 0 0 0 0 0 0]\n",
            " [0 0 0 0 0 0 0 0 0 0 0 0 0 0 0 0 0 0 0 0 0 1 1 1 1 1 0 0 0 0 0 0 0 0 0 0\n",
            "  0 0 1 1 1 0 0 0 1 1 1 0 0 0]\n",
            " [0 0 0 0 0 0 0 0 0 0 0 0 0 0 0 0 0 0 0 0 1 0 0 1 1 1 0 0 0 0 0 0 0 0 0 0\n",
            "  0 0 0 0 0 0 0 0 0 0 0 0 0 0]\n",
            " [0 0 0 0 0 0 1 1 0 0 0 0 0 0 0 0 0 0 0 0 1 0 0 1 0 0 0 0 0 0 0 0 0 0 0 0\n",
            "  0 0 0 0 0 0 1 0 0 0 0 0 0 0]\n",
            " [0 0 0 0 0 1 0 0 1 0 0 0 0 0 0 0 0 0 0 0 1 1 1 0 0 0 0 0 0 0 0 0 0 1 1 0\n",
            "  0 0 0 0 0 0 1 0 0 0 0 0 0 0]\n",
            " [0 0 0 0 0 0 1 1 0 0 0 0 0 0 0 0 0 0 0 0 0 1 0 0 0 0 0 0 0 0 0 0 0 1 1 0\n",
            "  0 0 0 0 0 0 1 0 0 0 0 0 0 0]\n",
            " [0 0 0 0 0 0 0 0 0 0 0 0 0 0 0 0 0 0 0 0 0 1 1 1 0 0 0 0 0 0 0 0 0 0 0 0\n",
            "  0 0 0 0 0 0 0 0 0 0 0 0 0 0]\n",
            " [0 0 0 0 0 0 0 0 0 0 0 1 0 0 0 0 0 0 0 0 0 0 0 0 0 0 0 0 0 0 0 0 0 0 0 0\n",
            "  0 0 0 0 0 0 0 0 0 0 0 0 0 0]\n",
            " [0 0 0 0 0 0 0 0 0 1 1 0 1 1 0 0 0 0 0 0 0 0 0 0 0 0 1 0 0 0 0 0 0 0 0 0\n",
            "  0 0 0 0 0 0 0 0 0 0 0 0 0 0]\n",
            " [0 0 0 0 0 0 0 0 1 0 0 0 1 0 0 0 0 0 0 0 0 0 0 0 0 0 1 0 0 0 0 0 0 0 0 0\n",
            "  0 0 0 0 0 0 0 0 0 0 0 0 0 0]\n",
            " [0 0 0 0 0 0 0 0 0 1 1 1 0 0 0 0 0 0 0 0 0 0 0 0 0 0 1 0 0 0 0 0 0 0 0 0\n",
            "  0 0 0 0 0 0 0 0 0 0 0 0 0 0]\n",
            " [0 0 0 0 0 0 0 0 0 0 1 0 0 0 0 0 0 0 0 0 0 0 0 0 0 0 0 0 0 0 0 0 0 0 0 0\n",
            "  0 0 0 0 0 0 0 0 0 0 0 0 0 0]\n",
            " [0 0 0 0 0 0 0 0 0 0 0 0 0 0 0 0 0 0 0 0 0 0 0 0 0 0 0 0 0 0 0 0 0 0 0 0\n",
            "  0 0 0 0 0 0 0 0 0 0 0 0 0 0]\n",
            " [0 0 0 0 0 0 0 0 0 0 0 0 0 0 0 0 0 0 0 0 0 0 0 0 0 0 0 0 0 0 0 0 0 0 0 0\n",
            "  0 0 0 0 0 0 0 0 0 0 0 0 0 0]]\n"
          ]
        }
      ],
      "source": [
        "\n",
        "def iterate(Z):\n",
        "    \n",
        "    N = (Z[0:-2,0:-2] + Z[0:-2,1:-1] + Z[0:-2,2:] +\n",
        "         Z[1:-1,0:-2]                + Z[1:-1,2:] +\n",
        "         Z[2:  ,0:-2] + Z[2:  ,1:-1] + Z[2:  ,2:])\n",
        "\n",
        "    \n",
        "    birth = (N==3) & (Z[1:-1,1:-1]==0)\n",
        "    survive = ((N==2) | (N==3)) & (Z[1:-1,1:-1]==1)\n",
        "    Z[...] = 0\n",
        "    Z[1:-1,1:-1][birth | survive] = 1\n",
        "    return Z\n",
        "\n",
        "Z = np.random.randint(0,2,(50,50))\n",
        "for i in range(100): Z = iterate(Z)\n",
        "print(Z)"
      ]
    },
    {
      "cell_type": "markdown",
      "metadata": {
        "id": "1oJEit0M5fU_"
      },
      "source": [
        "#### 89. How to get the n largest values of an array (★★★) \n",
        "(**hint**: np.argsort | np.argpartition)"
      ]
    },
    {
      "cell_type": "code",
      "execution_count": null,
      "metadata": {
        "id": "FBFoKzp65fU_",
        "colab": {
          "base_uri": "https://localhost:8080/"
        },
        "outputId": "f1a6247a-3b99-407f-febd-268ced090153"
      },
      "outputs": [
        {
          "output_type": "stream",
          "name": "stdout",
          "text": [
            "[9995 9996 9997 9998 9999]\n"
          ]
        }
      ],
      "source": [
        "k=np.arange(10000)\n",
        "np.random.shuffle(k)\n",
        "n=5\n",
        "print(k[np.argsort(k)[-n:]])"
      ]
    },
    {
      "cell_type": "code",
      "source": [
        "print(k[np.argpartition(-k,n)[:n]])"
      ],
      "metadata": {
        "colab": {
          "base_uri": "https://localhost:8080/"
        },
        "id": "0oCDKfzARjqz",
        "outputId": "6ab48930-4fcc-40f7-906a-45b0bba1c73f"
      },
      "execution_count": null,
      "outputs": [
        {
          "output_type": "stream",
          "name": "stdout",
          "text": [
            "[9996 9997 9998 9999 9995]\n"
          ]
        }
      ]
    },
    {
      "cell_type": "markdown",
      "metadata": {
        "id": "FjhLYTkv5fU_"
      },
      "source": [
        "#### 90. Given an arbitrary number of vectors, build the cartesian product (every combinations of every item) (★★★) \n",
        "(**hint**: np.indices)"
      ]
    },
    {
      "cell_type": "code",
      "execution_count": null,
      "metadata": {
        "scrolled": true,
        "id": "_YXwwjoJ5fVA",
        "colab": {
          "base_uri": "https://localhost:8080/"
        },
        "outputId": "9d70684c-0f10-4a39-92c2-755eab5febdc"
      },
      "outputs": [
        {
          "output_type": "stream",
          "name": "stdout",
          "text": [
            "(2, 2)\n"
          ]
        }
      ],
      "source": [
        "def cartesian(arrays):\n",
        "  arrays = [np.asarray(a) for a in arrays]\n",
        "  shape = (len(x) for x in arrays)\n",
        "\n",
        "  ix = np.indices(shape,dtype=int)\n",
        "  ix = ix.reshape(len(arrays),-1).T\n",
        "\n",
        "  for n, arr in enumerate(arrays):\n",
        "    ix[:,n] = arrays[n][ix[:,n]]\n",
        "    return index\n",
        "\n",
        "print(cartesian(([1,2,3],[4,5],[6,7])))"
      ]
    },
    {
      "cell_type": "markdown",
      "metadata": {
        "id": "VHFz6tAa5fVB"
      },
      "source": [
        "#### 91. How to create a record array from a regular array? (★★★) \n",
        "(**hint**: np.core.records.fromarrays)"
      ]
    },
    {
      "cell_type": "code",
      "execution_count": null,
      "metadata": {
        "id": "QQFodHe55fVB",
        "colab": {
          "base_uri": "https://localhost:8080/"
        },
        "outputId": "37389689-76a7-44ff-dd52-a80551692420"
      },
      "outputs": [
        {
          "output_type": "stream",
          "name": "stdout",
          "text": [
            "[(b'Hello', 2.5, 3) (b'World', 3.6, 2)]\n"
          ]
        }
      ],
      "source": [
        "Z = np.array([(\"Hello\", 2.5, 3),\n",
        "              (\"World\", 3.6, 2)])\n",
        "R = np.core.records.fromarrays(Z.T,\n",
        "                               names='col1, col2, col3',\n",
        "                               formats = 'S8, f8, i8')\n",
        "print(R)"
      ]
    },
    {
      "cell_type": "markdown",
      "metadata": {
        "id": "IuBXVhGF5fVB"
      },
      "source": [
        "#### 92. Consider a large vector Z, compute Z to the power of 3 using 3 different methods (★★★) \n",
        "(**hint**: np.power, \\*, np.einsum)"
      ]
    },
    {
      "cell_type": "code",
      "execution_count": null,
      "metadata": {
        "id": "gfKkBDsq5fVC",
        "colab": {
          "base_uri": "https://localhost:8080/"
        },
        "outputId": "614a9d85-6cb8-4530-b7b2-c4f7eb6ddeb0"
      },
      "outputs": [
        {
          "output_type": "stream",
          "name": "stdout",
          "text": [
            "1 loop, best of 5: 3.63 s per loop\n",
            "10 loops, best of 5: 164 ms per loop\n",
            "10 loops, best of 5: 149 ms per loop\n"
          ]
        }
      ],
      "source": [
        "x = np.random.rand(int(5e7))\n",
        "\n",
        "%timeit np.power(x,3)\n",
        "%timeit x*x*x\n",
        "%timeit np.einsum('i,i,i->i',x,x,x)"
      ]
    },
    {
      "cell_type": "markdown",
      "metadata": {
        "id": "w8Xd9r695fVC"
      },
      "source": [
        "#### 93. Consider two arrays A and B of shape (8,3) and (2,2). How to find rows of A that contain elements of each row of B regardless of the order of the elements in B? (★★★) \n",
        "(**hint**: np.where)"
      ]
    },
    {
      "cell_type": "code",
      "execution_count": null,
      "metadata": {
        "id": "MZqe1f-K5fVD",
        "colab": {
          "base_uri": "https://localhost:8080/"
        },
        "outputId": "145a39d8-587f-45e0-cbe9-ede386e44cd1"
      },
      "outputs": [
        {
          "output_type": "stream",
          "name": "stdout",
          "text": [
            "[0 1 4 5 6]\n"
          ]
        }
      ],
      "source": [
        "A = np.random.randint(0,5,(8,3))\n",
        "B = np.random.randint(0,5,(2,2))\n",
        "\n",
        "C = (A[..., np.newaxis, np.newaxis] == B)\n",
        "rows = np.where(C.any((3,1)).all(1))[0]\n",
        "print(rows)"
      ]
    },
    {
      "cell_type": "markdown",
      "metadata": {
        "id": "ul2CQ-mJ5fVD"
      },
      "source": [
        "#### 94. Considering a 10x3 matrix, extract rows with unequal values (e.g. \\[2,2,3\\]) (★★★)"
      ]
    },
    {
      "cell_type": "code",
      "execution_count": null,
      "metadata": {
        "id": "BJmaw2Bi5fVE",
        "colab": {
          "base_uri": "https://localhost:8080/"
        },
        "outputId": "463ed5ea-10ca-475b-86e4-8611dcc95a77"
      },
      "outputs": [
        {
          "output_type": "stream",
          "name": "stdout",
          "text": [
            "[[4 3 0]\n",
            " [4 1 2]\n",
            " [3 2 3]\n",
            " [3 1 0]\n",
            " [0 4 0]\n",
            " [2 4 1]\n",
            " [1 0 1]\n",
            " [2 2 4]\n",
            " [2 2 1]\n",
            " [0 0 3]]\n",
            "[[4 3 0]\n",
            " [4 1 2]\n",
            " [3 2 3]\n",
            " [3 1 0]\n",
            " [0 4 0]\n",
            " [2 4 1]\n",
            " [1 0 1]\n",
            " [2 2 4]\n",
            " [2 2 1]\n",
            " [0 0 3]]\n",
            "[[4 3 0]\n",
            " [4 1 2]\n",
            " [3 2 3]\n",
            " [3 1 0]\n",
            " [0 4 0]\n",
            " [2 4 1]\n",
            " [1 0 1]\n",
            " [2 2 4]\n",
            " [2 2 1]\n",
            " [0 0 3]]\n"
          ]
        }
      ],
      "source": [
        "Z = np.random.randint(0,5,(10,3))\n",
        "print(Z)\n",
        "\n",
        "E = np.all(Z[:,1:] == Z[:,:-1], axis=1)\n",
        "U = Z[~E]\n",
        "print(U)\n",
        "\n",
        "U = Z[Z.max(axis=1) != Z.min(axis=1),:]\n",
        "print(U)"
      ]
    },
    {
      "cell_type": "markdown",
      "metadata": {
        "id": "BPOA-vVJ5fVF"
      },
      "source": [
        "#### 95. Convert a vector of ints into a matrix binary representation (★★★) \n",
        "(**hint**: np.unpackbits)"
      ]
    },
    {
      "cell_type": "code",
      "execution_count": null,
      "metadata": {
        "id": "3TLNDdhP5fVG",
        "colab": {
          "base_uri": "https://localhost:8080/"
        },
        "outputId": "3907d11c-0bf2-4ad2-d85b-85afa851997d"
      },
      "outputs": [
        {
          "output_type": "stream",
          "name": "stdout",
          "text": [
            "[[0 0 0 0 0 0 0 0]\n",
            " [0 0 0 0 0 0 0 1]\n",
            " [0 0 0 0 0 0 1 0]\n",
            " [0 0 0 0 0 0 1 1]\n",
            " [0 0 0 0 1 1 1 1]\n",
            " [0 0 0 1 0 0 0 0]\n",
            " [0 0 1 0 0 0 0 0]\n",
            " [0 1 0 0 0 0 0 0]\n",
            " [1 0 0 0 0 0 0 0]]\n"
          ]
        }
      ],
      "source": [
        "I = np.array([0, 1, 2, 3, 15, 16, 32, 64, 128])\n",
        "B = ((I.reshape(-1,1) & (2**np.arange(8))) != 0).astype(int)\n",
        "print(B[:,::-1])"
      ]
    },
    {
      "cell_type": "markdown",
      "metadata": {
        "id": "9NirfUwo5fVG"
      },
      "source": [
        "#### 96. Given a two dimensional array, how to extract unique rows? (★★★) \n",
        "(**hint**: np.ascontiguousarray)"
      ]
    },
    {
      "cell_type": "code",
      "execution_count": null,
      "metadata": {
        "id": "mv2FGyd85fVG",
        "colab": {
          "base_uri": "https://localhost:8080/"
        },
        "outputId": "010eaa15-8ebc-4d14-edf5-d0eb37011263"
      },
      "outputs": [
        {
          "output_type": "stream",
          "name": "stdout",
          "text": [
            "[[0 0 0]\n",
            " [0 1 1]\n",
            " [1 1 0]\n",
            " [1 1 1]]\n"
          ]
        }
      ],
      "source": [
        "Z = np.random.randint(0,2,(6,3))\n",
        "T = np.ascontiguousarray(Z).view(np.dtype((np.void, Z.dtype.itemsize * Z.shape[1])))\n",
        "_, idx = np.unique(T, return_index=True)\n",
        "uZ = Z[idx]\n",
        "print(uZ)"
      ]
    },
    {
      "cell_type": "markdown",
      "metadata": {
        "id": "bbPjT54L5fVH"
      },
      "source": [
        "#### 97. Considering 2 vectors A & B, write the einsum equivalent of inner, outer, sum, and mul function (★★★) \n",
        "(**hint**: np.einsum)"
      ]
    },
    {
      "cell_type": "code",
      "execution_count": null,
      "metadata": {
        "id": "RcJXIntL5fVH",
        "colab": {
          "base_uri": "https://localhost:8080/"
        },
        "outputId": "ef31217b-2327-42b9-f94f-e633d4414243"
      },
      "outputs": [
        {
          "output_type": "execute_result",
          "data": {
            "text/plain": [
              "array([[0.11556094, 0.38807567, 0.03462396, 0.81574362, 0.02619428,\n",
              "        0.34278197, 0.21035715, 0.58288263, 0.42338985, 0.38789137],\n",
              "       [0.01649582, 0.0553961 , 0.00494242, 0.11644383, 0.00373912,\n",
              "        0.04893063, 0.03002756, 0.08320394, 0.06043705, 0.05536979],\n",
              "       [0.08090488, 0.27169402, 0.02424044, 0.57110684, 0.01833877,\n",
              "        0.23998364, 0.14727226, 0.4080795 , 0.29641768, 0.27156499],\n",
              "       [0.03440084, 0.11552459, 0.01030706, 0.24283523, 0.00779766,\n",
              "        0.1020413 , 0.06262032, 0.17351584, 0.12603711, 0.11546972],\n",
              "       [0.13498725, 0.45331292, 0.04044441, 0.95287375, 0.03059765,\n",
              "        0.40040514, 0.24571912, 0.68086779, 0.49456356, 0.45309763],\n",
              "       [0.07609936, 0.25555617, 0.02280063, 0.53718472, 0.0172495 ,\n",
              "        0.2257293 , 0.13852471, 0.38384074, 0.27881132, 0.25543481],\n",
              "       [0.09960731, 0.33450034, 0.02984399, 0.7031271 , 0.02257806,\n",
              "        0.29545961, 0.18131654, 0.50241345, 0.36493926, 0.33434148],\n",
              "       [0.12902906, 0.4333042 , 0.03865924, 0.91081498, 0.02924711,\n",
              "        0.38273171, 0.23487336, 0.65081505, 0.47273408, 0.43309841],\n",
              "       [0.01406421, 0.04723031, 0.00421387, 0.09927916, 0.00318795,\n",
              "        0.04171789, 0.02560128, 0.07093907, 0.05152818, 0.04720788],\n",
              "       [0.11640068, 0.39089566, 0.03487556, 0.82167131, 0.02638462,\n",
              "        0.34527283, 0.21188573, 0.58711821, 0.42646645, 0.39071002]])"
            ]
          },
          "metadata": {},
          "execution_count": 122
        }
      ],
      "source": [
        "A = np.random.uniform(0,1,10)\n",
        "B = np.random.uniform(0,1,10)\n",
        "\n",
        "np.einsum('i->', A)       \n",
        "np.einsum('i,i->i', A, B) \n",
        "np.einsum('i,i', A, B)    \n",
        "np.einsum('i,j->ij', A, B)"
      ]
    },
    {
      "cell_type": "markdown",
      "metadata": {
        "id": "DChjRbbT5fVH"
      },
      "source": [
        "#### 98. Considering a path described by two vectors (X,Y), how to sample it using equidistant samples (★★★)? \n",
        "(**hint**: np.cumsum, np.interp)"
      ]
    },
    {
      "cell_type": "code",
      "execution_count": null,
      "metadata": {
        "collapsed": true,
        "id": "OyxqOgzm5fVH",
        "colab": {
          "base_uri": "https://localhost:8080/"
        },
        "outputId": "b5caba9f-8e89-4004-ef2a-09531738e130"
      },
      "outputs": [
        {
          "output_type": "stream",
          "name": "stdout",
          "text": [
            "[  0.           2.48788858   4.97577716   7.46366574   9.95155432\n",
            "  12.43944289  14.92733147  17.41522005  19.90310863  22.39099721\n",
            "  24.87888579  27.36677437  29.85466295  32.34255152  34.8304401\n",
            "  37.31832868  39.80621726  42.29410584  44.78199442  47.269883\n",
            "  49.75777158  52.24566016  54.73354873  57.22143731  59.70932589\n",
            "  62.19721447  64.68510305  67.17299163  69.66088021  72.14876879\n",
            "  74.63665736  77.12454594  79.61243452  82.1003231   84.58821168\n",
            "  87.07610026  89.56398884  92.05187742  94.539766    97.02765457\n",
            "  99.51554315 102.00343173 104.49132031 106.97920889 109.46709747\n",
            " 111.95498605 114.44287463 116.9307632  119.41865178 121.90654036\n",
            " 124.39442894 126.88231752 129.3702061  131.85809468 134.34598326\n",
            " 136.83387184 139.32176041 141.80964899 144.29753757 146.78542615\n",
            " 149.27331473 151.76120331 154.24909189 156.73698047 159.22486904\n",
            " 161.71275762 164.2006462  166.68853478 169.17642336 171.66431194\n",
            " 174.15220052 176.6400891  179.12797768 181.61586625 184.10375483\n",
            " 186.59164341 189.07953199 191.56742057 194.05530915 196.54319773\n",
            " 199.03108631 201.51897488 204.00686346 206.49475204 208.98264062\n",
            " 211.4705292  213.95841778 216.44630636 218.93419494 221.42208352\n",
            " 223.90997209 226.39786067 228.88574925 231.37363783 233.86152641\n",
            " 236.34941499 238.83730357 241.32519215 243.81308072 246.3009693\n",
            " 248.78885788 251.27674646 253.76463504 256.25252362 258.7404122\n",
            " 261.22830078 263.71618936 266.20407793 268.69196651 271.17985509\n",
            " 273.66774367 276.15563225 278.64352083 281.13140941 283.61929799\n",
            " 286.10718656 288.59507514 291.08296372 293.5708523  296.05874088\n",
            " 298.54662946 301.03451804 303.52240662 306.0102952  308.49818377\n",
            " 310.98607235 313.47396093 315.96184951 318.44973809 320.93762667\n",
            " 323.42551525 325.91340383 328.4012924  330.88918098 333.37706956\n",
            " 335.86495814 338.35284672 340.8407353  343.32862388 345.81651246\n",
            " 348.30440104 350.79228961 353.28017819 355.76806677 358.25595535\n",
            " 360.74384393 363.23173251 365.71962109 368.20750967 370.69539824\n",
            " 373.18328682 375.6711754  378.15906398 380.64695256 383.13484114\n",
            " 385.62272972 388.1106183  390.59850688 393.08639545 395.57428403\n",
            " 398.06217261 400.55006119 403.03794977 405.52583835 408.01372693\n",
            " 410.50161551 412.98950408 415.47739266 417.96528124 420.45316982\n",
            " 422.9410584  425.42894698 427.91683556 430.40472414 432.89261272\n",
            " 435.38050129 437.86838987 440.35627845 442.84416703 445.33205561\n",
            " 447.81994419 450.30783277 452.79572135 455.28360992 457.7714985\n",
            " 460.25938708 462.74727566 465.23516424 467.72305282 470.2109414\n",
            " 472.69882998 475.18671856 477.67460713 480.16249571 482.65038429\n",
            " 485.13827287 487.62616145 490.11405003 492.60193861 495.08982719] [ 0.00000000e+00 -3.73131229e-01 -2.59817608e+00 -3.26212050e+00\n",
            " -2.18442687e+00 -2.98929946e-02  2.42923642e+00  4.54913599e+00\n",
            "  5.92318348e+00  6.35117933e+00  5.82369277e+00  4.46259540e+00\n",
            "  2.47320794e+00  1.09577220e-01 -2.36575300e+00 -4.71261671e+00\n",
            " -6.72701769e+00 -8.25541575e+00 -9.18486120e+00 -9.46381505e+00\n",
            " -9.11085788e+00 -8.12875279e+00 -6.63306046e+00 -4.69271059e+00\n",
            " -2.44736165e+00 -2.05444585e-02  2.46101146e+00  4.86841760e+00\n",
            "  7.08937968e+00  9.02539126e+00  1.05948609e+01  1.17357250e+01\n",
            "  1.24068974e+01  1.25885805e+01  1.22815267e+01  1.15053927e+01\n",
            "  1.02963689e+01  8.70429550e+00  6.78948686e+00  4.61716636e+00\n",
            "  2.25853448e+00 -1.98731680e-01 -2.68040566e+00 -5.11543300e+00\n",
            " -7.41973991e+00 -9.53891040e+00 -1.14237629e+01 -1.29919305e+01\n",
            " -1.42355069e+01 -1.51243232e+01 -1.56061571e+01 -1.57219415e+01\n",
            " -1.54217066e+01 -1.47579136e+01 -1.37255236e+01 -1.23634834e+01\n",
            " -1.07024632e+01 -8.78327367e+00 -6.65029558e+00 -4.35514246e+00\n",
            " -1.94290275e+00  5.28038914e-01  3.00985904e+00  5.45450275e+00\n",
            "  7.80093594e+00  1.00179639e+01  1.20595602e+01  1.38732623e+01\n",
            "  1.54564938e+01  1.67497894e+01  1.77435802e+01  1.84439878e+01\n",
            "  1.87990820e+01  1.88271003e+01  1.85472755e+01  1.79378850e+01\n",
            "  1.70105456e+01  1.58085777e+01  1.43501808e+01  1.26222364e+01\n",
            "  1.06905445e+01  8.58498641e+00  6.33562529e+00  3.96179025e+00\n",
            "  1.51802643e+00 -9.61699044e-01 -3.44349301e+00 -5.88951759e+00\n",
            " -8.26006582e+00 -1.05270865e+01 -1.26610269e+01 -1.46343020e+01\n",
            " -1.64206033e+01 -1.79708499e+01 -1.92894561e+01 -2.03605967e+01\n",
            " -2.11716587e+01 -2.17133504e+01 -2.19797677e+01 -2.19626531e+01\n",
            " -2.16476737e+01 -2.10622561e+01 -2.02145809e+01 -1.91158467e+01\n",
            " -1.77800930e+01 -1.62239930e+01 -1.44666197e+01 -1.25291882e+01\n",
            " -1.04347777e+01 -8.20773276e+00 -5.86978851e+00 -3.45563299e+00\n",
            " -9.92556869e-01  1.49191203e+00  3.97031733e+00  6.41557503e+00\n",
            "  8.80126359e+00  1.11019001e+01  1.32931995e+01  1.53523150e+01\n",
            "  1.72580567e+01  1.89910866e+01  2.05340895e+01  2.18719167e+01\n",
            "  2.29917039e+01  2.38829603e+01  2.45376309e+01  2.49501314e+01\n",
            "  2.51173551e+01  2.50386548e+01  2.47157984e+01  2.41529019e+01\n",
            "  2.33563391e+01  2.23346314e+01  2.10983193e+01  1.96598169e+01\n",
            "  1.80332532e+01  1.62343003e+01  1.42799934e+01  1.21885425e+01\n",
            "  9.97914013e+00  7.67176574e+00  5.28699023e+00  2.84441658e+00\n",
            "  3.68190102e-01 -2.11846865e+00 -4.59426061e+00 -7.03829202e+00\n",
            " -9.43024209e+00 -1.17505186e+01 -1.39803999e+01 -1.61021634e+01\n",
            " -1.80991985e+01 -1.99561058e+01 -2.16587804e+01 -2.31850397e+01\n",
            " -2.45166960e+01 -2.56568097e+01 -2.65976904e+01 -2.73332424e+01\n",
            " -2.78589555e+01 -2.81718833e+01 -2.82706110e+01 -2.81552119e+01\n",
            " -2.78066635e+01 -2.72341677e+01 -2.64578863e+01 -2.54844118e+01\n",
            " -2.43214986e+01 -2.29779690e+01 -2.14636172e+01 -1.97837046e+01\n",
            " -1.79341987e+01 -1.59545785e+01 -1.38585628e+01 -1.16602783e+01\n",
            " -9.37416511e+00 -7.01488958e+00 -4.59184632e+00 -2.12995331e+00\n",
            "  3.50691071e-01  2.83498918e+00  5.30813450e+00  7.75565814e+00\n",
            "  1.01522531e+01  1.24813227e+01  1.47337756e+01  1.68973642e+01\n",
            "  1.89604991e+01  2.09071945e+01  2.26943693e+01  2.43420179e+01\n",
            "  2.58422998e+01  2.71881423e+01  2.83731992e+01  2.93376609e+01\n",
            "  3.01222558e+01  3.07280750e+01  3.11531219e+01  3.13960177e+01] [ 0.00000000e+00  1.74026724e+00  9.81816584e-01 -1.34251287e+00\n",
            " -3.53191891e+00 -4.70449474e+00 -4.59573427e+00 -3.33831870e+00\n",
            " -1.28956083e+00  1.14234685e+00  3.55645601e+00  5.62188218e+00\n",
            "  7.09389488e+00  7.82951803e+00  7.78700678e+00  6.99685666e+00\n",
            "  5.55535240e+00  3.60417006e+00  1.30506373e+00 -1.15819722e+00\n",
            " -3.61328132e+00 -5.89130465e+00 -7.87065053e+00 -9.41689057e+00\n",
            " -1.04714836e+01 -1.09903787e+01 -1.09354306e+01 -1.03330912e+01\n",
            " -9.22690166e+00 -7.67489830e+00 -5.75257980e+00 -3.54832201e+00\n",
            " -1.15854355e+00  1.31709956e+00  3.78023622e+00  6.13780326e+00\n",
            "  8.30540149e+00  1.02098724e+01  1.17910419e+01  1.29972950e+01\n",
            "  1.37774249e+01  1.41319792e+01  1.40585758e+01  1.35636816e+01\n",
            "  1.26345244e+01  1.13409083e+01  9.72216360e+00  7.79464305e+00\n",
            "  5.64544223e+00  3.32503222e+00  8.88107041e-01 -1.59329248e+00\n",
            " -4.05992507e+00 -6.45313746e+00 -8.71327144e+00 -1.07900854e+01\n",
            " -1.26380653e+01 -1.42147006e+01 -1.54892299e+01 -1.64390858e+01\n",
            " -1.70351433e+01 -1.72938948e+01 -1.71685631e+01 -1.67219979e+01\n",
            " -1.59044166e+01 -1.47824153e+01 -1.33665280e+01 -1.16678134e+01\n",
            " -9.75246391e+00 -7.63091465e+00 -5.35345831e+00 -2.96905840e+00\n",
            " -5.09631905e-01  1.97507060e+00  4.44430515e+00  6.85344809e+00\n",
            "  9.15903461e+00  1.13337844e+01  1.33467125e+01  1.51336120e+01\n",
            "  1.66966787e+01  1.80162922e+01  1.90746708e+01  1.98127969e+01\n",
            "  2.02634499e+01  2.04221761e+01  2.02877631e+01  1.98449702e+01\n",
            "  1.90974465e+01  1.80799531e+01  1.68069397e+01  1.52959771e+01\n",
            "  1.35665801e+01  1.16227312e+01  9.51601869e+00  7.27388893e+00\n",
            "  4.92519240e+00  2.49981337e+00  2.82932820e-02 -2.45817963e+00\n",
            " -4.92460367e+00 -7.34030894e+00 -9.67635928e+00 -1.19050601e+01\n",
            " -1.40002645e+01 -1.59376556e+01 -1.76950019e+01 -1.92523833e+01\n",
            " -2.05923861e+01 -2.16995543e+01 -2.25478860e+01 -2.31432552e+01\n",
            " -2.34800725e+01 -2.35556687e+01 -2.33702741e+01 -2.29269662e+01\n",
            " -2.22315865e+01 -2.12926288e+01 -2.01211000e+01 -1.87303570e+01\n",
            " -1.71359212e+01 -1.53552740e+01 -1.34076356e+01 -1.13137308e+01\n",
            " -9.09554383e+00 -6.77606668e+00 -4.37904252e+00 -1.92870828e+00\n",
            "  5.50461201e-01  3.03400451e+00  5.49771780e+00  7.91788934e+00\n",
            "  1.02715222e+01  1.25365431e+01  1.46919953e+01  1.67182148e+01\n",
            "  1.85969872e+01  2.03116866e+01  2.18473923e+01  2.31909872e+01\n",
            "  2.43312337e+01  2.52588296e+01  2.59664444e+01  2.64391214e+01\n",
            "  2.66748505e+01  2.66796333e+01  2.64545680e+01  2.60026765e+01\n",
            "  2.53288265e+01  2.44396400e+01  2.33433894e+01  2.20498837e+01\n",
            "  2.05703459e+01  1.89172843e+01  1.71043584e+01  1.51396391e+01\n",
            "  1.30387952e+01  1.08294252e+01  8.52903617e+00  6.15551380e+00\n",
            "  3.72697869e+00  1.26164946e+00 -1.22228693e+00 -3.70679651e+00\n",
            " -6.17014862e+00 -8.59028675e+00 -1.09516293e+01 -1.32379536e+01\n",
            " -1.54338179e+01 -1.75246263e+01 -1.94966815e+01 -2.13317519e+01\n",
            " -2.29952001e+01 -2.44987532e+01 -2.58335652e+01 -2.69919481e+01\n",
            " -2.79673583e+01 -2.87543764e+01 -2.93186910e+01 -2.96679958e+01\n",
            " -2.98181354e+01 -2.97693731e+01 -2.95229769e+01 -2.90811595e+01\n",
            " -2.84133854e+01 -2.75430665e+01 -2.64934034e+01 -2.52713717e+01\n",
            " -2.38845608e+01 -2.23353782e+01 -2.06051319e+01 -1.87442619e+01\n",
            " -1.67635423e+01 -1.46739620e+01 -1.24866789e+01 -1.01933401e+01\n",
            " -7.83474328e+00 -5.42495146e+00 -2.97607515e+00 -5.00072086e-01]\n"
          ]
        }
      ],
      "source": [
        "phi = np.arange(0, 10*np.pi, 0.1)\n",
        "a = 1\n",
        "x = a*phi*np.cos(phi)\n",
        "y = a*phi*np.sin(phi)\n",
        "\n",
        "dr = (np.diff(x)**2 + np.diff(y)**2)**.5 \n",
        "r = np.zeros_like(x)\n",
        "r[1:] = np.cumsum(dr)                \n",
        "r_int = np.linspace(0, r.max(), 200) \n",
        "x_int = np.interp(r_int, r, x)       \n",
        "y_int = np.interp(r_int, r, y)\n",
        "print(r_int,x_int,y_int )"
      ]
    },
    {
      "cell_type": "markdown",
      "metadata": {
        "id": "YS2GHbOK5fVI"
      },
      "source": [
        "#### 99. Given an integer n and a 2D array X, select from X the rows which can be interpreted as draws from a multinomial distribution with n degrees, i.e., the rows which only contain integers and which sum to n. (★★★) \n",
        "(**hint**: np.logical\\_and.reduce, np.mod)"
      ]
    },
    {
      "cell_type": "code",
      "execution_count": null,
      "metadata": {
        "id": "HH0zCNTB5fVI",
        "colab": {
          "base_uri": "https://localhost:8080/"
        },
        "outputId": "8e94a6d1-9ca5-4d3a-95b0-9f7468e17d0d"
      },
      "outputs": [
        {
          "output_type": "stream",
          "name": "stdout",
          "text": [
            "[[2. 0. 1. 1.]]\n"
          ]
        }
      ],
      "source": [
        "X = np.asarray([[1.0, 0.0, 3.0, 8.0],\n",
        "                [2.0, 0.0, 1.0, 1.0],\n",
        "                [1.5, 2.5, 1.0, 0.0]])\n",
        "n = 4\n",
        "M = np.logical_and.reduce(np.mod(X, 1) == 0, axis=-1)\n",
        "M &= (X.sum(axis=-1) == n)\n",
        "print(X[M])"
      ]
    },
    {
      "cell_type": "markdown",
      "metadata": {
        "id": "UIxgHWa05fVI"
      },
      "source": [
        "#### 100. Compute bootstrapped 95% confidence intervals for the mean of a 1D array X (i.e., resample the elements of an array with replacement N times, compute the mean of each sample, and then compute percentiles over the means). (★★★) \n",
        "(**hint**: np.percentile)"
      ]
    },
    {
      "cell_type": "code",
      "execution_count": null,
      "metadata": {
        "id": "IqO9LJw-5fVJ",
        "colab": {
          "base_uri": "https://localhost:8080/"
        },
        "outputId": "37aeedc1-d337-47ec-c0ce-ccb063eee86a"
      },
      "outputs": [
        {
          "output_type": "stream",
          "name": "stdout",
          "text": [
            "[-0.21870657  0.24025229]\n"
          ]
        }
      ],
      "source": [
        "X = np.random.randn(100) \n",
        "N = 1000 \n",
        "idx = np.random.randint(0, X.size, (N, X.size))\n",
        "means = X[idx].mean(axis=1)\n",
        "confint = np.percentile(means, [2.5, 97.5])\n",
        "print(confint)"
      ]
    }
  ],
  "metadata": {
    "kernelspec": {
      "display_name": "Python 3",
      "language": "python",
      "name": "python3"
    },
    "language_info": {
      "codemirror_mode": {
        "name": "ipython",
        "version": 3
      },
      "file_extension": ".py",
      "mimetype": "text/x-python",
      "name": "python",
      "nbconvert_exporter": "python",
      "pygments_lexer": "ipython3",
      "version": "3.8.3"
    },
    "colab": {
      "name": "Guvi_Assignment_2.ipynb",
      "provenance": [],
      "collapsed_sections": []
    }
  },
  "nbformat": 4,
  "nbformat_minor": 0
}